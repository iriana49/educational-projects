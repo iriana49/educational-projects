{
 "cells": [
  {
   "cell_type": "markdown",
   "metadata": {},
   "source": [
    "# Изучение закономерностей, определяющих успешность игр."
   ]
  },
  {
   "cell_type": "markdown",
   "metadata": {},
   "source": [
    "## Обзор данных."
   ]
  },
  {
   "cell_type": "code",
   "execution_count": 1,
   "metadata": {},
   "outputs": [],
   "source": [
    "import pandas as pd\n",
    "import numpy as np\n",
    "import matplotlib.pyplot as plt\n",
    "import seaborn as sns\n",
    "from scipy import stats as st"
   ]
  },
  {
   "cell_type": "code",
   "execution_count": 2,
   "metadata": {},
   "outputs": [],
   "source": [
    "data = pd.read_csv('games.csv')"
   ]
  },
  {
   "cell_type": "code",
   "execution_count": 3,
   "metadata": {},
   "outputs": [
    {
     "data": {
      "text/html": [
       "<div>\n",
       "<style scoped>\n",
       "    .dataframe tbody tr th:only-of-type {\n",
       "        vertical-align: middle;\n",
       "    }\n",
       "\n",
       "    .dataframe tbody tr th {\n",
       "        vertical-align: top;\n",
       "    }\n",
       "\n",
       "    .dataframe thead th {\n",
       "        text-align: right;\n",
       "    }\n",
       "</style>\n",
       "<table border=\"1\" class=\"dataframe\">\n",
       "  <thead>\n",
       "    <tr style=\"text-align: right;\">\n",
       "      <th></th>\n",
       "      <th>Name</th>\n",
       "      <th>Platform</th>\n",
       "      <th>Year_of_Release</th>\n",
       "      <th>Genre</th>\n",
       "      <th>NA_sales</th>\n",
       "      <th>EU_sales</th>\n",
       "      <th>JP_sales</th>\n",
       "      <th>Other_sales</th>\n",
       "      <th>Critic_Score</th>\n",
       "      <th>User_Score</th>\n",
       "      <th>Rating</th>\n",
       "    </tr>\n",
       "  </thead>\n",
       "  <tbody>\n",
       "    <tr>\n",
       "      <th>0</th>\n",
       "      <td>Wii Sports</td>\n",
       "      <td>Wii</td>\n",
       "      <td>2006.0</td>\n",
       "      <td>Sports</td>\n",
       "      <td>41.36</td>\n",
       "      <td>28.96</td>\n",
       "      <td>3.77</td>\n",
       "      <td>8.45</td>\n",
       "      <td>76.0</td>\n",
       "      <td>8</td>\n",
       "      <td>E</td>\n",
       "    </tr>\n",
       "    <tr>\n",
       "      <th>1</th>\n",
       "      <td>Super Mario Bros.</td>\n",
       "      <td>NES</td>\n",
       "      <td>1985.0</td>\n",
       "      <td>Platform</td>\n",
       "      <td>29.08</td>\n",
       "      <td>3.58</td>\n",
       "      <td>6.81</td>\n",
       "      <td>0.77</td>\n",
       "      <td>NaN</td>\n",
       "      <td>NaN</td>\n",
       "      <td>NaN</td>\n",
       "    </tr>\n",
       "    <tr>\n",
       "      <th>2</th>\n",
       "      <td>Mario Kart Wii</td>\n",
       "      <td>Wii</td>\n",
       "      <td>2008.0</td>\n",
       "      <td>Racing</td>\n",
       "      <td>15.68</td>\n",
       "      <td>12.76</td>\n",
       "      <td>3.79</td>\n",
       "      <td>3.29</td>\n",
       "      <td>82.0</td>\n",
       "      <td>8.3</td>\n",
       "      <td>E</td>\n",
       "    </tr>\n",
       "    <tr>\n",
       "      <th>3</th>\n",
       "      <td>Wii Sports Resort</td>\n",
       "      <td>Wii</td>\n",
       "      <td>2009.0</td>\n",
       "      <td>Sports</td>\n",
       "      <td>15.61</td>\n",
       "      <td>10.93</td>\n",
       "      <td>3.28</td>\n",
       "      <td>2.95</td>\n",
       "      <td>80.0</td>\n",
       "      <td>8</td>\n",
       "      <td>E</td>\n",
       "    </tr>\n",
       "    <tr>\n",
       "      <th>4</th>\n",
       "      <td>Pokemon Red/Pokemon Blue</td>\n",
       "      <td>GB</td>\n",
       "      <td>1996.0</td>\n",
       "      <td>Role-Playing</td>\n",
       "      <td>11.27</td>\n",
       "      <td>8.89</td>\n",
       "      <td>10.22</td>\n",
       "      <td>1.00</td>\n",
       "      <td>NaN</td>\n",
       "      <td>NaN</td>\n",
       "      <td>NaN</td>\n",
       "    </tr>\n",
       "    <tr>\n",
       "      <th>5</th>\n",
       "      <td>Tetris</td>\n",
       "      <td>GB</td>\n",
       "      <td>1989.0</td>\n",
       "      <td>Puzzle</td>\n",
       "      <td>23.20</td>\n",
       "      <td>2.26</td>\n",
       "      <td>4.22</td>\n",
       "      <td>0.58</td>\n",
       "      <td>NaN</td>\n",
       "      <td>NaN</td>\n",
       "      <td>NaN</td>\n",
       "    </tr>\n",
       "    <tr>\n",
       "      <th>6</th>\n",
       "      <td>New Super Mario Bros.</td>\n",
       "      <td>DS</td>\n",
       "      <td>2006.0</td>\n",
       "      <td>Platform</td>\n",
       "      <td>11.28</td>\n",
       "      <td>9.14</td>\n",
       "      <td>6.50</td>\n",
       "      <td>2.88</td>\n",
       "      <td>89.0</td>\n",
       "      <td>8.5</td>\n",
       "      <td>E</td>\n",
       "    </tr>\n",
       "    <tr>\n",
       "      <th>7</th>\n",
       "      <td>Wii Play</td>\n",
       "      <td>Wii</td>\n",
       "      <td>2006.0</td>\n",
       "      <td>Misc</td>\n",
       "      <td>13.96</td>\n",
       "      <td>9.18</td>\n",
       "      <td>2.93</td>\n",
       "      <td>2.84</td>\n",
       "      <td>58.0</td>\n",
       "      <td>6.6</td>\n",
       "      <td>E</td>\n",
       "    </tr>\n",
       "    <tr>\n",
       "      <th>8</th>\n",
       "      <td>New Super Mario Bros. Wii</td>\n",
       "      <td>Wii</td>\n",
       "      <td>2009.0</td>\n",
       "      <td>Platform</td>\n",
       "      <td>14.44</td>\n",
       "      <td>6.94</td>\n",
       "      <td>4.70</td>\n",
       "      <td>2.24</td>\n",
       "      <td>87.0</td>\n",
       "      <td>8.4</td>\n",
       "      <td>E</td>\n",
       "    </tr>\n",
       "    <tr>\n",
       "      <th>9</th>\n",
       "      <td>Duck Hunt</td>\n",
       "      <td>NES</td>\n",
       "      <td>1984.0</td>\n",
       "      <td>Shooter</td>\n",
       "      <td>26.93</td>\n",
       "      <td>0.63</td>\n",
       "      <td>0.28</td>\n",
       "      <td>0.47</td>\n",
       "      <td>NaN</td>\n",
       "      <td>NaN</td>\n",
       "      <td>NaN</td>\n",
       "    </tr>\n",
       "  </tbody>\n",
       "</table>\n",
       "</div>"
      ],
      "text/plain": [
       "                        Name Platform  Year_of_Release         Genre  \\\n",
       "0                 Wii Sports      Wii           2006.0        Sports   \n",
       "1          Super Mario Bros.      NES           1985.0      Platform   \n",
       "2             Mario Kart Wii      Wii           2008.0        Racing   \n",
       "3          Wii Sports Resort      Wii           2009.0        Sports   \n",
       "4   Pokemon Red/Pokemon Blue       GB           1996.0  Role-Playing   \n",
       "5                     Tetris       GB           1989.0        Puzzle   \n",
       "6      New Super Mario Bros.       DS           2006.0      Platform   \n",
       "7                   Wii Play      Wii           2006.0          Misc   \n",
       "8  New Super Mario Bros. Wii      Wii           2009.0      Platform   \n",
       "9                  Duck Hunt      NES           1984.0       Shooter   \n",
       "\n",
       "   NA_sales  EU_sales  JP_sales  Other_sales  Critic_Score User_Score Rating  \n",
       "0     41.36     28.96      3.77         8.45          76.0          8      E  \n",
       "1     29.08      3.58      6.81         0.77           NaN        NaN    NaN  \n",
       "2     15.68     12.76      3.79         3.29          82.0        8.3      E  \n",
       "3     15.61     10.93      3.28         2.95          80.0          8      E  \n",
       "4     11.27      8.89     10.22         1.00           NaN        NaN    NaN  \n",
       "5     23.20      2.26      4.22         0.58           NaN        NaN    NaN  \n",
       "6     11.28      9.14      6.50         2.88          89.0        8.5      E  \n",
       "7     13.96      9.18      2.93         2.84          58.0        6.6      E  \n",
       "8     14.44      6.94      4.70         2.24          87.0        8.4      E  \n",
       "9     26.93      0.63      0.28         0.47           NaN        NaN    NaN  "
      ]
     },
     "execution_count": 3,
     "metadata": {},
     "output_type": "execute_result"
    }
   ],
   "source": [
    "data.head(10)"
   ]
  },
  {
   "cell_type": "code",
   "execution_count": 4,
   "metadata": {},
   "outputs": [
    {
     "name": "stdout",
     "output_type": "stream",
     "text": [
      "<class 'pandas.core.frame.DataFrame'>\n",
      "RangeIndex: 16715 entries, 0 to 16714\n",
      "Data columns (total 11 columns):\n",
      " #   Column           Non-Null Count  Dtype  \n",
      "---  ------           --------------  -----  \n",
      " 0   Name             16713 non-null  object \n",
      " 1   Platform         16715 non-null  object \n",
      " 2   Year_of_Release  16446 non-null  float64\n",
      " 3   Genre            16713 non-null  object \n",
      " 4   NA_sales         16715 non-null  float64\n",
      " 5   EU_sales         16715 non-null  float64\n",
      " 6   JP_sales         16715 non-null  float64\n",
      " 7   Other_sales      16715 non-null  float64\n",
      " 8   Critic_Score     8137 non-null   float64\n",
      " 9   User_Score       10014 non-null  object \n",
      " 10  Rating           9949 non-null   object \n",
      "dtypes: float64(6), object(5)\n",
      "memory usage: 1.4+ MB\n"
     ]
    }
   ],
   "source": [
    "data.info()"
   ]
  },
  {
   "cell_type": "markdown",
   "metadata": {},
   "source": [
    "Согласно документации к данным:\n",
    "- Name — название игры\n",
    "- Platform — платформа\n",
    "- Year_of_Release — год выпуска\n",
    "- Genre — жанр игры\n",
    "- NA_sales — продажи в Северной Америке (миллионы проданных копий)\n",
    "- EU_sales — продажи в Европе (миллионы проданных копий)\n",
    "- JP_sales — продажи в Японии (миллионы проданных копий)\n",
    "- Other_sales — продажи в других странах (миллионы проданных копий)\n",
    "- Critic_Score — оценка критиков (максимум 100)\n",
    "- User_Score — оценка пользователей (максимум 10)\n",
    "- Rating — рейтинг от организацииESRB (англ.Entertainment Software Rating Board). Эта ассоциация определяет рейтинг компьютерных игр и присваивает им подходящую возрастную категорию."
   ]
  },
  {
   "cell_type": "markdown",
   "metadata": {},
   "source": [
    "### Вывод.\n",
    "- Название столбцов не приведено к нижнему регистру. \n",
    "- Столбцы year_of_release и user_score не в том типе.\n",
    "- Пропуски в столбцах year_of_release, critic_score, user_score, name, genre и rating."
   ]
  },
  {
   "cell_type": "markdown",
   "metadata": {},
   "source": [
    "## Предобработка данных"
   ]
  },
  {
   "cell_type": "code",
   "execution_count": 5,
   "metadata": {},
   "outputs": [
    {
     "data": {
      "text/plain": [
       "Index(['Name', 'Platform', 'Year_of_Release', 'Genre', 'NA_sales', 'EU_sales',\n",
       "       'JP_sales', 'Other_sales', 'Critic_Score', 'User_Score', 'Rating'],\n",
       "      dtype='object')"
      ]
     },
     "execution_count": 5,
     "metadata": {},
     "output_type": "execute_result"
    }
   ],
   "source": [
    "data.columns"
   ]
  },
  {
   "cell_type": "markdown",
   "metadata": {},
   "source": [
    "Заменим название столбцов, приведем к нижнему регистру."
   ]
  },
  {
   "cell_type": "code",
   "execution_count": 6,
   "metadata": {},
   "outputs": [],
   "source": [
    "data.columns= data.columns.str.lower()"
   ]
  },
  {
   "cell_type": "code",
   "execution_count": 7,
   "metadata": {},
   "outputs": [
    {
     "data": {
      "text/plain": [
       "Index(['name', 'platform', 'year_of_release', 'genre', 'na_sales', 'eu_sales',\n",
       "       'jp_sales', 'other_sales', 'critic_score', 'user_score', 'rating'],\n",
       "      dtype='object')"
      ]
     },
     "execution_count": 7,
     "metadata": {},
     "output_type": "execute_result"
    }
   ],
   "source": [
    "data.columns"
   ]
  },
  {
   "cell_type": "markdown",
   "metadata": {},
   "source": [
    "Преобразуем данные в нужные типы:\n",
    "- столбец year_of_release в целочисленный тип так как это год и он не может быть дробным;\n",
    "- столбец user_score в вещественный, так как имеется дробная часть."
   ]
  },
  {
   "cell_type": "code",
   "execution_count": 8,
   "metadata": {},
   "outputs": [],
   "source": [
    "data['year_of_release'] = np.int16(data['year_of_release'])"
   ]
  },
  {
   "cell_type": "code",
   "execution_count": 9,
   "metadata": {},
   "outputs": [],
   "source": [
    "data['user_score'] = pd.to_numeric(data['user_score'], errors='coerce')"
   ]
  },
  {
   "cell_type": "code",
   "execution_count": 10,
   "metadata": {},
   "outputs": [
    {
     "name": "stdout",
     "output_type": "stream",
     "text": [
      "<class 'pandas.core.frame.DataFrame'>\n",
      "RangeIndex: 16715 entries, 0 to 16714\n",
      "Data columns (total 11 columns):\n",
      " #   Column           Non-Null Count  Dtype  \n",
      "---  ------           --------------  -----  \n",
      " 0   name             16713 non-null  object \n",
      " 1   platform         16715 non-null  object \n",
      " 2   year_of_release  16715 non-null  int16  \n",
      " 3   genre            16713 non-null  object \n",
      " 4   na_sales         16715 non-null  float64\n",
      " 5   eu_sales         16715 non-null  float64\n",
      " 6   jp_sales         16715 non-null  float64\n",
      " 7   other_sales      16715 non-null  float64\n",
      " 8   critic_score     8137 non-null   float64\n",
      " 9   user_score       7590 non-null   float64\n",
      " 10  rating           9949 non-null   object \n",
      "dtypes: float64(6), int16(1), object(4)\n",
      "memory usage: 1.3+ MB\n"
     ]
    }
   ],
   "source": [
    "data.info()"
   ]
  },
  {
   "cell_type": "code",
   "execution_count": 11,
   "metadata": {},
   "outputs": [
    {
     "data": {
      "text/plain": [
       "name                  2\n",
       "platform              0\n",
       "year_of_release       0\n",
       "genre                 2\n",
       "na_sales              0\n",
       "eu_sales              0\n",
       "jp_sales              0\n",
       "other_sales           0\n",
       "critic_score       8578\n",
       "user_score         9125\n",
       "rating             6766\n",
       "dtype: int64"
      ]
     },
     "execution_count": 11,
     "metadata": {},
     "output_type": "execute_result"
    }
   ],
   "source": [
    "data.isna().sum()"
   ]
  },
  {
   "cell_type": "markdown",
   "metadata": {},
   "source": [
    "Пропуски в столбцах critic_score и user_score пропуски скорее всего говорят о том, что оценки не проводились. В столбце user_score встречается аббревиатура 'tbd' (от 'To Be Determined') - означает, что рейтинг появится в скором времени. Подобные пропуски лучше не заполнять. Аббревиатуру 'tbd' привести к значению NaN, что было сделано выше. Пропуски в столбцах name, genre и rating заменим на строку 'unknown'."
   ]
  },
  {
   "cell_type": "code",
   "execution_count": 12,
   "metadata": {},
   "outputs": [],
   "source": [
    "columns_to_replace=['name', 'genre', 'rating']\n",
    "for column in columns_to_replace:\n",
    "    data[column] = data[column].fillna('unknown')"
   ]
  },
  {
   "cell_type": "code",
   "execution_count": 13,
   "metadata": {},
   "outputs": [
    {
     "data": {
      "text/plain": [
       "name                  0\n",
       "platform              0\n",
       "year_of_release       0\n",
       "genre                 0\n",
       "na_sales              0\n",
       "eu_sales              0\n",
       "jp_sales              0\n",
       "other_sales           0\n",
       "critic_score       8578\n",
       "user_score         9125\n",
       "rating                0\n",
       "dtype: int64"
      ]
     },
     "execution_count": 13,
     "metadata": {},
     "output_type": "execute_result"
    }
   ],
   "source": [
    "data.isna().sum()"
   ]
  },
  {
   "cell_type": "markdown",
   "metadata": {},
   "source": [
    "Посчитаем суммарные продажи во всех регионах и запишем их в отдельный столбец."
   ]
  },
  {
   "cell_type": "code",
   "execution_count": 14,
   "metadata": {},
   "outputs": [],
   "source": [
    "def sales(row):\n",
    "    na_sales = row['na_sales']\n",
    "    eu_sales = row['eu_sales']\n",
    "    jp_sales = row['jp_sales']\n",
    "    other_sales = row['other_sales']\n",
    "    return na_sales+eu_sales+jp_sales+other_sales"
   ]
  },
  {
   "cell_type": "code",
   "execution_count": 15,
   "metadata": {
    "scrolled": true
   },
   "outputs": [
    {
     "data": {
      "text/html": [
       "<div>\n",
       "<style scoped>\n",
       "    .dataframe tbody tr th:only-of-type {\n",
       "        vertical-align: middle;\n",
       "    }\n",
       "\n",
       "    .dataframe tbody tr th {\n",
       "        vertical-align: top;\n",
       "    }\n",
       "\n",
       "    .dataframe thead th {\n",
       "        text-align: right;\n",
       "    }\n",
       "</style>\n",
       "<table border=\"1\" class=\"dataframe\">\n",
       "  <thead>\n",
       "    <tr style=\"text-align: right;\">\n",
       "      <th></th>\n",
       "      <th>name</th>\n",
       "      <th>platform</th>\n",
       "      <th>year_of_release</th>\n",
       "      <th>genre</th>\n",
       "      <th>na_sales</th>\n",
       "      <th>eu_sales</th>\n",
       "      <th>jp_sales</th>\n",
       "      <th>other_sales</th>\n",
       "      <th>critic_score</th>\n",
       "      <th>user_score</th>\n",
       "      <th>rating</th>\n",
       "      <th>sales</th>\n",
       "    </tr>\n",
       "  </thead>\n",
       "  <tbody>\n",
       "    <tr>\n",
       "      <th>0</th>\n",
       "      <td>Wii Sports</td>\n",
       "      <td>Wii</td>\n",
       "      <td>2006</td>\n",
       "      <td>Sports</td>\n",
       "      <td>41.36</td>\n",
       "      <td>28.96</td>\n",
       "      <td>3.77</td>\n",
       "      <td>8.45</td>\n",
       "      <td>76.0</td>\n",
       "      <td>8.0</td>\n",
       "      <td>E</td>\n",
       "      <td>82.54</td>\n",
       "    </tr>\n",
       "    <tr>\n",
       "      <th>1</th>\n",
       "      <td>Super Mario Bros.</td>\n",
       "      <td>NES</td>\n",
       "      <td>1985</td>\n",
       "      <td>Platform</td>\n",
       "      <td>29.08</td>\n",
       "      <td>3.58</td>\n",
       "      <td>6.81</td>\n",
       "      <td>0.77</td>\n",
       "      <td>NaN</td>\n",
       "      <td>NaN</td>\n",
       "      <td>unknown</td>\n",
       "      <td>40.24</td>\n",
       "    </tr>\n",
       "    <tr>\n",
       "      <th>2</th>\n",
       "      <td>Mario Kart Wii</td>\n",
       "      <td>Wii</td>\n",
       "      <td>2008</td>\n",
       "      <td>Racing</td>\n",
       "      <td>15.68</td>\n",
       "      <td>12.76</td>\n",
       "      <td>3.79</td>\n",
       "      <td>3.29</td>\n",
       "      <td>82.0</td>\n",
       "      <td>8.3</td>\n",
       "      <td>E</td>\n",
       "      <td>35.52</td>\n",
       "    </tr>\n",
       "    <tr>\n",
       "      <th>3</th>\n",
       "      <td>Wii Sports Resort</td>\n",
       "      <td>Wii</td>\n",
       "      <td>2009</td>\n",
       "      <td>Sports</td>\n",
       "      <td>15.61</td>\n",
       "      <td>10.93</td>\n",
       "      <td>3.28</td>\n",
       "      <td>2.95</td>\n",
       "      <td>80.0</td>\n",
       "      <td>8.0</td>\n",
       "      <td>E</td>\n",
       "      <td>32.77</td>\n",
       "    </tr>\n",
       "    <tr>\n",
       "      <th>4</th>\n",
       "      <td>Pokemon Red/Pokemon Blue</td>\n",
       "      <td>GB</td>\n",
       "      <td>1996</td>\n",
       "      <td>Role-Playing</td>\n",
       "      <td>11.27</td>\n",
       "      <td>8.89</td>\n",
       "      <td>10.22</td>\n",
       "      <td>1.00</td>\n",
       "      <td>NaN</td>\n",
       "      <td>NaN</td>\n",
       "      <td>unknown</td>\n",
       "      <td>31.38</td>\n",
       "    </tr>\n",
       "  </tbody>\n",
       "</table>\n",
       "</div>"
      ],
      "text/plain": [
       "                       name platform  year_of_release         genre  na_sales  \\\n",
       "0                Wii Sports      Wii             2006        Sports     41.36   \n",
       "1         Super Mario Bros.      NES             1985      Platform     29.08   \n",
       "2            Mario Kart Wii      Wii             2008        Racing     15.68   \n",
       "3         Wii Sports Resort      Wii             2009        Sports     15.61   \n",
       "4  Pokemon Red/Pokemon Blue       GB             1996  Role-Playing     11.27   \n",
       "\n",
       "   eu_sales  jp_sales  other_sales  critic_score  user_score   rating  sales  \n",
       "0     28.96      3.77         8.45          76.0         8.0        E  82.54  \n",
       "1      3.58      6.81         0.77           NaN         NaN  unknown  40.24  \n",
       "2     12.76      3.79         3.29          82.0         8.3        E  35.52  \n",
       "3     10.93      3.28         2.95          80.0         8.0        E  32.77  \n",
       "4      8.89     10.22         1.00           NaN         NaN  unknown  31.38  "
      ]
     },
     "execution_count": 15,
     "metadata": {},
     "output_type": "execute_result"
    }
   ],
   "source": [
    "data['sales'] = data.apply(sales, axis=1)\n",
    "data.head()"
   ]
  },
  {
   "cell_type": "markdown",
   "metadata": {},
   "source": [
    "В колонке year_of_release присутствует значение 0, которые обозначают пропуски."
   ]
  },
  {
   "cell_type": "code",
   "execution_count": 16,
   "metadata": {},
   "outputs": [
    {
     "data": {
      "text/plain": [
       "1.609332934489979"
      ]
     },
     "execution_count": 16,
     "metadata": {},
     "output_type": "execute_result"
    }
   ],
   "source": [
    "data.query('year_of_release==0')['year_of_release'].count()/data['year_of_release'].count()*100"
   ]
  },
  {
   "cell_type": "markdown",
   "metadata": {},
   "source": [
    "Так как процент данных с пропусками невелик (1.6%), то эти данные можно отбросить."
   ]
  },
  {
   "cell_type": "code",
   "execution_count": 17,
   "metadata": {},
   "outputs": [
    {
     "data": {
      "text/html": [
       "<div>\n",
       "<style scoped>\n",
       "    .dataframe tbody tr th:only-of-type {\n",
       "        vertical-align: middle;\n",
       "    }\n",
       "\n",
       "    .dataframe tbody tr th {\n",
       "        vertical-align: top;\n",
       "    }\n",
       "\n",
       "    .dataframe thead th {\n",
       "        text-align: right;\n",
       "    }\n",
       "</style>\n",
       "<table border=\"1\" class=\"dataframe\">\n",
       "  <thead>\n",
       "    <tr style=\"text-align: right;\">\n",
       "      <th></th>\n",
       "      <th>name</th>\n",
       "      <th>platform</th>\n",
       "      <th>year_of_release</th>\n",
       "      <th>genre</th>\n",
       "      <th>na_sales</th>\n",
       "      <th>eu_sales</th>\n",
       "      <th>jp_sales</th>\n",
       "      <th>other_sales</th>\n",
       "      <th>critic_score</th>\n",
       "      <th>user_score</th>\n",
       "      <th>rating</th>\n",
       "      <th>sales</th>\n",
       "    </tr>\n",
       "  </thead>\n",
       "  <tbody>\n",
       "    <tr>\n",
       "      <th>0</th>\n",
       "      <td>Wii Sports</td>\n",
       "      <td>Wii</td>\n",
       "      <td>2006</td>\n",
       "      <td>Sports</td>\n",
       "      <td>41.36</td>\n",
       "      <td>28.96</td>\n",
       "      <td>3.77</td>\n",
       "      <td>8.45</td>\n",
       "      <td>76.0</td>\n",
       "      <td>8.0</td>\n",
       "      <td>E</td>\n",
       "      <td>82.54</td>\n",
       "    </tr>\n",
       "    <tr>\n",
       "      <th>1</th>\n",
       "      <td>Super Mario Bros.</td>\n",
       "      <td>NES</td>\n",
       "      <td>1985</td>\n",
       "      <td>Platform</td>\n",
       "      <td>29.08</td>\n",
       "      <td>3.58</td>\n",
       "      <td>6.81</td>\n",
       "      <td>0.77</td>\n",
       "      <td>NaN</td>\n",
       "      <td>NaN</td>\n",
       "      <td>unknown</td>\n",
       "      <td>40.24</td>\n",
       "    </tr>\n",
       "    <tr>\n",
       "      <th>2</th>\n",
       "      <td>Mario Kart Wii</td>\n",
       "      <td>Wii</td>\n",
       "      <td>2008</td>\n",
       "      <td>Racing</td>\n",
       "      <td>15.68</td>\n",
       "      <td>12.76</td>\n",
       "      <td>3.79</td>\n",
       "      <td>3.29</td>\n",
       "      <td>82.0</td>\n",
       "      <td>8.3</td>\n",
       "      <td>E</td>\n",
       "      <td>35.52</td>\n",
       "    </tr>\n",
       "    <tr>\n",
       "      <th>3</th>\n",
       "      <td>Wii Sports Resort</td>\n",
       "      <td>Wii</td>\n",
       "      <td>2009</td>\n",
       "      <td>Sports</td>\n",
       "      <td>15.61</td>\n",
       "      <td>10.93</td>\n",
       "      <td>3.28</td>\n",
       "      <td>2.95</td>\n",
       "      <td>80.0</td>\n",
       "      <td>8.0</td>\n",
       "      <td>E</td>\n",
       "      <td>32.77</td>\n",
       "    </tr>\n",
       "    <tr>\n",
       "      <th>4</th>\n",
       "      <td>Pokemon Red/Pokemon Blue</td>\n",
       "      <td>GB</td>\n",
       "      <td>1996</td>\n",
       "      <td>Role-Playing</td>\n",
       "      <td>11.27</td>\n",
       "      <td>8.89</td>\n",
       "      <td>10.22</td>\n",
       "      <td>1.00</td>\n",
       "      <td>NaN</td>\n",
       "      <td>NaN</td>\n",
       "      <td>unknown</td>\n",
       "      <td>31.38</td>\n",
       "    </tr>\n",
       "  </tbody>\n",
       "</table>\n",
       "</div>"
      ],
      "text/plain": [
       "                       name platform  year_of_release         genre  na_sales  \\\n",
       "0                Wii Sports      Wii             2006        Sports     41.36   \n",
       "1         Super Mario Bros.      NES             1985      Platform     29.08   \n",
       "2            Mario Kart Wii      Wii             2008        Racing     15.68   \n",
       "3         Wii Sports Resort      Wii             2009        Sports     15.61   \n",
       "4  Pokemon Red/Pokemon Blue       GB             1996  Role-Playing     11.27   \n",
       "\n",
       "   eu_sales  jp_sales  other_sales  critic_score  user_score   rating  sales  \n",
       "0     28.96      3.77         8.45          76.0         8.0        E  82.54  \n",
       "1      3.58      6.81         0.77           NaN         NaN  unknown  40.24  \n",
       "2     12.76      3.79         3.29          82.0         8.3        E  35.52  \n",
       "3     10.93      3.28         2.95          80.0         8.0        E  32.77  \n",
       "4      8.89     10.22         1.00           NaN         NaN  unknown  31.38  "
      ]
     },
     "execution_count": 17,
     "metadata": {},
     "output_type": "execute_result"
    }
   ],
   "source": [
    "data = data.query('year_of_release!=0')\n",
    "data.head()"
   ]
  },
  {
   "cell_type": "markdown",
   "metadata": {},
   "source": [
    "### Вывод.\n",
    "- Название столбцов приведено к нижнему регистру. \n",
    "- столбец year_of_release преобразован в целочисленный тип, а столбец user_score в вещественный.\n",
    "- Пропуски в столбцах critic_score и user_score пропуски скорее всего говорят о том, что оценки не проводились. В столбце user_score встречается аббревиатура 'tbd' (от 'To Be Determined') - означает, что рейтинг появится в скором времени. Подобные пропуски лучше не заполнять. Аббревиатуру 'tbd' привести к значению NaN, что было сделано выше. Пропуски в столбцах name, genre и rating заменим на строку 'unknown'.\n",
    "- Посчитаны суммарные продажи во всех регионах и записаны в отдельный столбец.\n",
    "- Отброшены данные со значением 0 в колонке year_of_release."
   ]
  },
  {
   "cell_type": "markdown",
   "metadata": {},
   "source": [
    "##  Исследовательский анализ данных"
   ]
  },
  {
   "cell_type": "markdown",
   "metadata": {},
   "source": [
    "Посмотрим, сколько игр выпускалось в разные годы."
   ]
  },
  {
   "cell_type": "code",
   "execution_count": 18,
   "metadata": {},
   "outputs": [
    {
     "data": {
      "text/plain": [
       "2008    1427\n",
       "2009    1426\n",
       "2010    1255\n",
       "2007    1197\n",
       "2011    1136\n",
       "2006    1006\n",
       "2005     939\n",
       "2002     829\n",
       "2003     775\n",
       "2004     762\n",
       "2012     653\n",
       "2015     606\n",
       "2014     581\n",
       "2013     544\n",
       "2016     502\n",
       "2001     482\n",
       "1998     379\n",
       "2000     350\n",
       "1999     338\n",
       "1997     289\n",
       "1996     263\n",
       "1995     219\n",
       "1994     121\n",
       "1993      62\n",
       "1981      46\n",
       "1992      43\n",
       "1991      41\n",
       "1982      36\n",
       "1986      21\n",
       "1989      17\n",
       "1983      17\n",
       "1990      16\n",
       "1987      16\n",
       "1988      15\n",
       "1985      14\n",
       "1984      14\n",
       "1980       9\n",
       "Name: year_of_release, dtype: int64"
      ]
     },
     "execution_count": 18,
     "metadata": {},
     "output_type": "execute_result"
    }
   ],
   "source": [
    "data['year_of_release'].value_counts()"
   ]
  },
  {
   "cell_type": "markdown",
   "metadata": {},
   "source": [
    "До 1994 года выпуск игр мал."
   ]
  },
  {
   "cell_type": "code",
   "execution_count": 19,
   "metadata": {},
   "outputs": [
    {
     "data": {
      "text/html": [
       "<div>\n",
       "<style scoped>\n",
       "    .dataframe tbody tr th:only-of-type {\n",
       "        vertical-align: middle;\n",
       "    }\n",
       "\n",
       "    .dataframe tbody tr th {\n",
       "        vertical-align: top;\n",
       "    }\n",
       "\n",
       "    .dataframe thead th {\n",
       "        text-align: right;\n",
       "    }\n",
       "</style>\n",
       "<table border=\"1\" class=\"dataframe\">\n",
       "  <thead>\n",
       "    <tr style=\"text-align: right;\">\n",
       "      <th></th>\n",
       "      <th>name</th>\n",
       "      <th>platform</th>\n",
       "      <th>year_of_release</th>\n",
       "      <th>genre</th>\n",
       "      <th>na_sales</th>\n",
       "      <th>eu_sales</th>\n",
       "      <th>jp_sales</th>\n",
       "      <th>other_sales</th>\n",
       "      <th>critic_score</th>\n",
       "      <th>user_score</th>\n",
       "      <th>rating</th>\n",
       "      <th>sales</th>\n",
       "    </tr>\n",
       "  </thead>\n",
       "  <tbody>\n",
       "    <tr>\n",
       "      <th>0</th>\n",
       "      <td>Wii Sports</td>\n",
       "      <td>Wii</td>\n",
       "      <td>2006</td>\n",
       "      <td>Sports</td>\n",
       "      <td>41.36</td>\n",
       "      <td>28.96</td>\n",
       "      <td>3.77</td>\n",
       "      <td>8.45</td>\n",
       "      <td>76.0</td>\n",
       "      <td>8.0</td>\n",
       "      <td>E</td>\n",
       "      <td>82.54</td>\n",
       "    </tr>\n",
       "    <tr>\n",
       "      <th>2</th>\n",
       "      <td>Mario Kart Wii</td>\n",
       "      <td>Wii</td>\n",
       "      <td>2008</td>\n",
       "      <td>Racing</td>\n",
       "      <td>15.68</td>\n",
       "      <td>12.76</td>\n",
       "      <td>3.79</td>\n",
       "      <td>3.29</td>\n",
       "      <td>82.0</td>\n",
       "      <td>8.3</td>\n",
       "      <td>E</td>\n",
       "      <td>35.52</td>\n",
       "    </tr>\n",
       "    <tr>\n",
       "      <th>3</th>\n",
       "      <td>Wii Sports Resort</td>\n",
       "      <td>Wii</td>\n",
       "      <td>2009</td>\n",
       "      <td>Sports</td>\n",
       "      <td>15.61</td>\n",
       "      <td>10.93</td>\n",
       "      <td>3.28</td>\n",
       "      <td>2.95</td>\n",
       "      <td>80.0</td>\n",
       "      <td>8.0</td>\n",
       "      <td>E</td>\n",
       "      <td>32.77</td>\n",
       "    </tr>\n",
       "    <tr>\n",
       "      <th>4</th>\n",
       "      <td>Pokemon Red/Pokemon Blue</td>\n",
       "      <td>GB</td>\n",
       "      <td>1996</td>\n",
       "      <td>Role-Playing</td>\n",
       "      <td>11.27</td>\n",
       "      <td>8.89</td>\n",
       "      <td>10.22</td>\n",
       "      <td>1.00</td>\n",
       "      <td>NaN</td>\n",
       "      <td>NaN</td>\n",
       "      <td>unknown</td>\n",
       "      <td>31.38</td>\n",
       "    </tr>\n",
       "    <tr>\n",
       "      <th>6</th>\n",
       "      <td>New Super Mario Bros.</td>\n",
       "      <td>DS</td>\n",
       "      <td>2006</td>\n",
       "      <td>Platform</td>\n",
       "      <td>11.28</td>\n",
       "      <td>9.14</td>\n",
       "      <td>6.50</td>\n",
       "      <td>2.88</td>\n",
       "      <td>89.0</td>\n",
       "      <td>8.5</td>\n",
       "      <td>E</td>\n",
       "      <td>29.80</td>\n",
       "    </tr>\n",
       "  </tbody>\n",
       "</table>\n",
       "</div>"
      ],
      "text/plain": [
       "                       name platform  year_of_release         genre  na_sales  \\\n",
       "0                Wii Sports      Wii             2006        Sports     41.36   \n",
       "2            Mario Kart Wii      Wii             2008        Racing     15.68   \n",
       "3         Wii Sports Resort      Wii             2009        Sports     15.61   \n",
       "4  Pokemon Red/Pokemon Blue       GB             1996  Role-Playing     11.27   \n",
       "6     New Super Mario Bros.       DS             2006      Platform     11.28   \n",
       "\n",
       "   eu_sales  jp_sales  other_sales  critic_score  user_score   rating  sales  \n",
       "0     28.96      3.77         8.45          76.0         8.0        E  82.54  \n",
       "2     12.76      3.79         3.29          82.0         8.3        E  35.52  \n",
       "3     10.93      3.28         2.95          80.0         8.0        E  32.77  \n",
       "4      8.89     10.22         1.00           NaN         NaN  unknown  31.38  \n",
       "6      9.14      6.50         2.88          89.0         8.5        E  29.80  "
      ]
     },
     "execution_count": 19,
     "metadata": {},
     "output_type": "execute_result"
    }
   ],
   "source": [
    "data = data.query('year_of_release>=1994')\n",
    "data.head()"
   ]
  },
  {
   "cell_type": "markdown",
   "metadata": {},
   "source": [
    "Посмотрим, как менялись продажи по платформам."
   ]
  },
  {
   "cell_type": "code",
   "execution_count": 20,
   "metadata": {},
   "outputs": [
    {
     "data": {
      "text/plain": [
       "platform\n",
       "PS2     1233.56\n",
       "X360     961.24\n",
       "PS3      931.34\n",
       "Wii      891.18\n",
       "DS       802.76\n",
       "PS       727.58\n",
       "PS4      314.14\n",
       "GBA      312.88\n",
       "PSP      289.53\n",
       "3DS      257.81\n",
       "PC       252.66\n",
       "XB       251.57\n",
       "N64      218.01\n",
       "GC       196.73\n",
       "XOne     159.32\n",
       "GB       152.08\n",
       "SNES      84.67\n",
       "WiiU      82.19\n",
       "PSV       53.81\n",
       "SAT       33.59\n",
       "DC        15.95\n",
       "GEN        8.13\n",
       "WS         1.42\n",
       "NG         1.23\n",
       "SCD        0.36\n",
       "TG16       0.16\n",
       "NES        0.11\n",
       "3DO        0.10\n",
       "PCFX       0.03\n",
       "Name: sales, dtype: float64"
      ]
     },
     "execution_count": 20,
     "metadata": {},
     "output_type": "execute_result"
    }
   ],
   "source": [
    "data.groupby('platform')['sales'].sum().sort_values(ascending=False)"
   ]
  },
  {
   "cell_type": "markdown",
   "metadata": {},
   "source": [
    "Возьмем первые 6 платформ с самыми большими объемами продаж и построим распределение по годам."
   ]
  },
  {
   "cell_type": "code",
   "execution_count": 21,
   "metadata": {},
   "outputs": [
    {
     "data": {
      "text/html": [
       "<div>\n",
       "<style scoped>\n",
       "    .dataframe tbody tr th:only-of-type {\n",
       "        vertical-align: middle;\n",
       "    }\n",
       "\n",
       "    .dataframe tbody tr th {\n",
       "        vertical-align: top;\n",
       "    }\n",
       "\n",
       "    .dataframe thead th {\n",
       "        text-align: right;\n",
       "    }\n",
       "</style>\n",
       "<table border=\"1\" class=\"dataframe\">\n",
       "  <thead>\n",
       "    <tr style=\"text-align: right;\">\n",
       "      <th></th>\n",
       "      <th>name</th>\n",
       "      <th>platform</th>\n",
       "      <th>year_of_release</th>\n",
       "      <th>genre</th>\n",
       "      <th>na_sales</th>\n",
       "      <th>eu_sales</th>\n",
       "      <th>jp_sales</th>\n",
       "      <th>other_sales</th>\n",
       "      <th>critic_score</th>\n",
       "      <th>user_score</th>\n",
       "      <th>rating</th>\n",
       "      <th>sales</th>\n",
       "    </tr>\n",
       "  </thead>\n",
       "  <tbody>\n",
       "    <tr>\n",
       "      <th>0</th>\n",
       "      <td>Wii Sports</td>\n",
       "      <td>Wii</td>\n",
       "      <td>2006</td>\n",
       "      <td>Sports</td>\n",
       "      <td>41.36</td>\n",
       "      <td>28.96</td>\n",
       "      <td>3.77</td>\n",
       "      <td>8.45</td>\n",
       "      <td>76.0</td>\n",
       "      <td>8.0</td>\n",
       "      <td>E</td>\n",
       "      <td>82.54</td>\n",
       "    </tr>\n",
       "    <tr>\n",
       "      <th>2</th>\n",
       "      <td>Mario Kart Wii</td>\n",
       "      <td>Wii</td>\n",
       "      <td>2008</td>\n",
       "      <td>Racing</td>\n",
       "      <td>15.68</td>\n",
       "      <td>12.76</td>\n",
       "      <td>3.79</td>\n",
       "      <td>3.29</td>\n",
       "      <td>82.0</td>\n",
       "      <td>8.3</td>\n",
       "      <td>E</td>\n",
       "      <td>35.52</td>\n",
       "    </tr>\n",
       "    <tr>\n",
       "      <th>3</th>\n",
       "      <td>Wii Sports Resort</td>\n",
       "      <td>Wii</td>\n",
       "      <td>2009</td>\n",
       "      <td>Sports</td>\n",
       "      <td>15.61</td>\n",
       "      <td>10.93</td>\n",
       "      <td>3.28</td>\n",
       "      <td>2.95</td>\n",
       "      <td>80.0</td>\n",
       "      <td>8.0</td>\n",
       "      <td>E</td>\n",
       "      <td>32.77</td>\n",
       "    </tr>\n",
       "    <tr>\n",
       "      <th>6</th>\n",
       "      <td>New Super Mario Bros.</td>\n",
       "      <td>DS</td>\n",
       "      <td>2006</td>\n",
       "      <td>Platform</td>\n",
       "      <td>11.28</td>\n",
       "      <td>9.14</td>\n",
       "      <td>6.50</td>\n",
       "      <td>2.88</td>\n",
       "      <td>89.0</td>\n",
       "      <td>8.5</td>\n",
       "      <td>E</td>\n",
       "      <td>29.80</td>\n",
       "    </tr>\n",
       "    <tr>\n",
       "      <th>7</th>\n",
       "      <td>Wii Play</td>\n",
       "      <td>Wii</td>\n",
       "      <td>2006</td>\n",
       "      <td>Misc</td>\n",
       "      <td>13.96</td>\n",
       "      <td>9.18</td>\n",
       "      <td>2.93</td>\n",
       "      <td>2.84</td>\n",
       "      <td>58.0</td>\n",
       "      <td>6.6</td>\n",
       "      <td>E</td>\n",
       "      <td>28.91</td>\n",
       "    </tr>\n",
       "  </tbody>\n",
       "</table>\n",
       "</div>"
      ],
      "text/plain": [
       "                    name platform  year_of_release     genre  na_sales  \\\n",
       "0             Wii Sports      Wii             2006    Sports     41.36   \n",
       "2         Mario Kart Wii      Wii             2008    Racing     15.68   \n",
       "3      Wii Sports Resort      Wii             2009    Sports     15.61   \n",
       "6  New Super Mario Bros.       DS             2006  Platform     11.28   \n",
       "7               Wii Play      Wii             2006      Misc     13.96   \n",
       "\n",
       "   eu_sales  jp_sales  other_sales  critic_score  user_score rating  sales  \n",
       "0     28.96      3.77         8.45          76.0         8.0      E  82.54  \n",
       "2     12.76      3.79         3.29          82.0         8.3      E  35.52  \n",
       "3     10.93      3.28         2.95          80.0         8.0      E  32.77  \n",
       "6      9.14      6.50         2.88          89.0         8.5      E  29.80  \n",
       "7      9.18      2.93         2.84          58.0         6.6      E  28.91  "
      ]
     },
     "execution_count": 21,
     "metadata": {},
     "output_type": "execute_result"
    }
   ],
   "source": [
    "data_top_platform = data.query('(platform == \"PS2\")or(platform == \"X360\")or(platform == \"PS3\")or(platform == \"Wii\")or(platform == \"DS\")or(platform == \"PS\")')\n",
    "data_top_platform.head()"
   ]
  },
  {
   "cell_type": "code",
   "execution_count": 22,
   "metadata": {},
   "outputs": [
    {
     "data": {
      "image/png": "[encoded data removed]",
      "text/plain": [
       "<Figure size 432x288 with 1 Axes>"
      ]
     },
     "metadata": {
      "needs_background": "light"
     },
     "output_type": "display_data"
    }
   ],
   "source": [
    "data_top_platform['year_of_release'].hist(bins=20, range=(1994, 2017))\n",
    "plt.title('Распределение продаж по годам для топ 6 платформ')\n",
    "plt.xlabel('Год')\n",
    "plt.show()"
   ]
  },
  {
   "cell_type": "markdown",
   "metadata": {},
   "source": [
    "Больше всего продаж было в 2001 и в 2005-2011 годах."
   ]
  },
  {
   "cell_type": "code",
   "execution_count": 23,
   "metadata": {},
   "outputs": [
    {
     "data": {
      "image/png": "[encoded data removed]",
      "text/plain": [
       "<Figure size 432x288 with 1 Axes>"
      ]
     },
     "metadata": {
      "needs_background": "light"
     },
     "output_type": "display_data"
    }
   ],
   "source": [
    "data_top_platform.query('platform == \"PS2\"')['year_of_release'].hist(range=(1998, 2014))\n",
    "plt.title('Распределение продаж по годам для платформы \"PS2\"')\n",
    "plt.xlabel('Год')\n",
    "plt.show()"
   ]
  },
  {
   "cell_type": "markdown",
   "metadata": {},
   "source": [
    "Платформа \"PS2\" существовала 12 лет (с 1999 по 2012 года), но в последние 3 года существования продажи на ней были очень малы. Максимальные продажи были в 2003 и 2006 годах."
   ]
  },
  {
   "cell_type": "code",
   "execution_count": 24,
   "metadata": {},
   "outputs": [
    {
     "data": {
      "image/png": "[encoded data removed]",
      "text/plain": [
       "<Figure size 432x288 with 1 Axes>"
      ]
     },
     "metadata": {
      "needs_background": "light"
     },
     "output_type": "display_data"
    }
   ],
   "source": [
    "data_top_platform.query('platform == \"X360\"')['year_of_release'].hist(range=(2004, 2017))\n",
    "plt.title('Распределение продаж по годам для платформы \"X360\"')\n",
    "plt.xlabel('Год')\n",
    "plt.show()"
   ]
  },
  {
   "cell_type": "markdown",
   "metadata": {},
   "source": [
    "Платформа \"X360\" существовала 12 лет (с 2004 по 2017), но в первый и последние года существования продажи на ней были очень малы. Максимальные продажи были в 2008 году."
   ]
  },
  {
   "cell_type": "code",
   "execution_count": 25,
   "metadata": {},
   "outputs": [
    {
     "data": {
      "image/png": "[encoded data removed]",
      "text/plain": [
       "<Figure size 432x288 with 1 Axes>"
      ]
     },
     "metadata": {
      "needs_background": "light"
     },
     "output_type": "display_data"
    }
   ],
   "source": [
    "data_top_platform.query('platform == \"PS3\"')['year_of_release'].hist(range=(2004, 2017))\n",
    "plt.title('Распределение продаж по годам для платформы \"PS3\"')\n",
    "plt.xlabel('Год')\n",
    "plt.show()"
   ]
  },
  {
   "cell_type": "markdown",
   "metadata": {},
   "source": [
    "Платформа \"PS3\" существовала 11 лет (с 2005 по 2017), но в первый и последние года существования продажи на ней были очень малы. Вероятно, на ней будут небольшие продажи в 2017 году. Максимальные продажи были в 2008 и 2012 годах."
   ]
  },
  {
   "cell_type": "code",
   "execution_count": 26,
   "metadata": {},
   "outputs": [
    {
     "data": {
      "image/png": "[encoded data removed]",
      "text/plain": [
       "<Figure size 432x288 with 1 Axes>"
      ]
     },
     "metadata": {
      "needs_background": "light"
     },
     "output_type": "display_data"
    }
   ],
   "source": [
    "data_top_platform.query('platform == \"Wii\"')['year_of_release'].hist(range=(2005, 2017))\n",
    "plt.title('Распределение продаж по годам для платформы \"Wii\"')\n",
    "plt.xlabel('Год')\n",
    "plt.show()"
   ]
  },
  {
   "cell_type": "markdown",
   "metadata": {},
   "source": [
    "Платформа \"Wii\" существовала 11 лет (с 2005 по 2017). Основной объем продаж происходил с 2006 по 2012 года. Максимальные продажи были в 2009 году."
   ]
  },
  {
   "cell_type": "code",
   "execution_count": 27,
   "metadata": {},
   "outputs": [
    {
     "data": {
      "image/png": "[encoded data removed]",
      "text/plain": [
       "<Figure size 432x288 with 1 Axes>"
      ]
     },
     "metadata": {
      "needs_background": "light"
     },
     "output_type": "display_data"
    }
   ],
   "source": [
    "data_top_platform.query('platform == \"DS\"')['year_of_release'].hist(range=(2003, 2014))\n",
    "plt.title('Распределение продаж по годам для платформы \"DS\"')\n",
    "plt.xlabel('Год')\n",
    "plt.show()"
   ]
  },
  {
   "cell_type": "markdown",
   "metadata": {},
   "source": [
    "Платформа \"DS\" существовала 10 лет (с 2003 по 2014), но в первый и 2 последних годах существования продажи на ней были очень малы. Максимальные продажи были в 2008 году."
   ]
  },
  {
   "cell_type": "code",
   "execution_count": 28,
   "metadata": {},
   "outputs": [
    {
     "data": {
      "image/png": "[encoded data removed]",
      "text/plain": [
       "<Figure size 432x288 with 1 Axes>"
      ]
     },
     "metadata": {
      "needs_background": "light"
     },
     "output_type": "display_data"
    }
   ],
   "source": [
    "data_top_platform.query('platform == \"PS\"')['year_of_release'].hist(range=(1994, 2005))\n",
    "plt.title('Распределение продаж по годам для платформы \"PS\"')\n",
    "plt.xlabel('Год')\n",
    "plt.show()"
   ]
  },
  {
   "cell_type": "markdown",
   "metadata": {},
   "source": [
    "Платформа \"DS\" существовала 9 лет (с 1994 по 2004), но в 2 последних годах существования продажи на ней были очень малы. Максимальные продажи были в 1998 году."
   ]
  },
  {
   "cell_type": "markdown",
   "metadata": {},
   "source": [
    "В среднем платформа существует 11 лет."
   ]
  },
  {
   "cell_type": "markdown",
   "metadata": {},
   "source": [
    "Определим актуальный для того чтобы выбрать данные, которые помогут построить прогноз на 2017 год."
   ]
  },
  {
   "cell_type": "markdown",
   "metadata": {},
   "source": [
    "Построим график распределения продаж по годам для всех платформ."
   ]
  },
  {
   "cell_type": "code",
   "execution_count": 29,
   "metadata": {},
   "outputs": [
    {
     "data": {
      "image/png": "[encoded data removed]",
      "text/plain": [
       "<Figure size 432x288 with 1 Axes>"
      ]
     },
     "metadata": {
      "needs_background": "light"
     },
     "output_type": "display_data"
    }
   ],
   "source": [
    "data['year_of_release'].hist(bins=20, range=(1994, 2017))\n",
    "plt.title('Распределение продаж по годам для всех платформ')\n",
    "plt.xlabel('Год')\n",
    "plt.show()"
   ]
  },
  {
   "cell_type": "markdown",
   "metadata": {},
   "source": [
    "Судя по графикам \"Распределение продаж по годам для всех платформ\" и графикам распределения продаж по годам для каждой платформы, входящей в топ 6, можно выделить актуальный период с 2014 по 2016 года."
   ]
  },
  {
   "cell_type": "code",
   "execution_count": 30,
   "metadata": {},
   "outputs": [
    {
     "data": {
      "text/html": [
       "<div>\n",
       "<style scoped>\n",
       "    .dataframe tbody tr th:only-of-type {\n",
       "        vertical-align: middle;\n",
       "    }\n",
       "\n",
       "    .dataframe tbody tr th {\n",
       "        vertical-align: top;\n",
       "    }\n",
       "\n",
       "    .dataframe thead th {\n",
       "        text-align: right;\n",
       "    }\n",
       "</style>\n",
       "<table border=\"1\" class=\"dataframe\">\n",
       "  <thead>\n",
       "    <tr style=\"text-align: right;\">\n",
       "      <th></th>\n",
       "      <th>name</th>\n",
       "      <th>platform</th>\n",
       "      <th>year_of_release</th>\n",
       "      <th>genre</th>\n",
       "      <th>na_sales</th>\n",
       "      <th>eu_sales</th>\n",
       "      <th>jp_sales</th>\n",
       "      <th>other_sales</th>\n",
       "      <th>critic_score</th>\n",
       "      <th>user_score</th>\n",
       "      <th>rating</th>\n",
       "      <th>sales</th>\n",
       "    </tr>\n",
       "  </thead>\n",
       "  <tbody>\n",
       "    <tr>\n",
       "      <th>31</th>\n",
       "      <td>Call of Duty: Black Ops 3</td>\n",
       "      <td>PS4</td>\n",
       "      <td>2015</td>\n",
       "      <td>Shooter</td>\n",
       "      <td>6.03</td>\n",
       "      <td>5.86</td>\n",
       "      <td>0.36</td>\n",
       "      <td>2.38</td>\n",
       "      <td>NaN</td>\n",
       "      <td>NaN</td>\n",
       "      <td>unknown</td>\n",
       "      <td>14.63</td>\n",
       "    </tr>\n",
       "    <tr>\n",
       "      <th>42</th>\n",
       "      <td>Grand Theft Auto V</td>\n",
       "      <td>PS4</td>\n",
       "      <td>2014</td>\n",
       "      <td>Action</td>\n",
       "      <td>3.96</td>\n",
       "      <td>6.31</td>\n",
       "      <td>0.38</td>\n",
       "      <td>1.97</td>\n",
       "      <td>97.0</td>\n",
       "      <td>8.3</td>\n",
       "      <td>M</td>\n",
       "      <td>12.62</td>\n",
       "    </tr>\n",
       "    <tr>\n",
       "      <th>47</th>\n",
       "      <td>Pokemon Omega Ruby/Pokemon Alpha Sapphire</td>\n",
       "      <td>3DS</td>\n",
       "      <td>2014</td>\n",
       "      <td>Role-Playing</td>\n",
       "      <td>4.35</td>\n",
       "      <td>3.49</td>\n",
       "      <td>3.10</td>\n",
       "      <td>0.74</td>\n",
       "      <td>NaN</td>\n",
       "      <td>NaN</td>\n",
       "      <td>unknown</td>\n",
       "      <td>11.68</td>\n",
       "    </tr>\n",
       "    <tr>\n",
       "      <th>77</th>\n",
       "      <td>FIFA 16</td>\n",
       "      <td>PS4</td>\n",
       "      <td>2015</td>\n",
       "      <td>Sports</td>\n",
       "      <td>1.12</td>\n",
       "      <td>6.12</td>\n",
       "      <td>0.06</td>\n",
       "      <td>1.28</td>\n",
       "      <td>82.0</td>\n",
       "      <td>4.3</td>\n",
       "      <td>E</td>\n",
       "      <td>8.58</td>\n",
       "    </tr>\n",
       "    <tr>\n",
       "      <th>87</th>\n",
       "      <td>Star Wars Battlefront (2015)</td>\n",
       "      <td>PS4</td>\n",
       "      <td>2015</td>\n",
       "      <td>Shooter</td>\n",
       "      <td>2.99</td>\n",
       "      <td>3.49</td>\n",
       "      <td>0.22</td>\n",
       "      <td>1.28</td>\n",
       "      <td>NaN</td>\n",
       "      <td>NaN</td>\n",
       "      <td>unknown</td>\n",
       "      <td>7.98</td>\n",
       "    </tr>\n",
       "  </tbody>\n",
       "</table>\n",
       "</div>"
      ],
      "text/plain": [
       "                                         name platform  year_of_release  \\\n",
       "31                  Call of Duty: Black Ops 3      PS4             2015   \n",
       "42                         Grand Theft Auto V      PS4             2014   \n",
       "47  Pokemon Omega Ruby/Pokemon Alpha Sapphire      3DS             2014   \n",
       "77                                    FIFA 16      PS4             2015   \n",
       "87               Star Wars Battlefront (2015)      PS4             2015   \n",
       "\n",
       "           genre  na_sales  eu_sales  jp_sales  other_sales  critic_score  \\\n",
       "31       Shooter      6.03      5.86      0.36         2.38           NaN   \n",
       "42        Action      3.96      6.31      0.38         1.97          97.0   \n",
       "47  Role-Playing      4.35      3.49      3.10         0.74           NaN   \n",
       "77        Sports      1.12      6.12      0.06         1.28          82.0   \n",
       "87       Shooter      2.99      3.49      0.22         1.28           NaN   \n",
       "\n",
       "    user_score   rating  sales  \n",
       "31         NaN  unknown  14.63  \n",
       "42         8.3        M  12.62  \n",
       "47         NaN  unknown  11.68  \n",
       "77         4.3        E   8.58  \n",
       "87         NaN  unknown   7.98  "
      ]
     },
     "execution_count": 30,
     "metadata": {},
     "output_type": "execute_result"
    }
   ],
   "source": [
    "data_actual = data.query('year_of_release>=2014')\n",
    "data_actual.head()"
   ]
  },
  {
   "cell_type": "markdown",
   "metadata": {},
   "source": [
    "Выберем несколько потенциально прибыльных платформ в актуальном периоде."
   ]
  },
  {
   "cell_type": "code",
   "execution_count": 31,
   "metadata": {},
   "outputs": [
    {
     "data": {
      "text/plain": [
       "platform\n",
       "PS4     288.15\n",
       "XOne    140.36\n",
       "3DS      86.68\n",
       "PS3      68.18\n",
       "X360     48.22\n",
       "WiiU     42.98\n",
       "PC       27.05\n",
       "PSV      22.40\n",
       "Wii       5.07\n",
       "PSP       0.36\n",
       "Name: sales, dtype: float64"
      ]
     },
     "execution_count": 31,
     "metadata": {},
     "output_type": "execute_result"
    }
   ],
   "source": [
    "data_actual.groupby('platform')['sales'].sum().sort_values(ascending=False)"
   ]
  },
  {
   "cell_type": "markdown",
   "metadata": {},
   "source": [
    "В топ 5 потенциально прибыльных платформ в актуальном периоде входят \"PS4\", \"PS3\", \"XOne\", \"3DS\", \"X360\"."
   ]
  },
  {
   "cell_type": "code",
   "execution_count": 32,
   "metadata": {},
   "outputs": [
    {
     "data": {
      "text/html": [
       "<div>\n",
       "<style scoped>\n",
       "    .dataframe tbody tr th:only-of-type {\n",
       "        vertical-align: middle;\n",
       "    }\n",
       "\n",
       "    .dataframe tbody tr th {\n",
       "        vertical-align: top;\n",
       "    }\n",
       "\n",
       "    .dataframe thead th {\n",
       "        text-align: right;\n",
       "    }\n",
       "</style>\n",
       "<table border=\"1\" class=\"dataframe\">\n",
       "  <thead>\n",
       "    <tr style=\"text-align: right;\">\n",
       "      <th></th>\n",
       "      <th>name</th>\n",
       "      <th>platform</th>\n",
       "      <th>year_of_release</th>\n",
       "      <th>genre</th>\n",
       "      <th>na_sales</th>\n",
       "      <th>eu_sales</th>\n",
       "      <th>jp_sales</th>\n",
       "      <th>other_sales</th>\n",
       "      <th>critic_score</th>\n",
       "      <th>user_score</th>\n",
       "      <th>rating</th>\n",
       "      <th>sales</th>\n",
       "    </tr>\n",
       "  </thead>\n",
       "  <tbody>\n",
       "    <tr>\n",
       "      <th>31</th>\n",
       "      <td>Call of Duty: Black Ops 3</td>\n",
       "      <td>PS4</td>\n",
       "      <td>2015</td>\n",
       "      <td>Shooter</td>\n",
       "      <td>6.03</td>\n",
       "      <td>5.86</td>\n",
       "      <td>0.36</td>\n",
       "      <td>2.38</td>\n",
       "      <td>NaN</td>\n",
       "      <td>NaN</td>\n",
       "      <td>unknown</td>\n",
       "      <td>14.63</td>\n",
       "    </tr>\n",
       "    <tr>\n",
       "      <th>42</th>\n",
       "      <td>Grand Theft Auto V</td>\n",
       "      <td>PS4</td>\n",
       "      <td>2014</td>\n",
       "      <td>Action</td>\n",
       "      <td>3.96</td>\n",
       "      <td>6.31</td>\n",
       "      <td>0.38</td>\n",
       "      <td>1.97</td>\n",
       "      <td>97.0</td>\n",
       "      <td>8.3</td>\n",
       "      <td>M</td>\n",
       "      <td>12.62</td>\n",
       "    </tr>\n",
       "    <tr>\n",
       "      <th>47</th>\n",
       "      <td>Pokemon Omega Ruby/Pokemon Alpha Sapphire</td>\n",
       "      <td>3DS</td>\n",
       "      <td>2014</td>\n",
       "      <td>Role-Playing</td>\n",
       "      <td>4.35</td>\n",
       "      <td>3.49</td>\n",
       "      <td>3.10</td>\n",
       "      <td>0.74</td>\n",
       "      <td>NaN</td>\n",
       "      <td>NaN</td>\n",
       "      <td>unknown</td>\n",
       "      <td>11.68</td>\n",
       "    </tr>\n",
       "    <tr>\n",
       "      <th>77</th>\n",
       "      <td>FIFA 16</td>\n",
       "      <td>PS4</td>\n",
       "      <td>2015</td>\n",
       "      <td>Sports</td>\n",
       "      <td>1.12</td>\n",
       "      <td>6.12</td>\n",
       "      <td>0.06</td>\n",
       "      <td>1.28</td>\n",
       "      <td>82.0</td>\n",
       "      <td>4.3</td>\n",
       "      <td>E</td>\n",
       "      <td>8.58</td>\n",
       "    </tr>\n",
       "    <tr>\n",
       "      <th>87</th>\n",
       "      <td>Star Wars Battlefront (2015)</td>\n",
       "      <td>PS4</td>\n",
       "      <td>2015</td>\n",
       "      <td>Shooter</td>\n",
       "      <td>2.99</td>\n",
       "      <td>3.49</td>\n",
       "      <td>0.22</td>\n",
       "      <td>1.28</td>\n",
       "      <td>NaN</td>\n",
       "      <td>NaN</td>\n",
       "      <td>unknown</td>\n",
       "      <td>7.98</td>\n",
       "    </tr>\n",
       "  </tbody>\n",
       "</table>\n",
       "</div>"
      ],
      "text/plain": [
       "                                         name platform  year_of_release  \\\n",
       "31                  Call of Duty: Black Ops 3      PS4             2015   \n",
       "42                         Grand Theft Auto V      PS4             2014   \n",
       "47  Pokemon Omega Ruby/Pokemon Alpha Sapphire      3DS             2014   \n",
       "77                                    FIFA 16      PS4             2015   \n",
       "87               Star Wars Battlefront (2015)      PS4             2015   \n",
       "\n",
       "           genre  na_sales  eu_sales  jp_sales  other_sales  critic_score  \\\n",
       "31       Shooter      6.03      5.86      0.36         2.38           NaN   \n",
       "42        Action      3.96      6.31      0.38         1.97          97.0   \n",
       "47  Role-Playing      4.35      3.49      3.10         0.74           NaN   \n",
       "77        Sports      1.12      6.12      0.06         1.28          82.0   \n",
       "87       Shooter      2.99      3.49      0.22         1.28           NaN   \n",
       "\n",
       "    user_score   rating  sales  \n",
       "31         NaN  unknown  14.63  \n",
       "42         8.3        M  12.62  \n",
       "47         NaN  unknown  11.68  \n",
       "77         4.3        E   8.58  \n",
       "87         NaN  unknown   7.98  "
      ]
     },
     "execution_count": 32,
     "metadata": {},
     "output_type": "execute_result"
    }
   ],
   "source": [
    "data_actual_top_platform = data_actual.query('(platform == \"PS4\")or(platform == \"X360\")or(platform == \"PS3\")or(platform == \"XOne\")or(platform == \"3DS\")')\n",
    "data_actual_top_platform.head()"
   ]
  },
  {
   "cell_type": "markdown",
   "metadata": {},
   "source": [
    "Построим график «ящик с усами» по глобальным продажам игр в разбивке по платформам."
   ]
  },
  {
   "cell_type": "code",
   "execution_count": 33,
   "metadata": {},
   "outputs": [
    {
     "data": {
      "image/png": "[encoded data removed]",
      "text/plain": [
       "<Figure size 432x288 with 1 Axes>"
      ]
     },
     "metadata": {
      "needs_background": "light"
     },
     "output_type": "display_data"
    }
   ],
   "source": [
    "fig, ax = plt.subplots()\n",
    "sns.boxplot( x=data_actual_top_platform['sales'], y=data_actual_top_platform['platform'], ax = ax )\n",
    "ax.set_xlim( 0, 2)\n",
    "plt.title('«Ящик с усами» по глобальным продажам игр в разбивке по платформам')\n",
    "plt.xlabel('Продажи (млн. копий)')\n",
    "plt.ylabel('Платформа')\n",
    "plt.show()"
   ]
  },
  {
   "cell_type": "markdown",
   "metadata": {},
   "source": [
    "Нижний «ус» близок к 0 у всех платформ, минимальное значение. Для платформ \"PS4\", \"XOne\", \"3DS\", \"PS3\", \"X360\" верхний «ус» заканчивается около 1.6, 1.5, 0.6, 0.7, 1.1 млн. копий соответственно — это 1,5 межквартильного размаха, добавленного к 3-му квартилю. Это ориентировочная граница нормального размаха. Всё, что лежит за ней, считается выбросом. Более высокие значения рисуются отдельными точками."
   ]
  },
  {
   "cell_type": "markdown",
   "metadata": {},
   "source": [
    "Посмотрим, как влияют на продажи внутри одной популярной платформы (\"PS4\") отзывы пользователей и критиков."
   ]
  },
  {
   "cell_type": "markdown",
   "metadata": {},
   "source": [
    "Построим диаграмму рассеяния и посчитайте корреляцию между отзывами и продажами."
   ]
  },
  {
   "cell_type": "code",
   "execution_count": 34,
   "metadata": {},
   "outputs": [],
   "source": [
    "data_actual_PS4 = data_actual.loc[data_actual['platform'] == 'PS4']"
   ]
  },
  {
   "cell_type": "code",
   "execution_count": 35,
   "metadata": {},
   "outputs": [],
   "source": [
    "data_actual_PS4_critic_score = data_actual_PS4.loc[:,['sales', 'critic_score']] \n",
    "data_actual_PS4_critic_score.dropna(axis=0,inplace=True)"
   ]
  },
  {
   "cell_type": "code",
   "execution_count": 36,
   "metadata": {},
   "outputs": [
    {
     "data": {
      "image/png": "[encoded data removed]",
      "text/plain": [
       "<Figure size 432x288 with 1 Axes>"
      ]
     },
     "metadata": {
      "needs_background": "light"
     },
     "output_type": "display_data"
    }
   ],
   "source": [
    "fig, ax = plt.subplots()\n",
    "data_actual_PS4_critic_score.plot(x='sales', y='critic_score', kind='scatter', alpha=0.3, ax = ax) \n",
    "ax.set_xlim( 0, 8)\n",
    "plt.title('Зависимость между продажами и отзывами критиков на платформе \"PS4\"')\n",
    "plt.xlabel('Продажи (млн. копий)')\n",
    "plt.ylabel('Отзыв (балл)')\n",
    "plt.show()"
   ]
  },
  {
   "cell_type": "code",
   "execution_count": 37,
   "metadata": {},
   "outputs": [
    {
     "data": {
      "text/plain": [
       "0.4026614106810408"
      ]
     },
     "execution_count": 37,
     "metadata": {},
     "output_type": "execute_result"
    }
   ],
   "source": [
    "data_actual_PS4_critic_score['sales'].corr(data_actual_PS4_critic_score['critic_score'])"
   ]
  },
  {
   "cell_type": "markdown",
   "metadata": {},
   "source": [
    "Корреляция в 0.40 говорит о наличии слабой связи. Выходит, что на платформе \"PS4\" зависимость продаж от отзыв критиков практически отсутствует."
   ]
  },
  {
   "cell_type": "code",
   "execution_count": 38,
   "metadata": {},
   "outputs": [],
   "source": [
    "data_actual_PS4_user_score = data_actual_PS4.loc[:,['sales', 'user_score']] \n",
    "data_actual_PS4_user_score.dropna(axis=0,inplace=True)"
   ]
  },
  {
   "cell_type": "code",
   "execution_count": 39,
   "metadata": {},
   "outputs": [
    {
     "data": {
      "image/png": "[encoded data removed]",
      "text/plain": [
       "<Figure size 432x288 with 1 Axes>"
      ]
     },
     "metadata": {
      "needs_background": "light"
     },
     "output_type": "display_data"
    }
   ],
   "source": [
    "fig, ax = plt.subplots()\n",
    "data_actual_PS4_user_score.plot(x='sales', y='user_score', kind='scatter', alpha=0.3, ax = ax) \n",
    "ax.set_xlim( 0, 9)\n",
    "plt.title('Зависимость между продажами и отзывами пользователей на платформе \"PS4\"')\n",
    "plt.xlabel('Продажи (млн. копий)')\n",
    "plt.ylabel('Отзыв (балл)')\n",
    "plt.show()"
   ]
  },
  {
   "cell_type": "code",
   "execution_count": 40,
   "metadata": {},
   "outputs": [
    {
     "data": {
      "text/plain": [
       "-0.040131589472697335"
      ]
     },
     "execution_count": 40,
     "metadata": {},
     "output_type": "execute_result"
    }
   ],
   "source": [
    "data_actual_PS4_user_score['sales'].corr(data_actual_PS4_user_score['user_score'])"
   ]
  },
  {
   "cell_type": "markdown",
   "metadata": {},
   "source": [
    "Корреляция -0.04 очень близка к 0, что говорит об отсутствии связи между отзывами пользователей и продажами на платформе \"PS4\"."
   ]
  },
  {
   "cell_type": "markdown",
   "metadata": {},
   "source": [
    "Посмотрим, как влияют на продажи внутри одной популярной платформы (\"XOne\") отзывы пользователей и критиков."
   ]
  },
  {
   "cell_type": "markdown",
   "metadata": {},
   "source": [
    "Построим диаграмму рассеяния и посчитайте корреляцию между отзывами и продажами."
   ]
  },
  {
   "cell_type": "code",
   "execution_count": 41,
   "metadata": {},
   "outputs": [],
   "source": [
    "data_actual_XOne = data_actual.loc[data_actual['platform'] == 'XOne']"
   ]
  },
  {
   "cell_type": "code",
   "execution_count": 42,
   "metadata": {},
   "outputs": [],
   "source": [
    "data_actual_XOne_critic_score = data_actual_XOne.loc[:,['sales', 'critic_score']] \n",
    "data_actual_XOne_critic_score.dropna(axis=0,inplace=True)"
   ]
  },
  {
   "cell_type": "code",
   "execution_count": 43,
   "metadata": {},
   "outputs": [
    {
     "data": {
      "image/png": "[encoded data removed]",
      "text/plain": [
       "<Figure size 432x288 with 1 Axes>"
      ]
     },
     "metadata": {
      "needs_background": "light"
     },
     "output_type": "display_data"
    }
   ],
   "source": [
    "fig, ax = plt.subplots()\n",
    "data_actual_XOne_critic_score.plot(x='sales', y='critic_score', kind='scatter', alpha=0.3, ax = ax) \n",
    "ax.set_xlim( 0, 8)\n",
    "plt.title('Зависимость между продажами и отзывами критиков на платформе \"XOne\"')\n",
    "plt.xlabel('Продажи (млн. копий)')\n",
    "plt.ylabel('Отзыв (балл)')\n",
    "plt.show()"
   ]
  },
  {
   "cell_type": "code",
   "execution_count": 44,
   "metadata": {},
   "outputs": [
    {
     "data": {
      "text/plain": [
       "0.4286769437033319"
      ]
     },
     "execution_count": 44,
     "metadata": {},
     "output_type": "execute_result"
    }
   ],
   "source": [
    "data_actual_XOne_critic_score['sales'].corr(data_actual_XOne_critic_score['critic_score'])"
   ]
  },
  {
   "cell_type": "markdown",
   "metadata": {},
   "source": [
    "Корреляция в 0.43 говорит о наличии слабой связи. Выходит, что на платформе \"XOne\" зависимость продаж от отзыв критиков практически отсутствует."
   ]
  },
  {
   "cell_type": "code",
   "execution_count": 45,
   "metadata": {},
   "outputs": [],
   "source": [
    "data_actual_XOne_user_score = data_actual_XOne.loc[:,['sales', 'user_score']] \n",
    "data_actual_XOne_user_score.dropna(axis=0,inplace=True)"
   ]
  },
  {
   "cell_type": "code",
   "execution_count": 46,
   "metadata": {},
   "outputs": [
    {
     "data": {
      "image/png": "[encoded data removed]",
      "text/plain": [
       "<Figure size 432x288 with 1 Axes>"
      ]
     },
     "metadata": {
      "needs_background": "light"
     },
     "output_type": "display_data"
    }
   ],
   "source": [
    "fig, ax = plt.subplots()\n",
    "data_actual_XOne_user_score.plot(x='sales', y='user_score', kind='scatter', alpha=0.3, ax = ax) \n",
    "ax.set_xlim( 0, 9)\n",
    "plt.title('Зависимость между продажами и отзывами пользователей на платформе \"XOne\"')\n",
    "plt.xlabel('Продажи (млн. копий)')\n",
    "plt.ylabel('Отзыв (балл)')\n",
    "plt.show()"
   ]
  },
  {
   "cell_type": "code",
   "execution_count": 47,
   "metadata": {},
   "outputs": [
    {
     "data": {
      "text/plain": [
       "-0.07038392806475818"
      ]
     },
     "execution_count": 47,
     "metadata": {},
     "output_type": "execute_result"
    }
   ],
   "source": [
    "data_actual_XOne_user_score['sales'].corr(data_actual_XOne_user_score['user_score'])"
   ]
  },
  {
   "cell_type": "markdown",
   "metadata": {},
   "source": [
    "Корреляция -0.07 очень близка к 0, что говорит об отсутствии связи между отзывами пользователей и продажами на платформе \"PS4\"."
   ]
  },
  {
   "cell_type": "markdown",
   "metadata": {},
   "source": [
    "Посмотрим, как влияют на продажи на всех платформах отзывы пользователей и критиков."
   ]
  },
  {
   "cell_type": "markdown",
   "metadata": {},
   "source": [
    "Построим диаграмму рассеяния и посчитайте корреляцию между отзывами и продажами."
   ]
  },
  {
   "cell_type": "code",
   "execution_count": 48,
   "metadata": {},
   "outputs": [],
   "source": [
    "data_actual_critic_score = data.loc[:,['sales', 'critic_score']] \n",
    "data_actual_critic_score.dropna(axis=0,inplace=True)"
   ]
  },
  {
   "cell_type": "code",
   "execution_count": 49,
   "metadata": {},
   "outputs": [
    {
     "data": {
      "image/png": "[encoded data removed]",
      "text/plain": [
       "<Figure size 432x288 with 1 Axes>"
      ]
     },
     "metadata": {
      "needs_background": "light"
     },
     "output_type": "display_data"
    }
   ],
   "source": [
    "fig, ax = plt.subplots()\n",
    "data_actual_critic_score.plot(x='sales', y='critic_score', kind='scatter', alpha=0.3, ax = ax) \n",
    "ax.set_xlim( 0, 40)\n",
    "plt.title('Зависимость между продажами и отзывами критиков')\n",
    "plt.xlabel('Продажи (млн. копий)')\n",
    "plt.ylabel('Отзыв (балл)')\n",
    "plt.show()"
   ]
  },
  {
   "cell_type": "code",
   "execution_count": 50,
   "metadata": {},
   "outputs": [
    {
     "data": {
      "text/plain": [
       "0.24538971391504122"
      ]
     },
     "execution_count": 50,
     "metadata": {},
     "output_type": "execute_result"
    }
   ],
   "source": [
    "data_actual_critic_score['sales'].corr(data_actual_critic_score['critic_score'])"
   ]
  },
  {
   "cell_type": "markdown",
   "metadata": {},
   "source": [
    "Корреляция в 0.25 говорит что связи между отзывами критиков и продажами практически нет."
   ]
  },
  {
   "cell_type": "code",
   "execution_count": 51,
   "metadata": {},
   "outputs": [],
   "source": [
    "data_actual_user_score = data.loc[:,['sales', 'user_score']] \n",
    "data_actual_user_score.dropna(axis=0,inplace=True)"
   ]
  },
  {
   "cell_type": "code",
   "execution_count": 52,
   "metadata": {},
   "outputs": [
    {
     "data": {
      "image/png": "[encoded data removed]",
      "text/plain": [
       "<Figure size 432x288 with 1 Axes>"
      ]
     },
     "metadata": {
      "needs_background": "light"
     },
     "output_type": "display_data"
    }
   ],
   "source": [
    "fig, ax = plt.subplots()\n",
    "data_actual_user_score.plot(x='sales', y='user_score', kind='scatter', alpha=0.3, ax = ax) \n",
    "ax.set_xlim( 0, 40)\n",
    "plt.title('Зависимость между продажами и отзывами пользователей')\n",
    "plt.xlabel('Продажи (млн. копий)')\n",
    "plt.ylabel('Отзыв (балл)')\n",
    "plt.show()"
   ]
  },
  {
   "cell_type": "code",
   "execution_count": 53,
   "metadata": {},
   "outputs": [
    {
     "data": {
      "text/plain": [
       "0.0878840638404564"
      ]
     },
     "execution_count": 53,
     "metadata": {},
     "output_type": "execute_result"
    }
   ],
   "source": [
    "data_actual_user_score['sales'].corr(data_actual_user_score['user_score'])"
   ]
  },
  {
   "cell_type": "markdown",
   "metadata": {},
   "source": [
    "Корреляция 0.09 очень близка к 0, что говорит об отсутствии связи между отзывами пользователей и продажами."
   ]
  },
  {
   "cell_type": "markdown",
   "metadata": {},
   "source": [
    "Рассмотрим медианные продажи в каждом жанре."
   ]
  },
  {
   "cell_type": "code",
   "execution_count": 54,
   "metadata": {},
   "outputs": [
    {
     "data": {
      "text/plain": [
       "genre\n",
       "Shooter         0.515\n",
       "Sports          0.180\n",
       "Platform        0.140\n",
       "Fighting        0.125\n",
       "Role-Playing    0.110\n",
       "Simulation      0.100\n",
       "Action          0.090\n",
       "Misc            0.090\n",
       "Racing          0.090\n",
       "Strategy        0.060\n",
       "Puzzle          0.045\n",
       "Adventure       0.030\n",
       "Name: sales, dtype: float64"
      ]
     },
     "execution_count": 54,
     "metadata": {},
     "output_type": "execute_result"
    }
   ],
   "source": [
    "data_actual.groupby('genre')['sales'].median().sort_values(ascending=False)"
   ]
  },
  {
   "cell_type": "markdown",
   "metadata": {},
   "source": [
    "Больше всего медианных продаж с играми в жанре Shooter (0.515), меньше - Adventure (0.030). К жанрам с высокими медианными продажами относятся: Shooter, Sports, Platforms и Fighting. К жанрам с низкими продажами относятся: Puzzle и Adventure."
   ]
  },
  {
   "cell_type": "markdown",
   "metadata": {},
   "source": [
    "###  Выводы.\n",
    "- Рассматриваются данные с 1994 года, однако за актуальный период был принят период с 2014 по 2016 года.\n",
    "- Платформами с самым большим количеством продаж за общий период: \"PS2\" (1233.56 млн.копий), \"X360\" (961.24 млн.копий), \"PS3\" (931.34 млн.копий), \"Wii\" (891.18 млн.копий), \"DS\"  (802.76 млн.копий), \"PS\" (727.58 млн.копий).\n",
    "- Платформа \"PS2\" существовала 12 лет (с 1999 по 2012 года), но в последние 3 года существования продажи на ней были очень малы. Максимальные продажи были в 2003 и 2006 годах. Платформа \"X360\" существовала 12 лет (с 2004 по 2017), но в первый и последний года существования продажи на ней были очень малы. Максимальные продажи были в 2008 году. Платформа \"PS3\" существовала 11 лет (с 2005 по 2017), но в первый и последний года существования продажи на ней были очень малы. Вероятно, на ней будут небольшие продажи в 2017 году. Максимальные продажи были в 2008 и 2012 годах. Платформа \"Wii\" существовала 11 лет (с 2005 по 2017). Основной объем продаж происходил с 2006 по 2012 года. Максимальные продажи были в 2009 году. Платформа \"DS\" существовала 10 лет (с 2003 по 2014), но в первый и 2 последних годах существования продажи на ней были очень малы. Максимальные продажи были в 2008 году. Платформа \"DS\" существовала 9 лет (с 1994 по 2004), но в 2 последних годах существования продажи на ней были очень малы. Максимальные продажи были в 1998 году.\n",
    "- В среднем платформа существует 11 лет.\n",
    "- В топ 5 потенциально прибыльных платформ в актуальном периоде входят \"PS4\" (288.15 млн.копий), \"XOne\" (140.36 млн.копий), \"3DS\" (86.68 млн.копий), \"PS3\" (68.18 млн.копий), \"X360\" (48.22 млн.копий).\n",
    "- Граница нормального размаха для платформ \"PS4\", \"XOne\", \"3DS\", \"PS3\", \"X360\" от 0 до 1.6, 1.5, 0.6, 0.7, 1.1 млн. копий соответственно. Всё, что лежит за ней, считается выбросом. \n",
    "- Внутри одной популярной платформы (\"PS4\") зависимость продаж от отзыв критиков практически отсутствует (корреляция 0.40), а связь между отзывами пользователей и продажами отсутствует полностью (корреляция -0.04).\n",
    "- Внутри одной популярной платформы (\"XOne\") зависимость продаж от отзыв критиков практически отсутствует (корреляция 0.43), а связь между отзывами пользователей и продажами отсутствует полностью (корреляция -0.07).\n",
    "- На всех платформах связь между отзывами критиков и продажами практически отсутствует (корреляция 0.25), связь между отзывами пользователей и продажами отсутствует (корреляция 0.09).\n",
    "- Больше всего медианных продаж с играми в жанре Shooter (0.515), меньше - Adventure (0.030). К жанрам с высокими медианными продажами относятся: Shooter, Sports, Platforms и Fighting. К жанрам с низкими продажами относятся: Puzzle и Adventure."
   ]
  },
  {
   "cell_type": "markdown",
   "metadata": {},
   "source": [
    "##  Составление портрета пользователя каждого региона."
   ]
  },
  {
   "cell_type": "markdown",
   "metadata": {},
   "source": [
    "Определим самые популярные платформы (топ-5) для пользователя каждого региона (NA, EU, JP)."
   ]
  },
  {
   "cell_type": "code",
   "execution_count": 55,
   "metadata": {},
   "outputs": [],
   "source": [
    "data_actual_na = data_actual.pivot_table(index='platform', values='na_sales', aggfunc='sum').sort_values(by='na_sales', ascending=False)"
   ]
  },
  {
   "cell_type": "code",
   "execution_count": 56,
   "metadata": {},
   "outputs": [
    {
     "name": "stdout",
     "output_type": "stream",
     "text": [
      "          na_sales    percent\n",
      "platform                     \n",
      "PS4          98.61  34.714497\n",
      "XOne         81.27  28.610153\n",
      "X360         28.30   9.962684\n",
      "3DS          22.64   7.970147\n",
      "PS3          22.05   7.762445\n",
      "WiiU         19.36   6.815462\n",
      "PC            7.23   2.545237\n",
      "PSV           2.52   0.887137\n",
      "Wii           2.08   0.732240\n",
      "PSP           0.00   0.000000\n"
     ]
    }
   ],
   "source": [
    "data_actual_na['percent'] = data_actual_na['na_sales']/sum(data_actual['na_sales'])*100\n",
    "print(data_actual_na)"
   ]
  },
  {
   "cell_type": "code",
   "execution_count": 57,
   "metadata": {},
   "outputs": [],
   "source": [
    "data_actual_eu = data_actual.pivot_table(index='platform', values='eu_sales', aggfunc='sum').sort_values(by='eu_sales', ascending=False)"
   ]
  },
  {
   "cell_type": "code",
   "execution_count": 58,
   "metadata": {},
   "outputs": [
    {
     "name": "stdout",
     "output_type": "stream",
     "text": [
      "          eu_sales    percent\n",
      "platform                     \n",
      "PS4         130.04  48.041968\n",
      "XOne         46.25  17.086597\n",
      "PS3          25.54   9.435496\n",
      "PC           17.97   6.638836\n",
      "3DS          16.12   5.955372\n",
      "X360         15.49   5.722625\n",
      "WiiU         13.15   4.858135\n",
      "PSV           3.53   1.304123\n",
      "Wii           2.59   0.956849\n",
      "PSP           0.00   0.000000\n"
     ]
    }
   ],
   "source": [
    "data_actual_eu['percent'] = data_actual_eu['eu_sales']/sum(data_actual['eu_sales'])*100\n",
    "print(data_actual_eu)"
   ]
  },
  {
   "cell_type": "code",
   "execution_count": 59,
   "metadata": {},
   "outputs": [],
   "source": [
    "data_actual_jp = data_actual.pivot_table(index='platform', values='jp_sales', aggfunc='sum').sort_values(by='jp_sales', ascending=False)"
   ]
  },
  {
   "cell_type": "code",
   "execution_count": 60,
   "metadata": {},
   "outputs": [
    {
     "name": "stdout",
     "output_type": "stream",
     "text": [
      "          jp_sales    percent\n",
      "platform                     \n",
      "3DS          44.24  47.523902\n",
      "PS4          15.02  16.134923\n",
      "PSV          14.54  15.619293\n",
      "PS3          11.22  12.052852\n",
      "WiiU          7.31   7.852616\n",
      "PSP           0.36   0.386723\n",
      "XOne          0.32   0.343753\n",
      "X360          0.08   0.085938\n",
      "PC            0.00   0.000000\n",
      "Wii           0.00   0.000000\n"
     ]
    }
   ],
   "source": [
    "data_actual_jp['percent'] = data_actual_jp['jp_sales']/sum(data_actual['jp_sales'])*100\n",
    "print(data_actual_jp)"
   ]
  },
  {
   "cell_type": "markdown",
   "metadata": {},
   "source": [
    "Топ-5 платформ в Северной Америке составляют \"PS4\" (98.61 млн.копий, что соответствует 34.71% от продаж в регионе), \"XOne\" (81.27 млн.копий, что соответствует 28.61% от продаж в регионе), \"X360\" (28.30 млн.копий, что соответствует 9.96% от продаж в регионе), \"3DS\" (22.64 млн.копий, что соответствует 7.97% от продаж в регионе), \"PS3\" (22.05 млн.копий, что соответствует 7.76% от продаж в регионе). Топ-5 платформ в Европе составляют \"PS4\" (130.04 млн.копий, что соответствует 48.04% от продаж в регионе), \"XOne\" (46.25 млн.копий, что соответствует 17.09% от продаж в регионе), \"PS3\" (25.54 млн.копий, что соответствует 9.44% от продаж в регионе), \"PC\" (17.97 млн.копий, что соответствует 6.64% от продаж в регионе), \"3DS\" (16.12 млн.копий, что соответствует 5.96% от продаж в регионе). Топ-5 платформ в Японии составляют \"3DS\" (44.2 млн.копий, что соответствует 47.52% от продаж в регионе), \"PS4\" (15.02 млн.копий, что соответствует 16.13% от продаж в регионе), \"PSV\" (14.54 млн.копий, что соответствует 15.62% от продаж в регионе), \"PS3\" (11.22 млн.копий, что соответствует 12.05% от продаж в регионе), \"WiiU\" (7.31 млн.копий, что соответствует 7.85% от продаж в регионе)."
   ]
  },
  {
   "cell_type": "markdown",
   "metadata": {},
   "source": [
    "Определим самые популярные жанры (топ-5) для пользователя каждого региона (NA, EU, JP)."
   ]
  },
  {
   "cell_type": "code",
   "execution_count": 61,
   "metadata": {},
   "outputs": [
    {
     "data": {
      "text/plain": [
       "genre\n",
       "Shooter         79.02\n",
       "Action          72.53\n",
       "Sports          46.13\n",
       "Role-Playing    33.47\n",
       "Misc            15.05\n",
       "Fighting        12.43\n",
       "Racing           8.74\n",
       "Platform         6.79\n",
       "Adventure        5.64\n",
       "Simulation       2.63\n",
       "Strategy         0.98\n",
       "Puzzle           0.65\n",
       "Name: na_sales, dtype: float64"
      ]
     },
     "execution_count": 61,
     "metadata": {},
     "output_type": "execute_result"
    }
   ],
   "source": [
    "data_actual.groupby('genre')['na_sales'].sum().sort_values(ascending=False)"
   ]
  },
  {
   "cell_type": "code",
   "execution_count": 62,
   "metadata": {},
   "outputs": [
    {
     "data": {
      "text/plain": [
       "genre\n",
       "Action          74.68\n",
       "Shooter         65.52\n",
       "Sports          45.73\n",
       "Role-Playing    28.17\n",
       "Racing          14.13\n",
       "Misc            12.86\n",
       "Simulation       7.30\n",
       "Platform         6.80\n",
       "Fighting         6.69\n",
       "Adventure        6.49\n",
       "Strategy         1.79\n",
       "Puzzle           0.52\n",
       "Name: eu_sales, dtype: float64"
      ]
     },
     "execution_count": 62,
     "metadata": {},
     "output_type": "execute_result"
    }
   ],
   "source": [
    "data_actual.groupby('genre')['eu_sales'].sum().sort_values(ascending=False)"
   ]
  },
  {
   "cell_type": "code",
   "execution_count": 63,
   "metadata": {},
   "outputs": [
    {
     "data": {
      "text/plain": [
       "genre\n",
       "Role-Playing    31.16\n",
       "Action          29.58\n",
       "Fighting         6.37\n",
       "Misc             5.61\n",
       "Shooter          4.87\n",
       "Adventure        3.60\n",
       "Sports           3.26\n",
       "Platform         2.69\n",
       "Simulation       2.31\n",
       "Racing           1.76\n",
       "Strategy         0.95\n",
       "Puzzle           0.93\n",
       "Name: jp_sales, dtype: float64"
      ]
     },
     "execution_count": 63,
     "metadata": {},
     "output_type": "execute_result"
    }
   ],
   "source": [
    "data_actual.groupby('genre')['jp_sales'].sum().sort_values(ascending=False)"
   ]
  },
  {
   "cell_type": "markdown",
   "metadata": {},
   "source": [
    "Топ-5 жанров в Северной Америке составляют Shooter (79.02 млн.копий), Action (72.53 млн.копий), Sports (46.13 млн.копий), Role-Playing (33.47 млн.копий), Misc (15.05 млн.копий). Топ-5 жанров в Европе составляют Action (74.68 млн.копий), Shooter (65.52 млн.копий), Sports (45.73 млн.копий), Role-Playing (28.17 млн.копий), Racing (14.13 млн.копий). Топ-5 жанров в Японии составляют Role-Playing (31.16 млн.копий), Action (29.58 млн.копий), Fighting (6.37 млн.копий), Misc (5.61 млн.копий), Shooter (4.87 млн.копий). Во всех регионах популярными жанрами являются Action, Shooter, Role-Playing. "
   ]
  },
  {
   "cell_type": "markdown",
   "metadata": {},
   "source": [
    "Выясним, влияет ли рейтинг ESRB на продажи в отдельном регионе."
   ]
  },
  {
   "cell_type": "markdown",
   "metadata": {},
   "source": [
    "Рассмотрим влияние рейтинга ESRB на продажи в Северной Америке."
   ]
  },
  {
   "cell_type": "code",
   "execution_count": 64,
   "metadata": {},
   "outputs": [
    {
     "data": {
      "text/plain": [
       "rating\n",
       "M          96.42\n",
       "unknown    64.72\n",
       "E          50.74\n",
       "T          38.95\n",
       "E10+       33.23\n",
       "Name: na_sales, dtype: float64"
      ]
     },
     "execution_count": 64,
     "metadata": {},
     "output_type": "execute_result"
    }
   ],
   "source": [
    "data_actual.groupby('rating')['na_sales'].sum().sort_values(ascending=False)"
   ]
  },
  {
   "cell_type": "markdown",
   "metadata": {},
   "source": [
    "В топ-5 попадают игры с пометкой \"M\" (От 17 лет), с пометкой \"неизвестен\", \"E\" (Для всех), \"T\" (Подросткам 13—19 лет),\"E10+\" (Для всех старше 10 лет)."
   ]
  },
  {
   "cell_type": "markdown",
   "metadata": {},
   "source": [
    "Рассмотрим влияние рейтинга ESRB на продажи в Европе."
   ]
  },
  {
   "cell_type": "code",
   "execution_count": 65,
   "metadata": {},
   "outputs": [
    {
     "data": {
      "text/plain": [
       "rating\n",
       "M          93.44\n",
       "unknown    58.95\n",
       "E          58.06\n",
       "T          34.07\n",
       "E10+       26.16\n",
       "Name: eu_sales, dtype: float64"
      ]
     },
     "execution_count": 65,
     "metadata": {},
     "output_type": "execute_result"
    }
   ],
   "source": [
    "data_actual.groupby('rating')['eu_sales'].sum().sort_values(ascending=False)"
   ]
  },
  {
   "cell_type": "markdown",
   "metadata": {},
   "source": [
    "В топ-5 попадают игры с пометкой \"M\" (От 17 лет), с пометкой \"неизвестен\", \"E\" (Для всех), \"T\" (Подросткам 13—19 лет),\"E10+\" (Для всех старше 10 лет)."
   ]
  },
  {
   "cell_type": "markdown",
   "metadata": {},
   "source": [
    "Рассмотрим влияние рейтинга ESRB на продажи в Японии."
   ]
  },
  {
   "cell_type": "code",
   "execution_count": 66,
   "metadata": {},
   "outputs": [
    {
     "data": {
      "text/plain": [
       "rating\n",
       "unknown    56.90\n",
       "T          14.78\n",
       "E           8.94\n",
       "M           8.01\n",
       "E10+        4.46\n",
       "Name: jp_sales, dtype: float64"
      ]
     },
     "execution_count": 66,
     "metadata": {},
     "output_type": "execute_result"
    }
   ],
   "source": [
    "data_actual.groupby('rating')['jp_sales'].sum().sort_values(ascending=False)"
   ]
  },
  {
   "cell_type": "markdown",
   "metadata": {},
   "source": [
    "В топ-5 попадают игры с пометкой \"неизвестен\", \"T\" (Подросткам 13—19 лет), \"E\" (Для всех), \"M\" (От 17 лет), \"E10+\" (Для всех старше 10 лет)."
   ]
  },
  {
   "cell_type": "markdown",
   "metadata": {},
   "source": [
    "###  Вывод.\n",
    "- Топ-5 платформ в Северной Америке составляют \"PS4\" (98.61 млн.копий, что соответствует 34.71% от продаж в регионе), \"XOne\" (81.27 млн.копий, что соответствует 28.61% от продаж в регионе), \"X360\" (28.30 млн.копий, что соответствует 9.96% от продаж в регионе), \"3DS\" (22.64 млн.копий, что соответствует 7.97% от продаж в регионе), \"PS3\" (22.05 млн.копий, что соответствует 7.76% от продаж в регионе). Топ-5 платформ в Европе составляют \"PS4\" (130.04 млн.копий, что соответствует 48.04% от продаж в регионе), \"XOne\" (46.25 млн.копий, что соответствует 17.09% от продаж в регионе), \"PS3\" (25.54 млн.копий, что соответствует 9.44% от продаж в регионе), \"PC\" (17.97 млн.копий, что соответствует 6.64% от продаж в регионе), \"3DS\" (16.12 млн.копий, что соответствует 5.96% от продаж в регионе). Топ-5 платформ в Японии составляют \"3DS\" (44.2 млн.копий, что соответствует 47.52% от продаж в регионе), \"PS4\" (15.02 млн.копий, что соответствует 16.13% от продаж в регионе), \"PSV\" (14.54 млн.копий, что соответствует 15.62% от продаж в регионе), \"PS3\" (11.22 млн.копий, что соответствует 12.05% от продаж в регионе), \"WiiU\" (7.31 млн.копий, что соответствует 7.85% от продаж в регионе).\n",
    "- Топ-5 жанров в Северной Америке составляют Shooter (79.02 млн.копий), Action (72.53 млн.копий), Sports (46.13 млн.копий), Role-Playing (33.47 млн.копий), Misc (15.05 млн.копий). Топ-5 жанров в Европе составляют Action (74.68 млн.копий), Shooter (65.52 млн.копий), Sports (45.73 млн.копий), Role-Playing (28.17 млн.копий), Racing (14.13 млн.копий). Топ-5 жанров в Японии составляют Role-Playing (31.16 млн.копий), Action (29.58 млн.копий), Fighting (6.37 млн.копий), Misc (5.61 млн.копий), Shooter (4.87 млн.копий). Во всех регионах популярными жанрами являются Action, Shooter, Role-Playing.\n",
    "- В Северной Америке в топ-5 по рейтингу ESRB попадают игры с пометкой \"M\" (От 17 лет), с пометкой \"неизвестен\", \"E\" (Для всех), \"T\" (Подросткам 13—19 лет),\"E10+\" (Для всех старше 10 лет). В Европе в топ-5 попадают игры с пометкой \"M\" (От 17 лет), с пометкой \"неизвестен\", \"E\" (Для всех), \"T\" (Подросткам 13—19 лет),\"E10+\" (Для всех старше 10 лет). В Японии в топ-5 попадают игры с пометкой \"неизвестен\", \"T\" (Подросткам 13—19 лет), \"E\" (Для всех), \"M\" (От 17 лет), \"E10+\" (Для всех старше 10 лет)."
   ]
  },
  {
   "cell_type": "markdown",
   "metadata": {},
   "source": [
    "##  Проверка гипотезы."
   ]
  },
  {
   "cell_type": "markdown",
   "metadata": {},
   "source": [
    "За средний пользовательский рейтинг будем принимать оценки пользователей."
   ]
  },
  {
   "cell_type": "markdown",
   "metadata": {},
   "source": [
    "### Проверка гипотезы: средние пользовательские рейтинги платформ Xbox One и PC одинаковые."
   ]
  },
  {
   "cell_type": "code",
   "execution_count": 67,
   "metadata": {},
   "outputs": [],
   "source": [
    "data_actual_xbox_one = data_actual.query('platform == \"XOne\"').dropna()"
   ]
  },
  {
   "cell_type": "code",
   "execution_count": 68,
   "metadata": {},
   "outputs": [],
   "source": [
    "data_actual_pc = data_actual.query('platform == \"PC\"').dropna()"
   ]
  },
  {
   "cell_type": "markdown",
   "metadata": {},
   "source": [
    "Проверим гипотезу о равенстве средних двух генеральных совокупностей с помощью t-теста. Однако укажем, что дисперсии не равны, так как выборки разного размера.\n",
    "- H₀: средние пользовательские рейтинги платформ Xbox One и PC одинаковы\n",
    "- H₁: средние пользовательские рейтинги платформ Xbox One и PC различаются"
   ]
  },
  {
   "cell_type": "code",
   "execution_count": 69,
   "metadata": {},
   "outputs": [
    {
     "name": "stdout",
     "output_type": "stream",
     "text": [
      "p-значение: 0.1403785186826978\n",
      "Не получилось отвергнуть нулевую гипотезу\n"
     ]
    }
   ],
   "source": [
    "alpha = .05 # критический уровень статистической значимости\n",
    "\n",
    "results = st.ttest_ind(\n",
    "    data_actual_xbox_one['user_score'], \n",
    "    data_actual_pc['user_score'], equal_var = False)\n",
    "\n",
    "print('p-значение:', results.pvalue)\n",
    "\n",
    "if results.pvalue < alpha:\n",
    "    print(\"Отвергаем нулевую гипотезу\")\n",
    "else:\n",
    "    print(\"Не получилось отвергнуть нулевую гипотезу\") "
   ]
  },
  {
   "cell_type": "markdown",
   "metadata": {},
   "source": [
    "p-value больше критического уровня статистической значимости (0.14 больше 0.05). Нельзя опровергнуть нулевую гипотезу в пользу альтернативной."
   ]
  },
  {
   "cell_type": "markdown",
   "metadata": {},
   "source": [
    "### Проверка гипотезы: средние пользовательские рейтинги жанров Action и Sports разные."
   ]
  },
  {
   "cell_type": "code",
   "execution_count": 70,
   "metadata": {},
   "outputs": [],
   "source": [
    "data_actual_actione = data_actual.query('genre == \"Action\"').dropna()"
   ]
  },
  {
   "cell_type": "code",
   "execution_count": 71,
   "metadata": {},
   "outputs": [],
   "source": [
    "data_actual_sports = data_actual.query('genre == \"Sports\"').dropna()"
   ]
  },
  {
   "cell_type": "markdown",
   "metadata": {},
   "source": [
    "Проверим гипотезу о равенстве средних двух генеральных совокупностей с помощью t-теста.\n",
    "- H₀: средние пользовательские рейтинги жанров Action и Sports одинаковы\n",
    "- H₁: средние пользовательские рейтинги жанров Action и Sports разные"
   ]
  },
  {
   "cell_type": "code",
   "execution_count": 72,
   "metadata": {},
   "outputs": [
    {
     "name": "stdout",
     "output_type": "stream",
     "text": [
      "p-значение: 4.0540895999943536e-10\n",
      "Отвергаем нулевую гипотезу\n"
     ]
    }
   ],
   "source": [
    "alpha = .05 # критический уровень статистической значимости\n",
    "\n",
    "results = st.ttest_ind(\n",
    "    data_actual_actione['user_score'], \n",
    "    data_actual_sports['user_score'])\n",
    "\n",
    "print('p-значение:', results.pvalue)\n",
    "\n",
    "if results.pvalue < alpha:\n",
    "    print(\"Отвергаем нулевую гипотезу\")\n",
    "else:\n",
    "    print(\"Не получилось отвергнуть нулевую гипотезу\") "
   ]
  },
  {
   "cell_type": "markdown",
   "metadata": {},
   "source": [
    "p-value меньше критического уровня статистической значимости (4.05e-10 меньше 0.05). Отвергаем нулевую гипотезу в пользу альтернативной - средние пользовательские рейтинги жанров Action и Sports разные."
   ]
  },
  {
   "cell_type": "markdown",
   "metadata": {},
   "source": [
    "###  Вывод.\n",
    "- гипотеза, что средние пользовательские рейтинги платформ Xbox One и PC одинаковые не опровергнута.\n",
    "- гипотеза, что средние пользовательские рейтинги жанров Action и Sports разные не опровергнута."
   ]
  },
  {
   "cell_type": "markdown",
   "metadata": {},
   "source": [
    "##  Вывод."
   ]
  },
  {
   "cell_type": "markdown",
   "metadata": {},
   "source": [
    "1.  Проведе исследовательский анализ данных: \n",
    "- Изучено сколько игр выпускалось в разные годы, отброшенны данные до 1994, так как в этот вериод игор очень мало.\n",
    "- Изучено как менялись продажи по платформам. Платформами с самым большим количеством продаж за общий период: \"PS2\" (1233.56 млн.копий), \"X360\" (961.24 млн.копий), \"PS3\" (931.34 млн.копий), \"Wii\" (891.18 млн.копий), \"DS\" (802.76 млн.копий), \"PS\" (727.58 млн.копий).\n",
    "- Платформа \"PS2\" существовала 12 лет (с 1999 по 2012 года), но в последние 3 года существования продажи на ней были очень малы. Максимальные продажи были в 2003 и 2006 годах. Платформа \"X360\" существовала 12 лет (с 2004 по 2017), но в первый и последний года существования продажи на ней были очень малы. Максимальные продажи были в 2008 году. Платформа \"PS3\" существовала 11 лет (с 2005 по 2017), но в первый и последний года существования продажи на ней были очень малы. Вероятно, на ней будут небольшие продажи в 2017 году. Максимальные продажи были в 2008 и 2012 годах. Платформа \"Wii\" существовала 11 лет (с 2005 по 2017). Основной объем продаж происходил с 2006 по 2012 года. Максимальные продажи были в 2009 году. Платформа \"DS\" существовала 10 лет (с 2003 по 2014), но в первый и 2 последних годах существования продажи на ней были очень малы. Максимальные продажи были в 2008 году. Платформа \"DS\" существовала 9 лет (с 1994 по 2004), но в 2 последних годах существования продажи на ней были очень малы. Максимальные продажи были в 1998 году.\n",
    "- В среднем платформа существует 11 лет.\n",
    "- За актуальный период принят период с 2014 по 2016 года.\n",
    "- В топ 5 потенциально прибыльных платформ в актуальном периоде входят \"PS4\" (288.15 млн.копий), \"XOne\" (140.36 млн.копий), \"3DS\" (86.68 млн.копий), \"PS3\" (68.18 млн.копий), \"X360\" (48.22 млн.копий).\n",
    "- Граница нормального размаха для платформ \"PS4\", \"XOne\", \"3DS\", \"PS3\", \"X360\" от 0 до 1.6, 1.5, 0.6, 0.7, 1.1 млн. копий соответственно. Всё, что лежит за ней, считается выбросом.\n",
    "- Внутри одной популярной платформы (\"PS4\") зависимость продаж от отзыв критиков практически отсутствует (корреляция 0.40), а связь между отзывами пользователей и продажами отсутствует полностью (корреляция -0.04).\n",
    "- На всех платформах связь между отзывами критиков и продажами практически отсутствует (корреляция 0.25), связь между отзывами пользователей и продажами отсутствует (корреляция 0.09). Внутри одной популярной платформы (\"XOne\") зависимость продаж от отзыв критиков практически отсутствует (корреляция 0.43), а связь между отзывами пользователей и продажами отсутствует полностью (корреляция -0.07).\n",
    "- Больше всего медианных продаж с играми в жанре Shooter (0.515), меньше - Adventure (0.030). К жанрам с высокими медианными продажами относятся: Shooter, Sports, Platforms и Fighting. К жанрам с низкими продажами относятся: Puzzle и Adventure.\n",
    "2. Составлен портрет пользователя каждого региона.\n",
    "- Топ-5 платформ в Северной Америке составляют \"PS4\" (98.61 млн.копий, что соответствует 34.71% от продаж в регионе), \"XOne\" (81.27 млн.копий, что соответствует 28.61% от продаж в регионе), \"X360\" (28.30 млн.копий, что соответствует 9.96% от продаж в регионе), \"3DS\" (22.64 млн.копий, что соответствует 7.97% от продаж в регионе), \"PS3\" (22.05 млн.копий, что соответствует 7.76% от продаж в регионе). Топ-5 платформ в Европе составляют \"PS4\" (130.04 млн.копий, что соответствует 48.04% от продаж в регионе), \"XOne\" (46.25 млн.копий, что соответствует 17.09% от продаж в регионе), \"PS3\" (25.54 млн.копий, что соответствует 9.44% от продаж в регионе), \"PC\" (17.97 млн.копий, что соответствует 6.64% от продаж в регионе), \"3DS\" (16.12 млн.копий, что соответствует 5.96% от продаж в регионе). Топ-5 платформ в Японии составляют \"3DS\" (44.2 млн.копий, что соответствует 47.52% от продаж в регионе), \"PS4\" (15.02 млн.копий, что соответствует 16.13% от продаж в регионе), \"PSV\" (14.54 млн.копий, что соответствует 15.62% от продаж в регионе), \"PS3\" (11.22 млн.копий, что соответствует 12.05% от продаж в регионе), \"WiiU\" (7.31 млн.копий, что соответствует 7.85% от продаж в регионе).\n",
    "- Топ-5 жанров в Северной Америке составляют Shooter (79.02 млн.копий), Action (72.53 млн.копий), Sports (46.13 млн.копий), Role-Playing (33.47 млн.копий), Misc (15.05 млн.копий). Топ-5 жанров в Европе составляют Action (74.68 млн.копий), Shooter (65.52 млн.копий), Sports (45.73 млн.копий), Role-Playing (28.17 млн.копий), Racing (14.13 млн.копий). Топ-5 жанров в Японии составляют Role-Playing (31.16 млн.копий), Action (29.58 млн.копий), Fighting (6.37 млн.копий), Misc (5.61 млн.копий), Shooter (4.87 млн.копий). Во всех регионах популярными жанрами являются Action, Shooter, Role-Playing.\n",
    "- В Северной Америке в топ-5 по рейтингу ESRB попадают игры с пометкой \"M\" (От 17 лет), с пометкой \"неизвестен\", \"E\" (Для всех), \"T\" (Подросткам 13—19 лет),\"E10+\" (Для всех старше 10 лет). В Европе в топ-5 попадают игры с пометкой \"M\" (От 17 лет), с пометкой \"неизвестен\", \"E\" (Для всех), \"T\" (Подросткам 13—19 лет),\"E10+\" (Для всех старше 10 лет). В Японии в топ-5 попадают игры с пометкой \"неизвестен\", \"T\" (Подросткам 13—19 лет), \"E\" (Для всех), \"M\" (От 17 лет), \"E10+\" (Для всех старше 10 лет).\n",
    "3. Проверены гипотезы: средние пользовательские рейтинги платформ Xbox One и PC одинаковые; средние пользовательские рейтинги жанров Action и Sports разные.\n",
    "- гипотеза, что средние пользовательские рейтинги платформ Xbox One и PC одинаковые не опровергнута.\n",
    "- гипотеза, что средние пользовательские рейтинги жанров Action и Sports разные не опровергнута.\n"
   ]
  },
  {
   "cell_type": "code",
   "execution_count": null,
   "metadata": {},
   "outputs": [],
   "source": []
  }
 ],
 "metadata": {
  "ExecuteTimeLog": [
   {
    "duration": 3,
    "start_time": "2022-04-23T16:22:10.914Z"
   },
   {
    "duration": 380,
    "start_time": "2022-04-23T16:23:27.878Z"
   },
   {
    "duration": 3,
    "start_time": "2022-04-23T16:23:35.904Z"
   },
   {
    "duration": 447,
    "start_time": "2022-04-23T16:23:44.021Z"
   },
   {
    "duration": 535,
    "start_time": "2022-04-23T16:23:51.445Z"
   },
   {
    "duration": 3,
    "start_time": "2022-04-23T16:23:57.982Z"
   },
   {
    "duration": 196,
    "start_time": "2022-04-23T16:24:21.630Z"
   },
   {
    "duration": 45,
    "start_time": "2022-04-23T16:24:41.582Z"
   },
   {
    "duration": 21,
    "start_time": "2022-04-23T16:24:49.980Z"
   },
   {
    "duration": 17,
    "start_time": "2022-04-23T16:24:58.568Z"
   },
   {
    "duration": 4,
    "start_time": "2022-04-23T16:25:55.102Z"
   },
   {
    "duration": 169,
    "start_time": "2022-04-23T16:26:06.092Z"
   },
   {
    "duration": 5,
    "start_time": "2022-04-23T16:26:18.425Z"
   },
   {
    "duration": 4,
    "start_time": "2022-04-23T16:26:24.781Z"
   },
   {
    "duration": 203,
    "start_time": "2022-04-23T16:26:36.885Z"
   },
   {
    "duration": 9,
    "start_time": "2022-04-23T16:26:54.107Z"
   },
   {
    "duration": 4,
    "start_time": "2022-04-23T16:27:01.993Z"
   },
   {
    "duration": 8,
    "start_time": "2022-04-23T16:27:09.670Z"
   },
   {
    "duration": 16,
    "start_time": "2022-04-23T16:27:15.483Z"
   },
   {
    "duration": 9,
    "start_time": "2022-04-23T16:27:25.538Z"
   },
   {
    "duration": 8,
    "start_time": "2022-04-23T16:27:45.351Z"
   },
   {
    "duration": 9,
    "start_time": "2022-04-23T16:27:55.391Z"
   },
   {
    "duration": 4,
    "start_time": "2022-04-23T16:28:15.340Z"
   },
   {
    "duration": 248,
    "start_time": "2022-04-23T16:28:21.085Z"
   },
   {
    "duration": 13,
    "start_time": "2022-04-23T16:28:50.279Z"
   },
   {
    "duration": 18,
    "start_time": "2022-04-23T16:29:12.500Z"
   },
   {
    "duration": 5,
    "start_time": "2022-04-23T16:30:14.374Z"
   },
   {
    "duration": 19,
    "start_time": "2022-04-23T16:30:34.844Z"
   },
   {
    "duration": 9,
    "start_time": "2022-04-23T16:30:54.542Z"
   },
   {
    "duration": 165,
    "start_time": "2022-04-23T16:31:05.216Z"
   },
   {
    "duration": 24,
    "start_time": "2022-04-23T16:31:19.147Z"
   },
   {
    "duration": 168,
    "start_time": "2022-04-23T16:31:33.997Z"
   },
   {
    "duration": 156,
    "start_time": "2022-04-23T16:31:57.346Z"
   },
   {
    "duration": 145,
    "start_time": "2022-04-23T16:32:17.695Z"
   },
   {
    "duration": 149,
    "start_time": "2022-04-23T16:32:38.013Z"
   },
   {
    "duration": 146,
    "start_time": "2022-04-23T16:33:00.565Z"
   },
   {
    "duration": 150,
    "start_time": "2022-04-23T16:33:25.726Z"
   },
   {
    "duration": 135,
    "start_time": "2022-04-23T16:33:41.611Z"
   },
   {
    "duration": 147,
    "start_time": "2022-04-23T16:34:31.049Z"
   },
   {
    "duration": 18,
    "start_time": "2022-04-23T16:34:47.843Z"
   },
   {
    "duration": 8,
    "start_time": "2022-04-23T16:35:07.485Z"
   },
   {
    "duration": 21,
    "start_time": "2022-04-23T16:35:23.771Z"
   },
   {
    "duration": 261,
    "start_time": "2022-04-23T16:35:43.452Z"
   },
   {
    "duration": 4,
    "start_time": "2022-04-23T16:36:25.910Z"
   },
   {
    "duration": 6,
    "start_time": "2022-04-23T16:36:33.952Z"
   },
   {
    "duration": 168,
    "start_time": "2022-04-23T16:36:41.033Z"
   },
   {
    "duration": 5,
    "start_time": "2022-04-23T16:36:50.424Z"
   },
   {
    "duration": 6,
    "start_time": "2022-04-23T16:37:06.704Z"
   },
   {
    "duration": 159,
    "start_time": "2022-04-23T16:37:14.064Z"
   },
   {
    "duration": 5,
    "start_time": "2022-04-23T16:37:22.973Z"
   },
   {
    "duration": 6,
    "start_time": "2022-04-23T16:37:58.558Z"
   },
   {
    "duration": 155,
    "start_time": "2022-04-23T16:38:05.859Z"
   },
   {
    "duration": 6,
    "start_time": "2022-04-23T16:38:13.410Z"
   },
   {
    "duration": 6,
    "start_time": "2022-04-23T16:38:29.066Z"
   },
   {
    "duration": 156,
    "start_time": "2022-04-23T16:38:35.766Z"
   },
   {
    "duration": 6,
    "start_time": "2022-04-23T16:38:45.566Z"
   },
   {
    "duration": 8,
    "start_time": "2022-04-23T16:39:14.273Z"
   },
   {
    "duration": 11,
    "start_time": "2022-04-23T16:40:32.496Z"
   },
   {
    "duration": 9,
    "start_time": "2022-04-23T16:40:41.765Z"
   },
   {
    "duration": 15,
    "start_time": "2022-04-23T16:40:53.539Z"
   },
   {
    "duration": 9,
    "start_time": "2022-04-23T16:41:04.698Z"
   },
   {
    "duration": 11,
    "start_time": "2022-04-23T16:41:13.511Z"
   },
   {
    "duration": 13,
    "start_time": "2022-04-23T16:41:19.760Z"
   },
   {
    "duration": 8,
    "start_time": "2022-04-23T16:41:48.833Z"
   },
   {
    "duration": 8,
    "start_time": "2022-04-23T16:41:56.038Z"
   },
   {
    "duration": 8,
    "start_time": "2022-04-23T16:42:03.527Z"
   },
   {
    "duration": 8,
    "start_time": "2022-04-23T16:42:44.162Z"
   },
   {
    "duration": 8,
    "start_time": "2022-04-23T16:43:08.552Z"
   },
   {
    "duration": 8,
    "start_time": "2022-04-23T16:43:35.199Z"
   },
   {
    "duration": 6,
    "start_time": "2022-04-23T16:44:55.072Z"
   },
   {
    "duration": 12,
    "start_time": "2022-04-23T16:45:03.450Z"
   },
   {
    "duration": 6,
    "start_time": "2022-04-23T16:45:11.425Z"
   },
   {
    "duration": 6,
    "start_time": "2022-04-23T16:45:45.431Z"
   },
   {
    "duration": 6,
    "start_time": "2022-04-23T16:46:17.076Z"
   },
   {
    "duration": 6,
    "start_time": "2022-04-23T16:46:24.508Z"
   },
   {
    "duration": 160,
    "start_time": "2022-04-23T16:46:31.675Z"
   },
   {
    "duration": 6,
    "start_time": "2022-04-23T16:46:44.469Z"
   },
   {
    "duration": 49,
    "start_time": "2022-04-30T13:20:40.024Z"
   },
   {
    "duration": 426,
    "start_time": "2022-04-30T13:20:41.939Z"
   },
   {
    "duration": 3,
    "start_time": "2022-04-30T13:20:42.367Z"
   },
   {
    "duration": 443,
    "start_time": "2022-04-30T13:20:42.503Z"
   },
   {
    "duration": 540,
    "start_time": "2022-04-30T13:20:42.949Z"
   },
   {
    "duration": 3,
    "start_time": "2022-04-30T13:20:43.491Z"
   },
   {
    "duration": 46,
    "start_time": "2022-04-30T13:20:44.225Z"
   },
   {
    "duration": 24,
    "start_time": "2022-04-30T13:20:44.992Z"
   },
   {
    "duration": 17,
    "start_time": "2022-04-30T13:20:45.817Z"
   },
   {
    "duration": 5,
    "start_time": "2022-04-30T13:21:16.274Z"
   },
   {
    "duration": 6,
    "start_time": "2022-04-30T13:21:17.073Z"
   },
   {
    "duration": 4,
    "start_time": "2022-04-30T13:22:57.789Z"
   },
   {
    "duration": 8,
    "start_time": "2022-04-30T13:22:59.370Z"
   },
   {
    "duration": 404,
    "start_time": "2022-04-30T13:23:06.846Z"
   },
   {
    "duration": 2,
    "start_time": "2022-04-30T13:23:07.255Z"
   },
   {
    "duration": 256,
    "start_time": "2022-04-30T13:23:07.259Z"
   },
   {
    "duration": 575,
    "start_time": "2022-04-30T13:23:07.517Z"
   },
   {
    "duration": 3,
    "start_time": "2022-04-30T13:23:08.094Z"
   },
   {
    "duration": 45,
    "start_time": "2022-04-30T13:23:08.099Z"
   },
   {
    "duration": 19,
    "start_time": "2022-04-30T13:23:08.146Z"
   },
   {
    "duration": 14,
    "start_time": "2022-04-30T13:23:08.167Z"
   },
   {
    "duration": 7,
    "start_time": "2022-04-30T13:23:08.183Z"
   },
   {
    "duration": 6,
    "start_time": "2022-04-30T13:23:08.191Z"
   },
   {
    "duration": 7,
    "start_time": "2022-04-30T13:23:08.198Z"
   },
   {
    "duration": 7,
    "start_time": "2022-04-30T13:23:08.206Z"
   },
   {
    "duration": 38,
    "start_time": "2022-04-30T13:23:08.216Z"
   },
   {
    "duration": 19,
    "start_time": "2022-04-30T13:23:08.256Z"
   },
   {
    "duration": 9,
    "start_time": "2022-04-30T13:23:08.277Z"
   },
   {
    "duration": 8,
    "start_time": "2022-04-30T13:23:08.287Z"
   },
   {
    "duration": 11,
    "start_time": "2022-04-30T13:23:08.296Z"
   },
   {
    "duration": 3,
    "start_time": "2022-04-30T13:23:08.309Z"
   },
   {
    "duration": 279,
    "start_time": "2022-04-30T13:23:08.314Z"
   },
   {
    "duration": 11,
    "start_time": "2022-04-30T13:23:08.595Z"
   },
   {
    "duration": 17,
    "start_time": "2022-04-30T13:23:08.608Z"
   },
   {
    "duration": 6,
    "start_time": "2022-04-30T13:23:08.626Z"
   },
   {
    "duration": 37,
    "start_time": "2022-04-30T13:23:08.633Z"
   },
   {
    "duration": 31,
    "start_time": "2022-04-30T13:23:08.672Z"
   },
   {
    "duration": 21,
    "start_time": "2022-04-30T13:23:08.705Z"
   },
   {
    "duration": 142,
    "start_time": "2022-04-30T13:23:08.728Z"
   },
   {
    "duration": 147,
    "start_time": "2022-04-30T13:23:08.872Z"
   },
   {
    "duration": 130,
    "start_time": "2022-04-30T13:23:09.021Z"
   },
   {
    "duration": 130,
    "start_time": "2022-04-30T13:23:09.153Z"
   },
   {
    "duration": 132,
    "start_time": "2022-04-30T13:23:09.284Z"
   },
   {
    "duration": 135,
    "start_time": "2022-04-30T13:23:09.418Z"
   },
   {
    "duration": 127,
    "start_time": "2022-04-30T13:23:09.555Z"
   },
   {
    "duration": 144,
    "start_time": "2022-04-30T13:23:09.684Z"
   },
   {
    "duration": 25,
    "start_time": "2022-04-30T13:23:09.829Z"
   },
   {
    "duration": 7,
    "start_time": "2022-04-30T13:23:09.856Z"
   },
   {
    "duration": 19,
    "start_time": "2022-04-30T13:23:09.864Z"
   },
   {
    "duration": 265,
    "start_time": "2022-04-30T13:23:09.884Z"
   },
   {
    "duration": 5,
    "start_time": "2022-04-30T13:23:10.153Z"
   },
   {
    "duration": 11,
    "start_time": "2022-04-30T13:23:10.159Z"
   },
   {
    "duration": 141,
    "start_time": "2022-04-30T13:23:10.174Z"
   },
   {
    "duration": 6,
    "start_time": "2022-04-30T13:23:10.316Z"
   },
   {
    "duration": 8,
    "start_time": "2022-04-30T13:23:10.323Z"
   },
   {
    "duration": 158,
    "start_time": "2022-04-30T13:23:10.333Z"
   },
   {
    "duration": 5,
    "start_time": "2022-04-30T13:23:10.493Z"
   },
   {
    "duration": 8,
    "start_time": "2022-04-30T13:23:10.499Z"
   },
   {
    "duration": 151,
    "start_time": "2022-04-30T13:23:10.508Z"
   },
   {
    "duration": 6,
    "start_time": "2022-04-30T13:23:10.660Z"
   },
   {
    "duration": 7,
    "start_time": "2022-04-30T13:23:10.667Z"
   },
   {
    "duration": 159,
    "start_time": "2022-04-30T13:23:10.675Z"
   },
   {
    "duration": 5,
    "start_time": "2022-04-30T13:23:10.836Z"
   },
   {
    "duration": 14,
    "start_time": "2022-04-30T13:23:10.843Z"
   },
   {
    "duration": 10,
    "start_time": "2022-04-30T13:23:10.858Z"
   },
   {
    "duration": 7,
    "start_time": "2022-04-30T13:23:10.869Z"
   },
   {
    "duration": 10,
    "start_time": "2022-04-30T13:23:10.877Z"
   },
   {
    "duration": 7,
    "start_time": "2022-04-30T13:23:10.888Z"
   },
   {
    "duration": 13,
    "start_time": "2022-04-30T13:23:10.896Z"
   },
   {
    "duration": 7,
    "start_time": "2022-04-30T13:23:10.910Z"
   },
   {
    "duration": 40,
    "start_time": "2022-04-30T13:23:10.919Z"
   },
   {
    "duration": 7,
    "start_time": "2022-04-30T13:23:10.961Z"
   },
   {
    "duration": 9,
    "start_time": "2022-04-30T13:23:10.969Z"
   },
   {
    "duration": 7,
    "start_time": "2022-04-30T13:23:10.979Z"
   },
   {
    "duration": 7,
    "start_time": "2022-04-30T13:23:10.987Z"
   },
   {
    "duration": 8,
    "start_time": "2022-04-30T13:23:10.995Z"
   },
   {
    "duration": 6,
    "start_time": "2022-04-30T13:23:11.005Z"
   },
   {
    "duration": 45,
    "start_time": "2022-04-30T13:23:11.013Z"
   },
   {
    "duration": 5,
    "start_time": "2022-04-30T13:23:11.060Z"
   },
   {
    "duration": 8,
    "start_time": "2022-04-30T13:23:11.067Z"
   },
   {
    "duration": 5,
    "start_time": "2022-04-30T13:23:11.077Z"
   },
   {
    "duration": 5,
    "start_time": "2022-04-30T13:23:11.084Z"
   },
   {
    "duration": 3,
    "start_time": "2022-04-30T13:23:19.060Z"
   },
   {
    "duration": 2,
    "start_time": "2022-04-30T13:23:19.353Z"
   },
   {
    "duration": 2,
    "start_time": "2022-04-30T13:23:19.569Z"
   },
   {
    "duration": 3,
    "start_time": "2022-04-30T13:23:19.767Z"
   },
   {
    "duration": 3,
    "start_time": "2022-04-30T13:23:19.955Z"
   },
   {
    "duration": 34,
    "start_time": "2022-04-30T13:23:20.851Z"
   },
   {
    "duration": 16,
    "start_time": "2022-04-30T13:23:21.103Z"
   },
   {
    "duration": 14,
    "start_time": "2022-04-30T13:23:21.329Z"
   },
   {
    "duration": 4,
    "start_time": "2022-04-30T13:23:23.992Z"
   },
   {
    "duration": 6,
    "start_time": "2022-04-30T13:23:24.579Z"
   },
   {
    "duration": 6,
    "start_time": "2022-04-30T13:23:35.805Z"
   },
   {
    "duration": 8,
    "start_time": "2022-04-30T13:23:41.284Z"
   },
   {
    "duration": 14,
    "start_time": "2022-04-30T13:23:42.150Z"
   },
   {
    "duration": 9,
    "start_time": "2022-04-30T13:23:42.935Z"
   },
   {
    "duration": 4,
    "start_time": "2022-04-30T13:23:46.668Z"
   },
   {
    "duration": 3,
    "start_time": "2022-04-30T13:23:47.274Z"
   },
   {
    "duration": 394,
    "start_time": "2022-04-30T13:23:55.279Z"
   },
   {
    "duration": 3,
    "start_time": "2022-04-30T13:23:55.675Z"
   },
   {
    "duration": 319,
    "start_time": "2022-04-30T13:23:55.679Z"
   },
   {
    "duration": 614,
    "start_time": "2022-04-30T13:23:56.001Z"
   },
   {
    "duration": 3,
    "start_time": "2022-04-30T13:23:56.616Z"
   },
   {
    "duration": 42,
    "start_time": "2022-04-30T13:23:56.620Z"
   },
   {
    "duration": 18,
    "start_time": "2022-04-30T13:23:56.664Z"
   },
   {
    "duration": 16,
    "start_time": "2022-04-30T13:23:56.683Z"
   },
   {
    "duration": 4,
    "start_time": "2022-04-30T13:23:56.700Z"
   },
   {
    "duration": 6,
    "start_time": "2022-04-30T13:23:56.706Z"
   },
   {
    "duration": 4,
    "start_time": "2022-04-30T13:23:56.714Z"
   },
   {
    "duration": 6,
    "start_time": "2022-04-30T13:23:56.719Z"
   },
   {
    "duration": 33,
    "start_time": "2022-04-30T13:23:56.726Z"
   },
   {
    "duration": 4,
    "start_time": "2022-04-30T13:23:58.219Z"
   },
   {
    "duration": 13,
    "start_time": "2022-04-30T13:23:59.167Z"
   },
   {
    "duration": 10,
    "start_time": "2022-04-30T13:24:01.073Z"
   },
   {
    "duration": 8,
    "start_time": "2022-04-30T13:24:38.198Z"
   },
   {
    "duration": 8,
    "start_time": "2022-04-30T13:24:39.167Z"
   },
   {
    "duration": 3,
    "start_time": "2022-04-30T13:24:40.242Z"
   },
   {
    "duration": 229,
    "start_time": "2022-04-30T13:25:01.930Z"
   },
   {
    "duration": 6,
    "start_time": "2022-04-30T13:27:02.595Z"
   },
   {
    "duration": 21,
    "start_time": "2022-04-30T13:27:07.341Z"
   },
   {
    "duration": 8,
    "start_time": "2022-04-30T13:27:08.942Z"
   },
   {
    "duration": 23,
    "start_time": "2022-04-30T13:28:01.919Z"
   },
   {
    "duration": 144,
    "start_time": "2022-04-30T13:33:55.255Z"
   },
   {
    "duration": 444,
    "start_time": "2022-04-30T13:34:03.815Z"
   },
   {
    "duration": 3,
    "start_time": "2022-04-30T13:34:04.261Z"
   },
   {
    "duration": 301,
    "start_time": "2022-04-30T13:34:04.265Z"
   },
   {
    "duration": 538,
    "start_time": "2022-04-30T13:34:04.568Z"
   },
   {
    "duration": 3,
    "start_time": "2022-04-30T13:34:05.108Z"
   },
   {
    "duration": 58,
    "start_time": "2022-04-30T13:34:05.113Z"
   },
   {
    "duration": 22,
    "start_time": "2022-04-30T13:34:05.173Z"
   },
   {
    "duration": 83,
    "start_time": "2022-04-30T13:34:05.197Z"
   },
   {
    "duration": 13,
    "start_time": "2022-04-30T13:34:05.282Z"
   },
   {
    "duration": 30,
    "start_time": "2022-04-30T13:34:05.297Z"
   },
   {
    "duration": 16,
    "start_time": "2022-04-30T13:34:05.329Z"
   },
   {
    "duration": 29,
    "start_time": "2022-04-30T13:34:05.347Z"
   },
   {
    "duration": 108,
    "start_time": "2022-04-30T13:34:05.378Z"
   },
   {
    "duration": 61,
    "start_time": "2022-04-30T13:34:05.490Z"
   },
   {
    "duration": 29,
    "start_time": "2022-04-30T13:34:05.553Z"
   },
   {
    "duration": 20,
    "start_time": "2022-04-30T13:34:05.583Z"
   },
   {
    "duration": 34,
    "start_time": "2022-04-30T13:34:05.605Z"
   },
   {
    "duration": 4,
    "start_time": "2022-04-30T13:34:05.641Z"
   },
   {
    "duration": 247,
    "start_time": "2022-04-30T13:34:05.646Z"
   },
   {
    "duration": 12,
    "start_time": "2022-04-30T13:34:05.894Z"
   },
   {
    "duration": 22,
    "start_time": "2022-04-30T13:34:05.908Z"
   },
   {
    "duration": 22,
    "start_time": "2022-04-30T13:34:05.932Z"
   },
   {
    "duration": 39,
    "start_time": "2022-04-30T13:34:05.956Z"
   },
   {
    "duration": 22,
    "start_time": "2022-04-30T13:34:05.996Z"
   },
   {
    "duration": 45,
    "start_time": "2022-04-30T13:34:06.020Z"
   },
   {
    "duration": 164,
    "start_time": "2022-04-30T13:34:06.067Z"
   },
   {
    "duration": 145,
    "start_time": "2022-04-30T13:34:06.233Z"
   },
   {
    "duration": 142,
    "start_time": "2022-04-30T13:34:06.379Z"
   },
   {
    "duration": 142,
    "start_time": "2022-04-30T13:34:06.523Z"
   },
   {
    "duration": 135,
    "start_time": "2022-04-30T13:34:06.666Z"
   },
   {
    "duration": 138,
    "start_time": "2022-04-30T13:34:06.802Z"
   },
   {
    "duration": 131,
    "start_time": "2022-04-30T13:34:06.942Z"
   },
   {
    "duration": 143,
    "start_time": "2022-04-30T13:34:07.075Z"
   },
   {
    "duration": 16,
    "start_time": "2022-04-30T13:34:07.220Z"
   },
   {
    "duration": 23,
    "start_time": "2022-04-30T13:34:07.237Z"
   },
   {
    "duration": 8,
    "start_time": "2022-04-30T13:34:09.209Z"
   },
   {
    "duration": 18,
    "start_time": "2022-04-30T13:34:35.150Z"
   },
   {
    "duration": 226,
    "start_time": "2022-04-30T13:34:40.235Z"
   },
   {
    "duration": 4,
    "start_time": "2022-04-30T13:35:05.786Z"
   },
   {
    "duration": 5,
    "start_time": "2022-04-30T13:35:06.473Z"
   },
   {
    "duration": 142,
    "start_time": "2022-04-30T13:35:07.394Z"
   },
   {
    "duration": 6,
    "start_time": "2022-04-30T13:35:10.653Z"
   },
   {
    "duration": 6,
    "start_time": "2022-04-30T13:36:27.757Z"
   },
   {
    "duration": 136,
    "start_time": "2022-04-30T13:36:33.564Z"
   },
   {
    "duration": 7,
    "start_time": "2022-04-30T13:36:39.808Z"
   },
   {
    "duration": 134,
    "start_time": "2022-04-30T13:36:41.069Z"
   },
   {
    "duration": 6,
    "start_time": "2022-04-30T13:36:41.969Z"
   },
   {
    "duration": 6,
    "start_time": "2022-04-30T13:36:44.529Z"
   },
   {
    "duration": 134,
    "start_time": "2022-04-30T13:36:44.827Z"
   },
   {
    "duration": 7,
    "start_time": "2022-04-30T13:38:36.382Z"
   },
   {
    "duration": 10,
    "start_time": "2022-04-30T13:39:49.817Z"
   },
   {
    "duration": 7,
    "start_time": "2022-04-30T13:39:50.306Z"
   },
   {
    "duration": 19,
    "start_time": "2022-04-30T13:42:35.280Z"
   },
   {
    "duration": 8,
    "start_time": "2022-04-30T13:42:42.617Z"
   },
   {
    "duration": 10,
    "start_time": "2022-04-30T13:42:44.337Z"
   },
   {
    "duration": 7,
    "start_time": "2022-04-30T13:42:45.012Z"
   },
   {
    "duration": 9,
    "start_time": "2022-04-30T13:42:46.944Z"
   },
   {
    "duration": 8,
    "start_time": "2022-04-30T13:43:31.395Z"
   },
   {
    "duration": 8,
    "start_time": "2022-04-30T13:43:32.187Z"
   },
   {
    "duration": 7,
    "start_time": "2022-04-30T13:43:32.654Z"
   },
   {
    "duration": 98,
    "start_time": "2022-04-30T13:46:23.597Z"
   },
   {
    "duration": 6,
    "start_time": "2022-04-30T13:46:26.554Z"
   },
   {
    "duration": 6,
    "start_time": "2022-04-30T13:46:26.980Z"
   },
   {
    "duration": 4,
    "start_time": "2022-04-30T13:46:28.599Z"
   },
   {
    "duration": 50,
    "start_time": "2022-05-01T18:11:45.512Z"
   },
   {
    "duration": 454,
    "start_time": "2022-05-01T18:11:57.042Z"
   },
   {
    "duration": 2,
    "start_time": "2022-05-01T18:11:57.498Z"
   },
   {
    "duration": 421,
    "start_time": "2022-05-01T18:11:57.502Z"
   },
   {
    "duration": 504,
    "start_time": "2022-05-01T18:11:57.926Z"
   },
   {
    "duration": 4,
    "start_time": "2022-05-01T18:11:58.432Z"
   },
   {
    "duration": 39,
    "start_time": "2022-05-01T18:11:58.437Z"
   },
   {
    "duration": 18,
    "start_time": "2022-05-01T18:11:58.478Z"
   },
   {
    "duration": 28,
    "start_time": "2022-05-01T18:11:58.497Z"
   },
   {
    "duration": 5,
    "start_time": "2022-05-01T18:11:58.527Z"
   },
   {
    "duration": 8,
    "start_time": "2022-05-01T18:11:58.534Z"
   },
   {
    "duration": 9,
    "start_time": "2022-05-01T18:11:58.545Z"
   },
   {
    "duration": 6,
    "start_time": "2022-05-01T18:11:58.555Z"
   },
   {
    "duration": 10,
    "start_time": "2022-05-01T18:11:58.563Z"
   },
   {
    "duration": 21,
    "start_time": "2022-05-01T18:11:58.574Z"
   },
   {
    "duration": 9,
    "start_time": "2022-05-01T18:11:58.597Z"
   },
   {
    "duration": 16,
    "start_time": "2022-05-01T18:11:58.608Z"
   },
   {
    "duration": 26,
    "start_time": "2022-05-01T18:11:58.626Z"
   },
   {
    "duration": 3,
    "start_time": "2022-05-01T18:11:58.654Z"
   },
   {
    "duration": 283,
    "start_time": "2022-05-01T18:11:58.658Z"
   },
   {
    "duration": 9,
    "start_time": "2022-05-01T18:11:58.943Z"
   },
   {
    "duration": 16,
    "start_time": "2022-05-01T18:11:58.954Z"
   },
   {
    "duration": 6,
    "start_time": "2022-05-01T18:11:58.971Z"
   },
   {
    "duration": 18,
    "start_time": "2022-05-01T18:11:58.978Z"
   },
   {
    "duration": 11,
    "start_time": "2022-05-01T18:11:59.032Z"
   },
   {
    "duration": 38,
    "start_time": "2022-05-01T18:11:59.044Z"
   },
   {
    "duration": 166,
    "start_time": "2022-05-01T18:11:59.083Z"
   },
   {
    "duration": 151,
    "start_time": "2022-05-01T18:11:59.250Z"
   },
   {
    "duration": 142,
    "start_time": "2022-05-01T18:11:59.405Z"
   },
   {
    "duration": 142,
    "start_time": "2022-05-01T18:11:59.548Z"
   },
   {
    "duration": 138,
    "start_time": "2022-05-01T18:11:59.692Z"
   },
   {
    "duration": 127,
    "start_time": "2022-05-01T18:11:59.834Z"
   },
   {
    "duration": 136,
    "start_time": "2022-05-01T18:11:59.963Z"
   },
   {
    "duration": 155,
    "start_time": "2022-05-01T18:12:00.101Z"
   },
   {
    "duration": 16,
    "start_time": "2022-05-01T18:12:00.257Z"
   },
   {
    "duration": 16,
    "start_time": "2022-05-01T18:12:00.274Z"
   },
   {
    "duration": 34,
    "start_time": "2022-05-01T18:12:00.292Z"
   },
   {
    "duration": 247,
    "start_time": "2022-05-01T18:12:00.327Z"
   },
   {
    "duration": 3,
    "start_time": "2022-05-01T18:12:00.576Z"
   },
   {
    "duration": 18,
    "start_time": "2022-05-01T18:12:00.581Z"
   },
   {
    "duration": 161,
    "start_time": "2022-05-01T18:12:00.601Z"
   },
   {
    "duration": 5,
    "start_time": "2022-05-01T18:12:00.764Z"
   },
   {
    "duration": 20,
    "start_time": "2022-05-01T18:12:00.770Z"
   },
   {
    "duration": 167,
    "start_time": "2022-05-01T18:12:00.791Z"
   },
   {
    "duration": 6,
    "start_time": "2022-05-01T18:12:00.959Z"
   },
   {
    "duration": 14,
    "start_time": "2022-05-01T18:12:00.966Z"
   },
   {
    "duration": 150,
    "start_time": "2022-05-01T18:12:00.981Z"
   },
   {
    "duration": 10,
    "start_time": "2022-05-01T18:12:01.133Z"
   },
   {
    "duration": 24,
    "start_time": "2022-05-01T18:12:01.145Z"
   },
   {
    "duration": 168,
    "start_time": "2022-05-01T18:12:01.171Z"
   },
   {
    "duration": 5,
    "start_time": "2022-05-01T18:12:01.342Z"
   },
   {
    "duration": 14,
    "start_time": "2022-05-01T18:12:01.348Z"
   },
   {
    "duration": 13,
    "start_time": "2022-05-01T18:12:01.364Z"
   },
   {
    "duration": 9,
    "start_time": "2022-05-01T18:12:01.379Z"
   },
   {
    "duration": 18,
    "start_time": "2022-05-01T18:12:01.390Z"
   },
   {
    "duration": 26,
    "start_time": "2022-05-01T18:12:01.410Z"
   },
   {
    "duration": 20,
    "start_time": "2022-05-01T18:12:01.442Z"
   },
   {
    "duration": 20,
    "start_time": "2022-05-01T18:12:01.463Z"
   },
   {
    "duration": 18,
    "start_time": "2022-05-01T18:12:01.485Z"
   },
   {
    "duration": 9,
    "start_time": "2022-05-01T18:12:01.505Z"
   },
   {
    "duration": 14,
    "start_time": "2022-05-01T18:12:01.516Z"
   },
   {
    "duration": 21,
    "start_time": "2022-05-01T18:12:01.534Z"
   },
   {
    "duration": 9,
    "start_time": "2022-05-01T18:12:01.556Z"
   },
   {
    "duration": 15,
    "start_time": "2022-05-01T18:12:01.567Z"
   },
   {
    "duration": 18,
    "start_time": "2022-05-01T18:12:01.583Z"
   },
   {
    "duration": 9,
    "start_time": "2022-05-01T18:12:01.603Z"
   },
   {
    "duration": 9,
    "start_time": "2022-05-01T18:12:01.613Z"
   },
   {
    "duration": 17,
    "start_time": "2022-05-01T18:12:01.624Z"
   },
   {
    "duration": 9,
    "start_time": "2022-05-01T18:12:01.643Z"
   },
   {
    "duration": 18,
    "start_time": "2022-05-01T18:12:01.653Z"
   },
   {
    "duration": 49,
    "start_time": "2022-05-02T05:56:12.555Z"
   },
   {
    "duration": 445,
    "start_time": "2022-05-02T05:56:24.551Z"
   },
   {
    "duration": 2,
    "start_time": "2022-05-02T05:56:24.999Z"
   },
   {
    "duration": 444,
    "start_time": "2022-05-02T05:56:25.003Z"
   },
   {
    "duration": 555,
    "start_time": "2022-05-02T05:56:25.450Z"
   },
   {
    "duration": 3,
    "start_time": "2022-05-02T05:56:26.007Z"
   },
   {
    "duration": 44,
    "start_time": "2022-05-02T05:56:26.011Z"
   },
   {
    "duration": 24,
    "start_time": "2022-05-02T05:56:26.056Z"
   },
   {
    "duration": 15,
    "start_time": "2022-05-02T05:56:26.082Z"
   },
   {
    "duration": 4,
    "start_time": "2022-05-02T05:56:26.099Z"
   },
   {
    "duration": 8,
    "start_time": "2022-05-02T05:56:26.106Z"
   },
   {
    "duration": 5,
    "start_time": "2022-05-02T05:56:26.115Z"
   },
   {
    "duration": 14,
    "start_time": "2022-05-02T05:56:26.122Z"
   },
   {
    "duration": 15,
    "start_time": "2022-05-02T05:56:26.138Z"
   },
   {
    "duration": 32,
    "start_time": "2022-05-02T05:56:26.154Z"
   },
   {
    "duration": 10,
    "start_time": "2022-05-02T05:56:26.188Z"
   },
   {
    "duration": 13,
    "start_time": "2022-05-02T05:56:26.199Z"
   },
   {
    "duration": 12,
    "start_time": "2022-05-02T05:56:26.213Z"
   },
   {
    "duration": 4,
    "start_time": "2022-05-02T05:56:26.227Z"
   },
   {
    "duration": 278,
    "start_time": "2022-05-02T05:56:26.233Z"
   },
   {
    "duration": 10,
    "start_time": "2022-05-02T05:56:26.513Z"
   },
   {
    "duration": 18,
    "start_time": "2022-05-02T05:56:26.525Z"
   },
   {
    "duration": 33,
    "start_time": "2022-05-02T05:56:26.545Z"
   },
   {
    "duration": 32,
    "start_time": "2022-05-02T05:56:26.580Z"
   },
   {
    "duration": 8,
    "start_time": "2022-05-02T05:56:26.613Z"
   },
   {
    "duration": 24,
    "start_time": "2022-05-02T05:56:26.623Z"
   },
   {
    "duration": 182,
    "start_time": "2022-05-02T05:56:26.648Z"
   },
   {
    "duration": 145,
    "start_time": "2022-05-02T05:56:26.832Z"
   },
   {
    "duration": 152,
    "start_time": "2022-05-02T05:56:26.982Z"
   },
   {
    "duration": 156,
    "start_time": "2022-05-02T05:56:27.136Z"
   },
   {
    "duration": 146,
    "start_time": "2022-05-02T05:56:27.294Z"
   },
   {
    "duration": 145,
    "start_time": "2022-05-02T05:56:27.442Z"
   },
   {
    "duration": 148,
    "start_time": "2022-05-02T05:56:27.589Z"
   },
   {
    "duration": 149,
    "start_time": "2022-05-02T05:56:27.739Z"
   },
   {
    "duration": 17,
    "start_time": "2022-05-02T05:56:27.890Z"
   },
   {
    "duration": 10,
    "start_time": "2022-05-02T05:56:27.908Z"
   },
   {
    "duration": 19,
    "start_time": "2022-05-02T05:56:27.920Z"
   },
   {
    "duration": 274,
    "start_time": "2022-05-02T05:56:27.940Z"
   },
   {
    "duration": 4,
    "start_time": "2022-05-02T05:56:28.215Z"
   },
   {
    "duration": 9,
    "start_time": "2022-05-02T05:56:28.220Z"
   },
   {
    "duration": 170,
    "start_time": "2022-05-02T05:56:28.230Z"
   },
   {
    "duration": 5,
    "start_time": "2022-05-02T05:56:28.402Z"
   },
   {
    "duration": 8,
    "start_time": "2022-05-02T05:56:28.408Z"
   },
   {
    "duration": 176,
    "start_time": "2022-05-02T05:56:28.417Z"
   },
   {
    "duration": 7,
    "start_time": "2022-05-02T05:56:28.595Z"
   },
   {
    "duration": 8,
    "start_time": "2022-05-02T05:56:28.603Z"
   },
   {
    "duration": 177,
    "start_time": "2022-05-02T05:56:28.613Z"
   },
   {
    "duration": 8,
    "start_time": "2022-05-02T05:56:28.791Z"
   },
   {
    "duration": 9,
    "start_time": "2022-05-02T05:56:28.800Z"
   },
   {
    "duration": 181,
    "start_time": "2022-05-02T05:56:28.810Z"
   },
   {
    "duration": 6,
    "start_time": "2022-05-02T05:56:28.992Z"
   },
   {
    "duration": 7,
    "start_time": "2022-05-02T05:56:28.999Z"
   },
   {
    "duration": 10,
    "start_time": "2022-05-02T05:56:29.007Z"
   },
   {
    "duration": 12,
    "start_time": "2022-05-02T05:56:29.018Z"
   },
   {
    "duration": 10,
    "start_time": "2022-05-02T05:56:29.031Z"
   },
   {
    "duration": 39,
    "start_time": "2022-05-02T05:56:29.042Z"
   },
   {
    "duration": 9,
    "start_time": "2022-05-02T05:56:29.083Z"
   },
   {
    "duration": 13,
    "start_time": "2022-05-02T05:56:29.094Z"
   },
   {
    "duration": 8,
    "start_time": "2022-05-02T05:56:29.109Z"
   },
   {
    "duration": 9,
    "start_time": "2022-05-02T05:56:29.119Z"
   },
   {
    "duration": 7,
    "start_time": "2022-05-02T05:56:29.130Z"
   },
   {
    "duration": 47,
    "start_time": "2022-05-02T05:56:29.139Z"
   },
   {
    "duration": 8,
    "start_time": "2022-05-02T05:56:29.188Z"
   },
   {
    "duration": 13,
    "start_time": "2022-05-02T05:56:29.198Z"
   },
   {
    "duration": 7,
    "start_time": "2022-05-02T05:56:29.213Z"
   },
   {
    "duration": 5,
    "start_time": "2022-05-02T05:56:29.222Z"
   },
   {
    "duration": 9,
    "start_time": "2022-05-02T05:56:29.228Z"
   },
   {
    "duration": 12,
    "start_time": "2022-05-02T05:56:29.238Z"
   },
   {
    "duration": 30,
    "start_time": "2022-05-02T05:56:29.251Z"
   },
   {
    "duration": 6,
    "start_time": "2022-05-02T05:56:29.283Z"
   },
   {
    "duration": 8,
    "start_time": "2022-05-02T05:56:29.291Z"
   },
   {
    "duration": 5,
    "start_time": "2022-05-02T05:57:21.374Z"
   },
   {
    "duration": 6,
    "start_time": "2022-05-02T05:58:11.622Z"
   },
   {
    "duration": 143,
    "start_time": "2022-05-02T05:58:50.750Z"
   },
   {
    "duration": 5,
    "start_time": "2022-05-02T06:02:14.019Z"
   },
   {
    "duration": 4,
    "start_time": "2022-05-02T06:14:33.692Z"
   },
   {
    "duration": 6,
    "start_time": "2022-05-02T06:14:58.851Z"
   },
   {
    "duration": 164,
    "start_time": "2022-05-02T06:15:20.932Z"
   },
   {
    "duration": 5,
    "start_time": "2022-05-02T06:16:02.594Z"
   },
   {
    "duration": 5,
    "start_time": "2022-05-02T06:17:10.287Z"
   },
   {
    "duration": 151,
    "start_time": "2022-05-02T06:17:43.116Z"
   },
   {
    "duration": 171,
    "start_time": "2022-05-02T06:17:50.817Z"
   },
   {
    "duration": 5,
    "start_time": "2022-05-02T06:18:53.556Z"
   },
   {
    "duration": 8,
    "start_time": "2022-05-02T06:28:42.059Z"
   },
   {
    "duration": 10,
    "start_time": "2022-05-02T06:31:01.180Z"
   },
   {
    "duration": 113,
    "start_time": "2022-05-02T06:41:10.226Z"
   },
   {
    "duration": 115,
    "start_time": "2022-05-02T06:41:16.099Z"
   },
   {
    "duration": 483,
    "start_time": "2022-05-02T06:41:34.846Z"
   },
   {
    "duration": 3,
    "start_time": "2022-05-02T06:41:35.331Z"
   },
   {
    "duration": 297,
    "start_time": "2022-05-02T06:41:35.336Z"
   },
   {
    "duration": 560,
    "start_time": "2022-05-02T06:41:35.635Z"
   },
   {
    "duration": 3,
    "start_time": "2022-05-02T06:41:36.197Z"
   },
   {
    "duration": 64,
    "start_time": "2022-05-02T06:41:36.202Z"
   },
   {
    "duration": 20,
    "start_time": "2022-05-02T06:41:36.268Z"
   },
   {
    "duration": 14,
    "start_time": "2022-05-02T06:41:36.290Z"
   },
   {
    "duration": 6,
    "start_time": "2022-05-02T06:41:36.306Z"
   },
   {
    "duration": 5,
    "start_time": "2022-05-02T06:41:36.315Z"
   },
   {
    "duration": 10,
    "start_time": "2022-05-02T06:41:36.321Z"
   },
   {
    "duration": 8,
    "start_time": "2022-05-02T06:41:36.333Z"
   },
   {
    "duration": 32,
    "start_time": "2022-05-02T06:41:36.342Z"
   },
   {
    "duration": 15,
    "start_time": "2022-05-02T06:41:36.376Z"
   },
   {
    "duration": 10,
    "start_time": "2022-05-02T06:41:36.393Z"
   },
   {
    "duration": 10,
    "start_time": "2022-05-02T06:41:36.405Z"
   },
   {
    "duration": 17,
    "start_time": "2022-05-02T06:41:36.416Z"
   },
   {
    "duration": 4,
    "start_time": "2022-05-02T06:41:36.435Z"
   },
   {
    "duration": 269,
    "start_time": "2022-05-02T06:41:36.441Z"
   },
   {
    "duration": 10,
    "start_time": "2022-05-02T06:41:36.712Z"
   },
   {
    "duration": 25,
    "start_time": "2022-05-02T06:41:36.724Z"
   },
   {
    "duration": 23,
    "start_time": "2022-05-02T06:41:36.751Z"
   },
   {
    "duration": 23,
    "start_time": "2022-05-02T06:41:36.776Z"
   },
   {
    "duration": 12,
    "start_time": "2022-05-02T06:41:36.800Z"
   },
   {
    "duration": 26,
    "start_time": "2022-05-02T06:41:36.814Z"
   },
   {
    "duration": 210,
    "start_time": "2022-05-02T06:41:36.842Z"
   },
   {
    "duration": 164,
    "start_time": "2022-05-02T06:41:37.054Z"
   },
   {
    "duration": 161,
    "start_time": "2022-05-02T06:41:37.222Z"
   },
   {
    "duration": 155,
    "start_time": "2022-05-02T06:41:37.385Z"
   },
   {
    "duration": 154,
    "start_time": "2022-05-02T06:41:37.542Z"
   },
   {
    "duration": 150,
    "start_time": "2022-05-02T06:41:37.698Z"
   },
   {
    "duration": 152,
    "start_time": "2022-05-02T06:41:37.850Z"
   },
   {
    "duration": 160,
    "start_time": "2022-05-02T06:41:38.003Z"
   },
   {
    "duration": 19,
    "start_time": "2022-05-02T06:41:38.173Z"
   },
   {
    "duration": 8,
    "start_time": "2022-05-02T06:41:38.194Z"
   },
   {
    "duration": 22,
    "start_time": "2022-05-02T06:41:38.204Z"
   },
   {
    "duration": 294,
    "start_time": "2022-05-02T06:41:38.228Z"
   },
   {
    "duration": 5,
    "start_time": "2022-05-02T06:41:38.523Z"
   },
   {
    "duration": 9,
    "start_time": "2022-05-02T06:41:38.529Z"
   },
   {
    "duration": 180,
    "start_time": "2022-05-02T06:41:38.539Z"
   },
   {
    "duration": 6,
    "start_time": "2022-05-02T06:41:38.721Z"
   },
   {
    "duration": 9,
    "start_time": "2022-05-02T06:41:38.729Z"
   },
   {
    "duration": 180,
    "start_time": "2022-05-02T06:41:38.740Z"
   },
   {
    "duration": 6,
    "start_time": "2022-05-02T06:41:38.922Z"
   },
   {
    "duration": 6,
    "start_time": "2022-05-02T06:41:38.930Z"
   },
   {
    "duration": 9,
    "start_time": "2022-05-02T06:41:38.937Z"
   },
   {
    "duration": 186,
    "start_time": "2022-05-02T06:41:38.948Z"
   },
   {
    "duration": 6,
    "start_time": "2022-05-02T06:41:39.136Z"
   },
   {
    "duration": 9,
    "start_time": "2022-05-02T06:41:39.143Z"
   },
   {
    "duration": 174,
    "start_time": "2022-05-02T06:41:39.154Z"
   },
   {
    "duration": 6,
    "start_time": "2022-05-02T06:41:39.330Z"
   },
   {
    "duration": 9,
    "start_time": "2022-05-02T06:41:39.337Z"
   },
   {
    "duration": 169,
    "start_time": "2022-05-02T06:41:39.348Z"
   },
   {
    "duration": 6,
    "start_time": "2022-05-02T06:41:39.519Z"
   },
   {
    "duration": 6,
    "start_time": "2022-05-02T06:41:39.527Z"
   },
   {
    "duration": 173,
    "start_time": "2022-05-02T06:41:39.535Z"
   },
   {
    "duration": 5,
    "start_time": "2022-05-02T06:41:39.710Z"
   },
   {
    "duration": 10,
    "start_time": "2022-05-02T06:41:39.717Z"
   },
   {
    "duration": 12,
    "start_time": "2022-05-02T06:41:39.729Z"
   },
   {
    "duration": 31,
    "start_time": "2022-05-02T06:41:39.743Z"
   },
   {
    "duration": 10,
    "start_time": "2022-05-02T06:41:39.776Z"
   },
   {
    "duration": 9,
    "start_time": "2022-05-02T06:41:39.788Z"
   },
   {
    "duration": 11,
    "start_time": "2022-05-02T06:41:39.799Z"
   },
   {
    "duration": 8,
    "start_time": "2022-05-02T06:41:39.811Z"
   },
   {
    "duration": 11,
    "start_time": "2022-05-02T06:41:39.820Z"
   },
   {
    "duration": 44,
    "start_time": "2022-05-02T06:41:39.832Z"
   },
   {
    "duration": 8,
    "start_time": "2022-05-02T06:41:39.878Z"
   },
   {
    "duration": 8,
    "start_time": "2022-05-02T06:41:39.888Z"
   },
   {
    "duration": 7,
    "start_time": "2022-05-02T06:41:39.898Z"
   },
   {
    "duration": 11,
    "start_time": "2022-05-02T06:41:39.907Z"
   },
   {
    "duration": 7,
    "start_time": "2022-05-02T06:41:39.920Z"
   },
   {
    "duration": 7,
    "start_time": "2022-05-02T06:41:39.929Z"
   },
   {
    "duration": 37,
    "start_time": "2022-05-02T06:41:39.938Z"
   },
   {
    "duration": 12,
    "start_time": "2022-05-02T06:41:39.977Z"
   },
   {
    "duration": 8,
    "start_time": "2022-05-02T06:41:39.991Z"
   },
   {
    "duration": 7,
    "start_time": "2022-05-02T06:41:40.001Z"
   },
   {
    "duration": 172,
    "start_time": "2022-05-02T06:42:28.258Z"
   },
   {
    "duration": 586,
    "start_time": "2022-05-02T16:27:55.889Z"
   },
   {
    "duration": 3,
    "start_time": "2022-05-02T16:27:56.478Z"
   },
   {
    "duration": 658,
    "start_time": "2022-05-02T16:27:56.483Z"
   },
   {
    "duration": 660,
    "start_time": "2022-05-02T16:27:57.145Z"
   },
   {
    "duration": 4,
    "start_time": "2022-05-02T16:27:57.807Z"
   },
   {
    "duration": 53,
    "start_time": "2022-05-02T16:27:57.824Z"
   },
   {
    "duration": 28,
    "start_time": "2022-05-02T16:27:57.880Z"
   },
   {
    "duration": 41,
    "start_time": "2022-05-02T16:27:57.910Z"
   },
   {
    "duration": 6,
    "start_time": "2022-05-02T16:27:57.953Z"
   },
   {
    "duration": 7,
    "start_time": "2022-05-02T16:27:57.962Z"
   },
   {
    "duration": 8,
    "start_time": "2022-05-02T16:27:57.971Z"
   },
   {
    "duration": 7,
    "start_time": "2022-05-02T16:27:57.981Z"
   },
   {
    "duration": 49,
    "start_time": "2022-05-02T16:27:57.991Z"
   },
   {
    "duration": 21,
    "start_time": "2022-05-02T16:27:58.042Z"
   },
   {
    "duration": 13,
    "start_time": "2022-05-02T16:27:58.065Z"
   },
   {
    "duration": 10,
    "start_time": "2022-05-02T16:27:58.080Z"
   },
   {
    "duration": 19,
    "start_time": "2022-05-02T16:27:58.124Z"
   },
   {
    "duration": 6,
    "start_time": "2022-05-02T16:27:58.145Z"
   },
   {
    "duration": 460,
    "start_time": "2022-05-02T16:27:58.153Z"
   },
   {
    "duration": 22,
    "start_time": "2022-05-02T16:27:58.615Z"
   },
   {
    "duration": 38,
    "start_time": "2022-05-02T16:27:58.640Z"
   },
   {
    "duration": 8,
    "start_time": "2022-05-02T16:27:58.680Z"
   },
   {
    "duration": 56,
    "start_time": "2022-05-02T16:27:58.690Z"
   },
   {
    "duration": 12,
    "start_time": "2022-05-02T16:27:58.748Z"
   },
   {
    "duration": 33,
    "start_time": "2022-05-02T16:27:58.763Z"
   },
   {
    "duration": 294,
    "start_time": "2022-05-02T16:27:58.798Z"
   },
   {
    "duration": 258,
    "start_time": "2022-05-02T16:27:59.095Z"
   },
   {
    "duration": 282,
    "start_time": "2022-05-02T16:27:59.362Z"
   },
   {
    "duration": 243,
    "start_time": "2022-05-02T16:27:59.647Z"
   },
   {
    "duration": 249,
    "start_time": "2022-05-02T16:27:59.892Z"
   },
   {
    "duration": 268,
    "start_time": "2022-05-02T16:28:00.144Z"
   },
   {
    "duration": 240,
    "start_time": "2022-05-02T16:28:00.414Z"
   },
   {
    "duration": 249,
    "start_time": "2022-05-02T16:28:00.656Z"
   },
   {
    "duration": 38,
    "start_time": "2022-05-02T16:28:00.907Z"
   },
   {
    "duration": 16,
    "start_time": "2022-05-02T16:28:00.947Z"
   },
   {
    "duration": 34,
    "start_time": "2022-05-02T16:28:00.965Z"
   },
   {
    "duration": 390,
    "start_time": "2022-05-02T16:28:01.001Z"
   },
   {
    "duration": 6,
    "start_time": "2022-05-02T16:28:01.394Z"
   },
   {
    "duration": 32,
    "start_time": "2022-05-02T16:28:01.403Z"
   },
   {
    "duration": 266,
    "start_time": "2022-05-02T16:28:01.438Z"
   },
   {
    "duration": 26,
    "start_time": "2022-05-02T16:28:01.706Z"
   },
   {
    "duration": 8,
    "start_time": "2022-05-02T16:28:01.735Z"
   },
   {
    "duration": 374,
    "start_time": "2022-05-02T16:28:01.746Z"
   },
   {
    "duration": 13,
    "start_time": "2022-05-02T16:28:02.127Z"
   },
   {
    "duration": 15,
    "start_time": "2022-05-02T16:28:02.142Z"
   },
   {
    "duration": 16,
    "start_time": "2022-05-02T16:28:02.159Z"
   },
   {
    "duration": 286,
    "start_time": "2022-05-02T16:28:02.178Z"
   },
   {
    "duration": 7,
    "start_time": "2022-05-02T16:28:02.466Z"
   },
   {
    "duration": 11,
    "start_time": "2022-05-02T16:28:02.476Z"
   },
   {
    "duration": 295,
    "start_time": "2022-05-02T16:28:02.489Z"
   },
   {
    "duration": 9,
    "start_time": "2022-05-02T16:28:02.786Z"
   },
   {
    "duration": 39,
    "start_time": "2022-05-02T16:28:02.797Z"
   },
   {
    "duration": 251,
    "start_time": "2022-05-02T16:28:02.838Z"
   },
   {
    "duration": 8,
    "start_time": "2022-05-02T16:28:03.091Z"
   },
   {
    "duration": 34,
    "start_time": "2022-05-02T16:28:03.101Z"
   },
   {
    "duration": 258,
    "start_time": "2022-05-02T16:28:03.138Z"
   },
   {
    "duration": 7,
    "start_time": "2022-05-02T16:28:03.398Z"
   },
   {
    "duration": 31,
    "start_time": "2022-05-02T16:28:03.407Z"
   },
   {
    "duration": 17,
    "start_time": "2022-05-02T16:28:03.441Z"
   },
   {
    "duration": 175,
    "start_time": "2022-05-02T16:28:03.460Z"
   },
   {
    "duration": 0,
    "start_time": "2022-05-02T16:28:03.639Z"
   },
   {
    "duration": 0,
    "start_time": "2022-05-02T16:28:03.641Z"
   },
   {
    "duration": 0,
    "start_time": "2022-05-02T16:28:03.642Z"
   },
   {
    "duration": 0,
    "start_time": "2022-05-02T16:28:03.644Z"
   },
   {
    "duration": 0,
    "start_time": "2022-05-02T16:28:03.645Z"
   },
   {
    "duration": 0,
    "start_time": "2022-05-02T16:28:03.647Z"
   },
   {
    "duration": 0,
    "start_time": "2022-05-02T16:28:03.649Z"
   },
   {
    "duration": 0,
    "start_time": "2022-05-02T16:28:03.650Z"
   },
   {
    "duration": 0,
    "start_time": "2022-05-02T16:28:03.652Z"
   },
   {
    "duration": 0,
    "start_time": "2022-05-02T16:28:03.653Z"
   },
   {
    "duration": 0,
    "start_time": "2022-05-02T16:28:03.656Z"
   },
   {
    "duration": 0,
    "start_time": "2022-05-02T16:28:03.657Z"
   },
   {
    "duration": 0,
    "start_time": "2022-05-02T16:28:03.659Z"
   },
   {
    "duration": 0,
    "start_time": "2022-05-02T16:28:03.660Z"
   },
   {
    "duration": 0,
    "start_time": "2022-05-02T16:28:03.662Z"
   },
   {
    "duration": 1,
    "start_time": "2022-05-02T16:28:03.663Z"
   },
   {
    "duration": 13,
    "start_time": "2022-05-02T16:28:42.590Z"
   },
   {
    "duration": 12,
    "start_time": "2022-05-02T16:28:46.997Z"
   },
   {
    "duration": 13,
    "start_time": "2022-05-02T16:28:53.254Z"
   },
   {
    "duration": 9,
    "start_time": "2022-05-02T16:29:15.304Z"
   },
   {
    "duration": 14,
    "start_time": "2022-05-02T16:29:33.189Z"
   },
   {
    "duration": 18,
    "start_time": "2022-05-02T16:29:45.626Z"
   },
   {
    "duration": 9,
    "start_time": "2022-05-02T16:29:54.507Z"
   },
   {
    "duration": 15,
    "start_time": "2022-05-02T16:30:13.449Z"
   },
   {
    "duration": 9,
    "start_time": "2022-05-02T16:30:29.685Z"
   },
   {
    "duration": 11,
    "start_time": "2022-05-02T16:42:32.700Z"
   },
   {
    "duration": 10,
    "start_time": "2022-05-02T16:42:40.748Z"
   },
   {
    "duration": 17,
    "start_time": "2022-05-02T16:43:34.379Z"
   },
   {
    "duration": 10,
    "start_time": "2022-05-02T16:43:46.986Z"
   },
   {
    "duration": 10,
    "start_time": "2022-05-02T16:43:54.245Z"
   },
   {
    "duration": 14,
    "start_time": "2022-05-02T16:52:33.220Z"
   },
   {
    "duration": 9,
    "start_time": "2022-05-02T16:53:56.205Z"
   },
   {
    "duration": 10,
    "start_time": "2022-05-02T16:54:37.152Z"
   },
   {
    "duration": 10,
    "start_time": "2022-05-02T16:59:17.077Z"
   },
   {
    "duration": 6,
    "start_time": "2022-05-02T17:00:04.914Z"
   },
   {
    "duration": 17,
    "start_time": "2022-05-02T17:01:26.029Z"
   },
   {
    "duration": 8,
    "start_time": "2022-05-02T17:01:41.324Z"
   },
   {
    "duration": 10,
    "start_time": "2022-05-02T17:03:40.519Z"
   },
   {
    "duration": 14,
    "start_time": "2022-05-02T17:34:45.779Z"
   },
   {
    "duration": 10,
    "start_time": "2022-05-02T17:34:48.944Z"
   },
   {
    "duration": 9,
    "start_time": "2022-05-02T17:34:51.639Z"
   },
   {
    "duration": 11,
    "start_time": "2022-05-02T17:37:01.243Z"
   },
   {
    "duration": 14,
    "start_time": "2022-05-02T17:37:03.329Z"
   },
   {
    "duration": 12,
    "start_time": "2022-05-02T17:42:06.376Z"
   },
   {
    "duration": 611,
    "start_time": "2022-05-02T17:42:17.686Z"
   },
   {
    "duration": 4,
    "start_time": "2022-05-02T17:42:18.300Z"
   },
   {
    "duration": 396,
    "start_time": "2022-05-02T17:42:18.308Z"
   },
   {
    "duration": 964,
    "start_time": "2022-05-02T17:42:18.707Z"
   },
   {
    "duration": 4,
    "start_time": "2022-05-02T17:42:19.675Z"
   },
   {
    "duration": 92,
    "start_time": "2022-05-02T17:42:19.682Z"
   },
   {
    "duration": 62,
    "start_time": "2022-05-02T17:42:19.777Z"
   },
   {
    "duration": 23,
    "start_time": "2022-05-02T17:42:19.841Z"
   },
   {
    "duration": 6,
    "start_time": "2022-05-02T17:42:19.866Z"
   },
   {
    "duration": 7,
    "start_time": "2022-05-02T17:42:19.877Z"
   },
   {
    "duration": 43,
    "start_time": "2022-05-02T17:42:19.886Z"
   },
   {
    "duration": 13,
    "start_time": "2022-05-02T17:42:19.933Z"
   },
   {
    "duration": 16,
    "start_time": "2022-05-02T17:42:19.949Z"
   },
   {
    "duration": 22,
    "start_time": "2022-05-02T17:42:19.967Z"
   },
   {
    "duration": 45,
    "start_time": "2022-05-02T17:42:19.991Z"
   },
   {
    "duration": 12,
    "start_time": "2022-05-02T17:42:20.044Z"
   },
   {
    "duration": 26,
    "start_time": "2022-05-02T17:42:20.058Z"
   },
   {
    "duration": 8,
    "start_time": "2022-05-02T17:42:20.086Z"
   },
   {
    "duration": 456,
    "start_time": "2022-05-02T17:42:20.126Z"
   },
   {
    "duration": 18,
    "start_time": "2022-05-02T17:42:20.585Z"
   },
   {
    "duration": 61,
    "start_time": "2022-05-02T17:42:20.605Z"
   },
   {
    "duration": 12,
    "start_time": "2022-05-02T17:42:20.669Z"
   },
   {
    "duration": 75,
    "start_time": "2022-05-02T17:42:20.684Z"
   },
   {
    "duration": 18,
    "start_time": "2022-05-02T17:42:20.762Z"
   },
   {
    "duration": 67,
    "start_time": "2022-05-02T17:42:20.783Z"
   },
   {
    "duration": 291,
    "start_time": "2022-05-02T17:42:20.852Z"
   },
   {
    "duration": 265,
    "start_time": "2022-05-02T17:42:21.145Z"
   },
   {
    "duration": 245,
    "start_time": "2022-05-02T17:42:21.426Z"
   },
   {
    "duration": 270,
    "start_time": "2022-05-02T17:42:21.673Z"
   },
   {
    "duration": 256,
    "start_time": "2022-05-02T17:42:21.946Z"
   },
   {
    "duration": 248,
    "start_time": "2022-05-02T17:42:22.205Z"
   },
   {
    "duration": 244,
    "start_time": "2022-05-02T17:42:22.456Z"
   },
   {
    "duration": 257,
    "start_time": "2022-05-02T17:42:22.702Z"
   },
   {
    "duration": 27,
    "start_time": "2022-05-02T17:42:22.961Z"
   },
   {
    "duration": 41,
    "start_time": "2022-05-02T17:42:22.991Z"
   },
   {
    "duration": 39,
    "start_time": "2022-05-02T17:42:23.034Z"
   },
   {
    "duration": 743,
    "start_time": "2022-05-02T17:42:23.076Z"
   },
   {
    "duration": 11,
    "start_time": "2022-05-02T17:42:23.822Z"
   },
   {
    "duration": 24,
    "start_time": "2022-05-02T17:42:23.836Z"
   },
   {
    "duration": 280,
    "start_time": "2022-05-02T17:42:23.862Z"
   },
   {
    "duration": 7,
    "start_time": "2022-05-02T17:42:24.145Z"
   },
   {
    "duration": 11,
    "start_time": "2022-05-02T17:42:24.155Z"
   },
   {
    "duration": 298,
    "start_time": "2022-05-02T17:42:24.169Z"
   },
   {
    "duration": 7,
    "start_time": "2022-05-02T17:42:24.470Z"
   },
   {
    "duration": 7,
    "start_time": "2022-05-02T17:42:24.480Z"
   },
   {
    "duration": 20,
    "start_time": "2022-05-02T17:42:24.490Z"
   },
   {
    "duration": 447,
    "start_time": "2022-05-02T17:42:24.524Z"
   },
   {
    "duration": 8,
    "start_time": "2022-05-02T17:42:24.975Z"
   },
   {
    "duration": 38,
    "start_time": "2022-05-02T17:42:24.986Z"
   },
   {
    "duration": 281,
    "start_time": "2022-05-02T17:42:25.028Z"
   },
   {
    "duration": 20,
    "start_time": "2022-05-02T17:42:25.312Z"
   },
   {
    "duration": 31,
    "start_time": "2022-05-02T17:42:25.335Z"
   },
   {
    "duration": 264,
    "start_time": "2022-05-02T17:42:25.369Z"
   },
   {
    "duration": 8,
    "start_time": "2022-05-02T17:42:25.640Z"
   },
   {
    "duration": 15,
    "start_time": "2022-05-02T17:42:25.651Z"
   },
   {
    "duration": 278,
    "start_time": "2022-05-02T17:42:25.668Z"
   },
   {
    "duration": 8,
    "start_time": "2022-05-02T17:42:25.949Z"
   },
   {
    "duration": 28,
    "start_time": "2022-05-02T17:42:25.959Z"
   },
   {
    "duration": 29,
    "start_time": "2022-05-02T17:42:25.990Z"
   },
   {
    "duration": 35,
    "start_time": "2022-05-02T17:42:26.021Z"
   },
   {
    "duration": 30,
    "start_time": "2022-05-02T17:42:26.058Z"
   },
   {
    "duration": 25,
    "start_time": "2022-05-02T17:42:26.091Z"
   },
   {
    "duration": 48,
    "start_time": "2022-05-02T17:42:26.119Z"
   },
   {
    "duration": 41,
    "start_time": "2022-05-02T17:42:26.169Z"
   },
   {
    "duration": 33,
    "start_time": "2022-05-02T17:42:26.212Z"
   },
   {
    "duration": 28,
    "start_time": "2022-05-02T17:42:26.247Z"
   },
   {
    "duration": 24,
    "start_time": "2022-05-02T17:42:26.277Z"
   },
   {
    "duration": 44,
    "start_time": "2022-05-02T17:42:26.304Z"
   },
   {
    "duration": 24,
    "start_time": "2022-05-02T17:42:26.351Z"
   },
   {
    "duration": 18,
    "start_time": "2022-05-02T17:42:26.378Z"
   },
   {
    "duration": 17,
    "start_time": "2022-05-02T17:42:26.399Z"
   },
   {
    "duration": 38,
    "start_time": "2022-05-02T17:42:26.419Z"
   },
   {
    "duration": 27,
    "start_time": "2022-05-02T17:42:26.460Z"
   },
   {
    "duration": 47,
    "start_time": "2022-05-02T17:42:26.489Z"
   },
   {
    "duration": 24,
    "start_time": "2022-05-02T17:42:26.540Z"
   },
   {
    "duration": 172,
    "start_time": "2022-05-02T17:42:26.566Z"
   },
   {
    "duration": 8,
    "start_time": "2022-05-02T17:43:02.550Z"
   },
   {
    "duration": 408,
    "start_time": "2022-05-02T21:12:16.616Z"
   },
   {
    "duration": 4,
    "start_time": "2022-05-02T21:12:17.025Z"
   },
   {
    "duration": 292,
    "start_time": "2022-05-02T21:12:17.137Z"
   },
   {
    "duration": 470,
    "start_time": "2022-05-02T21:12:17.430Z"
   },
   {
    "duration": 3,
    "start_time": "2022-05-02T21:12:17.902Z"
   },
   {
    "duration": 35,
    "start_time": "2022-05-02T21:12:17.990Z"
   },
   {
    "duration": 18,
    "start_time": "2022-05-02T21:12:18.176Z"
   },
   {
    "duration": 13,
    "start_time": "2022-05-02T21:12:19.077Z"
   },
   {
    "duration": 4,
    "start_time": "2022-05-02T21:12:20.843Z"
   },
   {
    "duration": 5,
    "start_time": "2022-05-02T21:12:22.381Z"
   },
   {
    "duration": 4,
    "start_time": "2022-05-02T21:12:23.711Z"
   },
   {
    "duration": 4,
    "start_time": "2022-05-02T21:12:24.832Z"
   },
   {
    "duration": 7,
    "start_time": "2022-05-02T21:12:25.056Z"
   },
   {
    "duration": 14,
    "start_time": "2022-05-02T21:12:25.218Z"
   },
   {
    "duration": 9,
    "start_time": "2022-05-02T21:12:25.533Z"
   },
   {
    "duration": 6,
    "start_time": "2022-05-02T21:12:26.173Z"
   },
   {
    "duration": 8,
    "start_time": "2022-05-02T21:12:30.963Z"
   },
   {
    "duration": 3,
    "start_time": "2022-05-02T21:12:31.723Z"
   },
   {
    "duration": 223,
    "start_time": "2022-05-02T21:12:35.529Z"
   },
   {
    "duration": 11,
    "start_time": "2022-05-02T21:12:36.609Z"
   },
   {
    "duration": 15,
    "start_time": "2022-05-02T21:12:37.772Z"
   },
   {
    "duration": 5,
    "start_time": "2022-05-02T21:12:39.691Z"
   },
   {
    "duration": 17,
    "start_time": "2022-05-02T21:12:41.608Z"
   },
   {
    "duration": 9,
    "start_time": "2022-05-02T21:12:42.823Z"
   },
   {
    "duration": 19,
    "start_time": "2022-05-02T21:12:43.749Z"
   },
   {
    "duration": 138,
    "start_time": "2022-05-02T21:12:46.091Z"
   },
   {
    "duration": 130,
    "start_time": "2022-05-02T21:12:49.670Z"
   },
   {
    "duration": 130,
    "start_time": "2022-05-02T21:12:50.508Z"
   },
   {
    "duration": 127,
    "start_time": "2022-05-02T21:12:50.987Z"
   },
   {
    "duration": 135,
    "start_time": "2022-05-02T21:12:51.518Z"
   },
   {
    "duration": 118,
    "start_time": "2022-05-02T21:12:52.419Z"
   },
   {
    "duration": 116,
    "start_time": "2022-05-02T21:12:53.337Z"
   },
   {
    "duration": 121,
    "start_time": "2022-05-02T21:12:55.290Z"
   },
   {
    "duration": 15,
    "start_time": "2022-05-02T21:13:01.584Z"
   },
   {
    "duration": 7,
    "start_time": "2022-05-02T21:13:31.173Z"
   },
   {
    "duration": 17,
    "start_time": "2022-05-02T21:13:32.472Z"
   },
   {
    "duration": 226,
    "start_time": "2022-05-02T21:13:33.583Z"
   },
   {
    "duration": 4,
    "start_time": "2022-05-02T21:13:38.738Z"
   },
   {
    "duration": 5,
    "start_time": "2022-05-02T21:13:38.971Z"
   },
   {
    "duration": 141,
    "start_time": "2022-05-02T21:13:39.271Z"
   },
   {
    "duration": 5,
    "start_time": "2022-05-02T21:13:39.606Z"
   },
   {
    "duration": 5,
    "start_time": "2022-05-02T21:14:00.955Z"
   },
   {
    "duration": 163,
    "start_time": "2022-05-02T21:14:00.962Z"
   },
   {
    "duration": 5,
    "start_time": "2022-05-02T21:14:01.127Z"
   },
   {
    "duration": 4,
    "start_time": "2022-05-02T21:14:01.830Z"
   },
   {
    "duration": 6,
    "start_time": "2022-05-02T21:14:02.699Z"
   },
   {
    "duration": 135,
    "start_time": "2022-05-02T21:14:02.953Z"
   },
   {
    "duration": 4,
    "start_time": "2022-05-02T21:14:03.159Z"
   },
   {
    "duration": 5,
    "start_time": "2022-05-02T21:14:04.310Z"
   },
   {
    "duration": 148,
    "start_time": "2022-05-02T21:14:04.561Z"
   },
   {
    "duration": 5,
    "start_time": "2022-05-02T21:14:04.858Z"
   },
   {
    "duration": 6,
    "start_time": "2022-05-02T21:14:07.097Z"
   },
   {
    "duration": 136,
    "start_time": "2022-05-02T21:14:07.417Z"
   },
   {
    "duration": 5,
    "start_time": "2022-05-02T21:14:09.095Z"
   },
   {
    "duration": 6,
    "start_time": "2022-05-02T21:14:10.428Z"
   },
   {
    "duration": 138,
    "start_time": "2022-05-02T21:14:10.913Z"
   },
   {
    "duration": 9,
    "start_time": "2022-05-02T21:15:04.462Z"
   },
   {
    "duration": 7,
    "start_time": "2022-05-02T21:15:04.745Z"
   },
   {
    "duration": 9,
    "start_time": "2022-05-02T21:15:06.241Z"
   },
   {
    "duration": 6,
    "start_time": "2022-05-02T21:15:08.363Z"
   },
   {
    "duration": 9,
    "start_time": "2022-05-02T21:15:09.535Z"
   },
   {
    "duration": 6,
    "start_time": "2022-05-02T21:15:09.830Z"
   },
   {
    "duration": 6,
    "start_time": "2022-05-02T21:15:23.275Z"
   },
   {
    "duration": 6,
    "start_time": "2022-05-02T21:15:23.468Z"
   },
   {
    "duration": 7,
    "start_time": "2022-05-02T21:15:23.666Z"
   },
   {
    "duration": 6,
    "start_time": "2022-05-02T21:15:29.103Z"
   },
   {
    "duration": 6,
    "start_time": "2022-05-02T21:15:41.801Z"
   },
   {
    "duration": 7,
    "start_time": "2022-05-02T21:15:44.685Z"
   },
   {
    "duration": 87,
    "start_time": "2022-05-02T21:16:56.037Z"
   },
   {
    "duration": 7,
    "start_time": "2022-05-02T21:16:57.968Z"
   },
   {
    "duration": 8,
    "start_time": "2022-05-02T21:16:58.515Z"
   },
   {
    "duration": 5,
    "start_time": "2022-05-02T21:16:59.455Z"
   }
  ],
  "kernelspec": {
   "display_name": "Python 3 (ipykernel)",
   "language": "python",
   "name": "python3"
  },
  "language_info": {
   "codemirror_mode": {
    "name": "ipython",
    "version": 3
   },
   "file_extension": ".py",
   "mimetype": "text/x-python",
   "name": "python",
   "nbconvert_exporter": "python",
   "pygments_lexer": "ipython3",
   "version": "3.9.7"
  },
  "toc": {
   "base_numbering": 1,
   "nav_menu": {},
   "number_sections": true,
   "sideBar": true,
   "skip_h1_title": true,
   "title_cell": "Table of Contents",
   "title_sidebar": "Contents",
   "toc_cell": false,
   "toc_position": {},
   "toc_section_display": true,
   "toc_window_display": false
  }
 },
 "nbformat": 4,
 "nbformat_minor": 2
}
