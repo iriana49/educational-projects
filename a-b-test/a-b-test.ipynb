{
 "cells": [
  {
   "cell_type": "markdown",
   "metadata": {},
   "source": [
    "# Контекст\n",
    "Вы — аналитик крупного интернет-магазина. Вместе с отделом маркетинга вы подготовили список гипотез для увеличения выручки.\n",
    "Приоритизируйте гипотезы, запустите A/B-тест и проанализируйте результаты."
   ]
  },
  {
   "cell_type": "markdown",
   "metadata": {},
   "source": [
    "# Часть 1. Приоритизация гипотез."
   ]
  },
  {
   "cell_type": "code",
   "execution_count": 1,
   "metadata": {},
   "outputs": [],
   "source": [
    "import pandas as pd\n",
    "import datetime as dt\n",
    "import numpy as np\n",
    "import matplotlib.pyplot as plt\n",
    "from pandas.plotting import register_matplotlib_converters\n",
    "import warnings\n",
    "import scipy.stats as stats"
   ]
  },
  {
   "cell_type": "code",
   "execution_count": 2,
   "metadata": {},
   "outputs": [],
   "source": [
    "register_matplotlib_converters()"
   ]
  },
  {
   "cell_type": "code",
   "execution_count": 3,
   "metadata": {},
   "outputs": [],
   "source": [
    "data = pd.read_csv('hypothesis.csv')"
   ]
  },
  {
   "cell_type": "code",
   "execution_count": 4,
   "metadata": {},
   "outputs": [
    {
     "data": {
      "text/html": [
       "<div>\n",
       "<style scoped>\n",
       "    .dataframe tbody tr th:only-of-type {\n",
       "        vertical-align: middle;\n",
       "    }\n",
       "\n",
       "    .dataframe tbody tr th {\n",
       "        vertical-align: top;\n",
       "    }\n",
       "\n",
       "    .dataframe thead th {\n",
       "        text-align: right;\n",
       "    }\n",
       "</style>\n",
       "<table border=\"1\" class=\"dataframe\">\n",
       "  <thead>\n",
       "    <tr style=\"text-align: right;\">\n",
       "      <th></th>\n",
       "      <th>Hypothesis</th>\n",
       "      <th>Reach</th>\n",
       "      <th>Impact</th>\n",
       "      <th>Confidence</th>\n",
       "      <th>Efforts</th>\n",
       "    </tr>\n",
       "  </thead>\n",
       "  <tbody>\n",
       "    <tr>\n",
       "      <th>0</th>\n",
       "      <td>Добавить два новых канала привлечения трафика,...</td>\n",
       "      <td>3</td>\n",
       "      <td>10</td>\n",
       "      <td>8</td>\n",
       "      <td>6</td>\n",
       "    </tr>\n",
       "    <tr>\n",
       "      <th>1</th>\n",
       "      <td>Запустить собственную службу доставки, что сок...</td>\n",
       "      <td>2</td>\n",
       "      <td>5</td>\n",
       "      <td>4</td>\n",
       "      <td>10</td>\n",
       "    </tr>\n",
       "    <tr>\n",
       "      <th>2</th>\n",
       "      <td>Добавить блоки рекомендаций товаров на сайт ин...</td>\n",
       "      <td>8</td>\n",
       "      <td>3</td>\n",
       "      <td>7</td>\n",
       "      <td>3</td>\n",
       "    </tr>\n",
       "    <tr>\n",
       "      <th>3</th>\n",
       "      <td>Изменить структура категорий, что увеличит кон...</td>\n",
       "      <td>8</td>\n",
       "      <td>3</td>\n",
       "      <td>3</td>\n",
       "      <td>8</td>\n",
       "    </tr>\n",
       "    <tr>\n",
       "      <th>4</th>\n",
       "      <td>Изменить цвет фона главной страницы, чтобы уве...</td>\n",
       "      <td>3</td>\n",
       "      <td>1</td>\n",
       "      <td>1</td>\n",
       "      <td>1</td>\n",
       "    </tr>\n",
       "    <tr>\n",
       "      <th>5</th>\n",
       "      <td>Добавить страницу отзывов клиентов о магазине,...</td>\n",
       "      <td>3</td>\n",
       "      <td>2</td>\n",
       "      <td>2</td>\n",
       "      <td>3</td>\n",
       "    </tr>\n",
       "    <tr>\n",
       "      <th>6</th>\n",
       "      <td>Показать на главной странице баннеры с актуаль...</td>\n",
       "      <td>5</td>\n",
       "      <td>3</td>\n",
       "      <td>8</td>\n",
       "      <td>3</td>\n",
       "    </tr>\n",
       "    <tr>\n",
       "      <th>7</th>\n",
       "      <td>Добавить форму подписки на все основные страни...</td>\n",
       "      <td>10</td>\n",
       "      <td>7</td>\n",
       "      <td>8</td>\n",
       "      <td>5</td>\n",
       "    </tr>\n",
       "    <tr>\n",
       "      <th>8</th>\n",
       "      <td>Запустить акцию, дающую скидку на товар в день...</td>\n",
       "      <td>1</td>\n",
       "      <td>9</td>\n",
       "      <td>9</td>\n",
       "      <td>5</td>\n",
       "    </tr>\n",
       "  </tbody>\n",
       "</table>\n",
       "</div>"
      ],
      "text/plain": [
       "                                          Hypothesis  Reach  Impact  \\\n",
       "0  Добавить два новых канала привлечения трафика,...      3      10   \n",
       "1  Запустить собственную службу доставки, что сок...      2       5   \n",
       "2  Добавить блоки рекомендаций товаров на сайт ин...      8       3   \n",
       "3  Изменить структура категорий, что увеличит кон...      8       3   \n",
       "4  Изменить цвет фона главной страницы, чтобы уве...      3       1   \n",
       "5  Добавить страницу отзывов клиентов о магазине,...      3       2   \n",
       "6  Показать на главной странице баннеры с актуаль...      5       3   \n",
       "7  Добавить форму подписки на все основные страни...     10       7   \n",
       "8  Запустить акцию, дающую скидку на товар в день...      1       9   \n",
       "\n",
       "   Confidence  Efforts  \n",
       "0           8        6  \n",
       "1           4       10  \n",
       "2           7        3  \n",
       "3           3        8  \n",
       "4           1        1  \n",
       "5           2        3  \n",
       "6           8        3  \n",
       "7           8        5  \n",
       "8           9        5  "
      ]
     },
     "execution_count": 4,
     "metadata": {},
     "output_type": "execute_result"
    }
   ],
   "source": [
    "data"
   ]
  },
  {
   "cell_type": "markdown",
   "metadata": {},
   "source": [
    "Заменим название столбцов, приведем к нижнему регистру."
   ]
  },
  {
   "cell_type": "code",
   "execution_count": 5,
   "metadata": {},
   "outputs": [],
   "source": [
    "data.columns = data.columns.str.lower()"
   ]
  },
  {
   "cell_type": "markdown",
   "metadata": {},
   "source": [
    "## ICE"
   ]
  },
  {
   "cell_type": "markdown",
   "metadata": {},
   "source": [
    "Посчитаем ICE для гипотез. Отсортируем их по убыванию приоритета."
   ]
  },
  {
   "cell_type": "code",
   "execution_count": 6,
   "metadata": {},
   "outputs": [],
   "source": [
    "data['ICE'] = data['impact']*data['confidence']/data['efforts']"
   ]
  },
  {
   "cell_type": "code",
   "execution_count": 7,
   "metadata": {},
   "outputs": [],
   "source": [
    "data_ice = data.loc[:,['hypothesis','ICE']].sort_values(by='ICE', ascending=False)"
   ]
  },
  {
   "cell_type": "code",
   "execution_count": 8,
   "metadata": {},
   "outputs": [
    {
     "name": "stdout",
     "output_type": "stream",
     "text": [
      "                                          hypothesis        ICE\n",
      "8  Запустить акцию, дающую скидку на товар в день...  16.200000\n",
      "0  Добавить два новых канала привлечения трафика,...  13.333333\n",
      "7  Добавить форму подписки на все основные страни...  11.200000\n",
      "6  Показать на главной странице баннеры с актуаль...   8.000000\n",
      "2  Добавить блоки рекомендаций товаров на сайт ин...   7.000000\n",
      "1  Запустить собственную службу доставки, что сок...   2.000000\n",
      "5  Добавить страницу отзывов клиентов о магазине,...   1.333333\n",
      "3  Изменить структура категорий, что увеличит кон...   1.125000\n",
      "4  Изменить цвет фона главной страницы, чтобы уве...   1.000000\n"
     ]
    }
   ],
   "source": [
    "print(data_ice)"
   ]
  },
  {
   "cell_type": "markdown",
   "metadata": {},
   "source": [
    "Наиболее перспективны гипотезы по ICE: 8, 0, 7, 6."
   ]
  },
  {
   "cell_type": "markdown",
   "metadata": {},
   "source": [
    "## RICE"
   ]
  },
  {
   "cell_type": "markdown",
   "metadata": {},
   "source": [
    "Посчитаем RICE для гипотез. Отсортируем их по убыванию приоритета."
   ]
  },
  {
   "cell_type": "code",
   "execution_count": 9,
   "metadata": {},
   "outputs": [],
   "source": [
    "data['RICE'] = data['reach']*data['impact']*data['confidence']/data['efforts']"
   ]
  },
  {
   "cell_type": "code",
   "execution_count": 10,
   "metadata": {},
   "outputs": [],
   "source": [
    "data_rice = data.loc[:,['hypothesis','RICE']].sort_values(by='RICE', ascending=False)"
   ]
  },
  {
   "cell_type": "code",
   "execution_count": 11,
   "metadata": {},
   "outputs": [
    {
     "name": "stdout",
     "output_type": "stream",
     "text": [
      "                                          hypothesis   RICE\n",
      "7  Добавить форму подписки на все основные страни...  112.0\n",
      "2  Добавить блоки рекомендаций товаров на сайт ин...   56.0\n",
      "0  Добавить два новых канала привлечения трафика,...   40.0\n",
      "6  Показать на главной странице баннеры с актуаль...   40.0\n",
      "8  Запустить акцию, дающую скидку на товар в день...   16.2\n",
      "3  Изменить структура категорий, что увеличит кон...    9.0\n",
      "1  Запустить собственную службу доставки, что сок...    4.0\n",
      "5  Добавить страницу отзывов клиентов о магазине,...    4.0\n",
      "4  Изменить цвет фона главной страницы, чтобы уве...    3.0\n"
     ]
    }
   ],
   "source": [
    "print(data_rice)"
   ]
  },
  {
   "cell_type": "markdown",
   "metadata": {},
   "source": [
    "Наиболее перспективны гипотезы по RICE: 7, 2, 0, 6."
   ]
  },
  {
   "cell_type": "markdown",
   "metadata": {},
   "source": [
    "С изменением метода изменился порядке приоретизации гипотез и гипотеза 8 заменилась на гипотезу 2.\n",
    "Гипотеза 7 вышла на первое место так как параметр reach равен 10, а у остальных он меньше. Также из-за параметра reach гипотеза 8 (reach=1) заменилась на гипотизу 2 (reach=8)."
   ]
  },
  {
   "cell_type": "markdown",
   "metadata": {},
   "source": [
    "## Вывод\n",
    "- Наиболее перспективны гипотезы по ICE: 8, 0, 7, 6.\n",
    "- Наиболее перспективны гипотезы по RICE: 7, 2, 0, 6.\n",
    "- С изменением метода изменился порядке приоретизации гипотез и гипотеза 8 заменилась на гипотезу 2. Гипотеза 7 вышла на первое место так как параметр reach равен 10, а у остальных он меньше. Также из-за параметра reach гипотеза 8 (reach=1) заменилась на гипотизу 2 (reach=8)."
   ]
  },
  {
   "cell_type": "markdown",
   "metadata": {},
   "source": [
    "# Часть 2. Анализ A/B-теста"
   ]
  },
  {
   "cell_type": "markdown",
   "metadata": {},
   "source": [
    "Откроем и изучим данные."
   ]
  },
  {
   "cell_type": "code",
   "execution_count": 5,
   "metadata": {},
   "outputs": [],
   "source": [
    "orders = pd.read_csv('orders.csv')"
   ]
  },
  {
   "cell_type": "code",
   "execution_count": 6,
   "metadata": {
    "scrolled": true
   },
   "outputs": [
    {
     "data": {
      "text/html": [
       "<div>\n",
       "<style scoped>\n",
       "    .dataframe tbody tr th:only-of-type {\n",
       "        vertical-align: middle;\n",
       "    }\n",
       "\n",
       "    .dataframe tbody tr th {\n",
       "        vertical-align: top;\n",
       "    }\n",
       "\n",
       "    .dataframe thead th {\n",
       "        text-align: right;\n",
       "    }\n",
       "</style>\n",
       "<table border=\"1\" class=\"dataframe\">\n",
       "  <thead>\n",
       "    <tr style=\"text-align: right;\">\n",
       "      <th></th>\n",
       "      <th>transactionId</th>\n",
       "      <th>visitorId</th>\n",
       "      <th>date</th>\n",
       "      <th>revenue</th>\n",
       "      <th>group</th>\n",
       "    </tr>\n",
       "  </thead>\n",
       "  <tbody>\n",
       "    <tr>\n",
       "      <th>0</th>\n",
       "      <td>3667963787</td>\n",
       "      <td>3312258926</td>\n",
       "      <td>2019-08-15</td>\n",
       "      <td>1650</td>\n",
       "      <td>B</td>\n",
       "    </tr>\n",
       "    <tr>\n",
       "      <th>1</th>\n",
       "      <td>2804400009</td>\n",
       "      <td>3642806036</td>\n",
       "      <td>2019-08-15</td>\n",
       "      <td>730</td>\n",
       "      <td>B</td>\n",
       "    </tr>\n",
       "    <tr>\n",
       "      <th>2</th>\n",
       "      <td>2961555356</td>\n",
       "      <td>4069496402</td>\n",
       "      <td>2019-08-15</td>\n",
       "      <td>400</td>\n",
       "      <td>A</td>\n",
       "    </tr>\n",
       "    <tr>\n",
       "      <th>3</th>\n",
       "      <td>3797467345</td>\n",
       "      <td>1196621759</td>\n",
       "      <td>2019-08-15</td>\n",
       "      <td>9759</td>\n",
       "      <td>B</td>\n",
       "    </tr>\n",
       "    <tr>\n",
       "      <th>4</th>\n",
       "      <td>2282983706</td>\n",
       "      <td>2322279887</td>\n",
       "      <td>2019-08-15</td>\n",
       "      <td>2308</td>\n",
       "      <td>B</td>\n",
       "    </tr>\n",
       "  </tbody>\n",
       "</table>\n",
       "</div>"
      ],
      "text/plain": [
       "   transactionId   visitorId        date  revenue group\n",
       "0     3667963787  3312258926  2019-08-15     1650     B\n",
       "1     2804400009  3642806036  2019-08-15      730     B\n",
       "2     2961555356  4069496402  2019-08-15      400     A\n",
       "3     3797467345  1196621759  2019-08-15     9759     B\n",
       "4     2282983706  2322279887  2019-08-15     2308     B"
      ]
     },
     "execution_count": 6,
     "metadata": {},
     "output_type": "execute_result"
    }
   ],
   "source": [
    "orders.head()"
   ]
  },
  {
   "cell_type": "code",
   "execution_count": 7,
   "metadata": {},
   "outputs": [],
   "source": [
    "orders['date'] = orders['date'].map(\n",
    "    lambda x: dt.datetime.strptime(x, '%Y-%m-%d'))"
   ]
  },
  {
   "cell_type": "code",
   "execution_count": 8,
   "metadata": {},
   "outputs": [],
   "source": [
    "visitors = pd.read_csv('visitors.csv')"
   ]
  },
  {
   "cell_type": "code",
   "execution_count": 9,
   "metadata": {},
   "outputs": [
    {
     "data": {
      "text/html": [
       "<div>\n",
       "<style scoped>\n",
       "    .dataframe tbody tr th:only-of-type {\n",
       "        vertical-align: middle;\n",
       "    }\n",
       "\n",
       "    .dataframe tbody tr th {\n",
       "        vertical-align: top;\n",
       "    }\n",
       "\n",
       "    .dataframe thead th {\n",
       "        text-align: right;\n",
       "    }\n",
       "</style>\n",
       "<table border=\"1\" class=\"dataframe\">\n",
       "  <thead>\n",
       "    <tr style=\"text-align: right;\">\n",
       "      <th></th>\n",
       "      <th>date</th>\n",
       "      <th>group</th>\n",
       "      <th>visitors</th>\n",
       "    </tr>\n",
       "  </thead>\n",
       "  <tbody>\n",
       "    <tr>\n",
       "      <th>0</th>\n",
       "      <td>2019-08-01</td>\n",
       "      <td>A</td>\n",
       "      <td>719</td>\n",
       "    </tr>\n",
       "    <tr>\n",
       "      <th>1</th>\n",
       "      <td>2019-08-02</td>\n",
       "      <td>A</td>\n",
       "      <td>619</td>\n",
       "    </tr>\n",
       "    <tr>\n",
       "      <th>2</th>\n",
       "      <td>2019-08-03</td>\n",
       "      <td>A</td>\n",
       "      <td>507</td>\n",
       "    </tr>\n",
       "    <tr>\n",
       "      <th>3</th>\n",
       "      <td>2019-08-04</td>\n",
       "      <td>A</td>\n",
       "      <td>717</td>\n",
       "    </tr>\n",
       "    <tr>\n",
       "      <th>4</th>\n",
       "      <td>2019-08-05</td>\n",
       "      <td>A</td>\n",
       "      <td>756</td>\n",
       "    </tr>\n",
       "  </tbody>\n",
       "</table>\n",
       "</div>"
      ],
      "text/plain": [
       "         date group  visitors\n",
       "0  2019-08-01     A       719\n",
       "1  2019-08-02     A       619\n",
       "2  2019-08-03     A       507\n",
       "3  2019-08-04     A       717\n",
       "4  2019-08-05     A       756"
      ]
     },
     "execution_count": 9,
     "metadata": {},
     "output_type": "execute_result"
    }
   ],
   "source": [
    "visitors.head()"
   ]
  },
  {
   "cell_type": "code",
   "execution_count": 17,
   "metadata": {},
   "outputs": [],
   "source": [
    "visitors['date'] = visitors['date'].map(\n",
    "    lambda x: dt.datetime.strptime(x, '%Y-%m-%d'))"
   ]
  },
  {
   "cell_type": "markdown",
   "metadata": {},
   "source": [
    "## 1. Построим график кумулятивной выручки по группам."
   ]
  },
  {
   "cell_type": "markdown",
   "metadata": {},
   "source": [
    "Создадим массив уникальных пар значений дат и групп теста."
   ]
  },
  {
   "cell_type": "code",
   "execution_count": 18,
   "metadata": {},
   "outputs": [],
   "source": [
    "datesGroups = orders[['date', 'group']].drop_duplicates()"
   ]
  },
  {
   "cell_type": "markdown",
   "metadata": {},
   "source": [
    "Соберём агрегированные кумулятивные по дням данные о заказах."
   ]
  },
  {
   "cell_type": "code",
   "execution_count": 19,
   "metadata": {},
   "outputs": [],
   "source": [
    "ordersAggregated = datesGroups.apply(\n",
    "    lambda x: orders[\n",
    "        np.logical_and(\n",
    "            orders['date'] <= x['date'], orders['group'] == x['group']\n",
    "        )\n",
    "    ].agg(\n",
    "        {\n",
    "            'date': 'max',\n",
    "            'group': 'max',\n",
    "            'transactionId': 'nunique',\n",
    "            'visitorId': 'nunique',\n",
    "            'revenue': 'sum',\n",
    "        }\n",
    "    ),\n",
    "    axis=1,\n",
    ").sort_values(by=['date', 'group'])"
   ]
  },
  {
   "cell_type": "code",
   "execution_count": 20,
   "metadata": {},
   "outputs": [],
   "source": [
    "visitorsAggregated = datesGroups.apply(\n",
    "    lambda x: visitors[\n",
    "        np.logical_and(\n",
    "            visitors['date'] <= x['date'], visitors['group'] == x['group']\n",
    "        )\n",
    "    ].agg({'date': 'max', 'group': 'max', 'visitors': 'sum'}),\n",
    "    axis=1,\n",
    ").sort_values(by=['date', 'group'])"
   ]
  },
  {
   "cell_type": "code",
   "execution_count": 21,
   "metadata": {},
   "outputs": [],
   "source": [
    "cumulativeData = ordersAggregated.merge(\n",
    "    visitorsAggregated, left_on=['date', 'group'], right_on=['date', 'group']\n",
    ")"
   ]
  },
  {
   "cell_type": "code",
   "execution_count": 22,
   "metadata": {},
   "outputs": [],
   "source": [
    "cumulativeData.columns = [\n",
    "    'date',\n",
    "    'group',\n",
    "    'orders',\n",
    "    'buyers',\n",
    "    'revenue',\n",
    "    'visitors',\n",
    "]"
   ]
  },
  {
   "cell_type": "markdown",
   "metadata": {},
   "source": [
    "Построим графики кумулятивной выручки по дням и группам A/B-тестирования."
   ]
  },
  {
   "cell_type": "code",
   "execution_count": 23,
   "metadata": {},
   "outputs": [
    {
     "data": {
      "image/png": "[encoded data removed]",
      "text/plain": [
       "<Figure size 864x432 with 1 Axes>"
      ]
     },
     "metadata": {
      "needs_background": "light"
     },
     "output_type": "display_data"
    }
   ],
   "source": [
    "cumulativeRevenueA = cumulativeData[cumulativeData['group']=='A'][['date','revenue', 'orders']]\n",
    "cumulativeRevenueB = cumulativeData[cumulativeData['group']=='B'][['date','revenue', 'orders']]\n",
    "plt.figure(figsize=(12, 6))\n",
    "plt.plot(cumulativeRevenueA['date'], cumulativeRevenueA['revenue'], label='A')\n",
    "plt.plot(cumulativeRevenueB['date'], cumulativeRevenueB['revenue'], label='B')\n",
    "plt.title('График кумулятивной выручки по группам')\n",
    "plt.xlabel('Дата')\n",
    "plt.ylabel('Выручка, руб')\n",
    "plt.show() "
   ]
  },
  {
   "cell_type": "markdown",
   "metadata": {},
   "source": [
    "Выручка почти равномерно увеличивается в течение всего теста. В середине теста сегмент В значительно увеличился и продолжал расти весь остаток теста. Похоже, что в сегменте В присутствуют большие заказы, которые влияют на результаты. При заключительном анализе их лучше удалить."
   ]
  },
  {
   "cell_type": "markdown",
   "metadata": {},
   "source": [
    "## 2. Построим график кумулятивного среднего чека по группам. "
   ]
  },
  {
   "cell_type": "code",
   "execution_count": 24,
   "metadata": {},
   "outputs": [],
   "source": [
    "cumulativeRevenueA = cumulativeData[cumulativeData['group'] == 'A'][\n",
    "    ['date', 'revenue', 'orders']\n",
    "]\n",
    "cumulativeRevenueB = cumulativeData[cumulativeData['group'] == 'B'][\n",
    "    ['date', 'revenue', 'orders']\n",
    "]"
   ]
  },
  {
   "cell_type": "code",
   "execution_count": 25,
   "metadata": {},
   "outputs": [
    {
     "data": {
      "image/png": "[encoded data removed]",
      "text/plain": [
       "<Figure size 864x432 with 1 Axes>"
      ]
     },
     "metadata": {
      "needs_background": "light"
     },
     "output_type": "display_data"
    }
   ],
   "source": [
    "plt.figure(figsize=(12, 6))\n",
    "plt.plot(cumulativeRevenueA['date'], cumulativeRevenueA['revenue']/cumulativeRevenueA['orders'], label='A')\n",
    "plt.plot(cumulativeRevenueB['date'], cumulativeRevenueB['revenue']/cumulativeRevenueB['orders'], label='B')\n",
    "plt.title('График кумулятивного среднего чека по группам')\n",
    "plt.xlabel('Дата')\n",
    "plt.ylabel('Средняя выручка, руб')\n",
    "plt.show() "
   ]
  },
  {
   "cell_type": "markdown",
   "metadata": {},
   "source": [
    "В середине графика в группе В присутствует большой скачек, скорее всего он обусловлен большим заказом."
   ]
  },
  {
   "cell_type": "markdown",
   "metadata": {},
   "source": [
    "## 3. Построим график относительного изменения кумулятивного среднего чека группы B к группе A. "
   ]
  },
  {
   "cell_type": "code",
   "execution_count": 26,
   "metadata": {},
   "outputs": [
    {
     "data": {
      "image/png": "[encoded data removed]",
      "text/plain": [
       "<Figure size 864x432 with 1 Axes>"
      ]
     },
     "metadata": {
      "needs_background": "light"
     },
     "output_type": "display_data"
    }
   ],
   "source": [
    "mergedCumulativeRevenue = cumulativeRevenueA.merge(cumulativeRevenueB, left_on='date', right_on='date', how='left', suffixes=['A', 'B'])\n",
    "plt.figure(figsize=(12, 6))\n",
    "plt.plot(mergedCumulativeRevenue['date'], (mergedCumulativeRevenue['revenueB']/mergedCumulativeRevenue['ordersB'])/(mergedCumulativeRevenue['revenueA']/mergedCumulativeRevenue['ordersA'])-1)\n",
    "plt.axhline(y=0, color='black', linestyle='--') \n",
    "plt.title('График относительного изменения кумулятивного среднего чека группы B к группе A')\n",
    "plt.xlabel('Дата')\n",
    "plt.ylabel('Разница среднего чека группы B к группе A')\n",
    "plt.show()"
   ]
  },
  {
   "cell_type": "markdown",
   "metadata": {},
   "source": [
    "Результаты теста в несколько дат резко просели вниз, а потом резко вернулись. Скорее всего в этот период были совершены аномальные заказы."
   ]
  },
  {
   "cell_type": "markdown",
   "metadata": {},
   "source": [
    "## 4. Построим график кумулятивной конверсии по группам."
   ]
  },
  {
   "cell_type": "code",
   "execution_count": 27,
   "metadata": {},
   "outputs": [
    {
     "data": {
      "image/png": "[encoded data removed]",
      "text/plain": [
       "<Figure size 864x432 with 1 Axes>"
      ]
     },
     "metadata": {
      "needs_background": "light"
     },
     "output_type": "display_data"
    }
   ],
   "source": [
    "cumulativeData['conversion'] = cumulativeData['orders']/cumulativeData['visitors']\n",
    "cumulativeDataA = cumulativeData[cumulativeData['group']=='A']\n",
    "cumulativeDataB = cumulativeData[cumulativeData['group']=='B']\n",
    "plt.figure(figsize=(12, 6))\n",
    "plt.plot(cumulativeDataA['date'], cumulativeDataA['conversion'], label='A')\n",
    "plt.plot(cumulativeDataB['date'], cumulativeDataB['conversion'], label='B')\n",
    "plt.title('График кумулятивной конверсии по группам')\n",
    "plt.xlabel('Дата')\n",
    "plt.ylabel('Конверсия')\n",
    "plt.show()"
   ]
  },
  {
   "cell_type": "markdown",
   "metadata": {},
   "source": [
    "В начале теста сегмент А имел большую конверсию, но достаточно резко он спал вниз, а затем выровнялся. Сегмент В, наоборот, вырос, а затем выровнялся."
   ]
  },
  {
   "cell_type": "markdown",
   "metadata": {},
   "source": [
    "## 5. Построим график относительного изменения кумулятивной конверсии группы B к группе A."
   ]
  },
  {
   "cell_type": "code",
   "execution_count": 28,
   "metadata": {
    "scrolled": true
   },
   "outputs": [
    {
     "data": {
      "image/png": "[encoded data removed]",
      "text/plain": [
       "<Figure size 864x432 with 1 Axes>"
      ]
     },
     "metadata": {
      "needs_background": "light"
     },
     "output_type": "display_data"
    }
   ],
   "source": [
    "mergedCumulativeConversions = cumulativeDataA[['date','conversion']].merge(cumulativeDataB[['date','conversion']], left_on='date', right_on='date', how='left', suffixes=['A', 'B'])\n",
    "plt.figure(figsize=(12, 6))\n",
    "plt.plot(mergedCumulativeConversions['date'], mergedCumulativeConversions['conversionB']/mergedCumulativeConversions['conversionA']-1, label=\"Относительный прирост конверсии группы B относительно группы A\")\n",
    "plt.legend()\n",
    "plt.axhline(y=0, color='black', linestyle='--')\n",
    "plt.axhline(y=0.2, color='grey', linestyle='--')\n",
    "plt.title('График относительного изменения кумулятивной конверсии группы B к группе A')\n",
    "plt.xlabel('Дата')\n",
    "plt.ylabel('Разница конверсии группы B к группе A')\n",
    "plt.show()"
   ]
  },
  {
   "cell_type": "markdown",
   "metadata": {},
   "source": [
    "С самого начала группа В проигрывала группе А, затем резко вырос, дошел до прироста в 20%, а затем плавно пошел вниз."
   ]
  },
  {
   "cell_type": "markdown",
   "metadata": {},
   "source": [
    "## 6. Построим точечный график количества заказов по пользователям."
   ]
  },
  {
   "cell_type": "code",
   "execution_count": 30,
   "metadata": {},
   "outputs": [],
   "source": [
    "ordersByUsers = (\n",
    "    orders.groupby('visitorId', as_index=False)\n",
    "    .agg({'transactionId': 'nunique'})\n",
    ")"
   ]
  },
  {
   "cell_type": "code",
   "execution_count": 31,
   "metadata": {},
   "outputs": [],
   "source": [
    "ordersByUsers.columns = ['visitorId', 'orders']"
   ]
  },
  {
   "cell_type": "code",
   "execution_count": 32,
   "metadata": {},
   "outputs": [
    {
     "data": {
      "image/png": "[encoded data removed]",
      "text/plain": [
       "<Figure size 432x288 with 1 Axes>"
      ]
     },
     "metadata": {
      "needs_background": "light"
     },
     "output_type": "display_data"
    }
   ],
   "source": [
    "x_values = pd.Series(range(0, len(ordersByUsers)))\n",
    "plt.scatter(x_values, ordersByUsers['orders']) \n",
    "plt.title('График количества заказов по пользователям')\n",
    "plt.xlabel('Количество пользователей')\n",
    "plt.ylabel('Количество заказов')\n",
    "plt.show()"
   ]
  },
  {
   "cell_type": "markdown",
   "metadata": {},
   "source": [
    "Большинство пользователей совершили заказ 1 раз. Пользователей совершивших больше 2 заказов очень мало, они могут быть аномалией."
   ]
  },
  {
   "cell_type": "markdown",
   "metadata": {},
   "source": [
    "## 7. Посчитаем 95-й и 99-й перцентили количества заказов на пользователя."
   ]
  },
  {
   "cell_type": "code",
   "execution_count": 33,
   "metadata": {},
   "outputs": [
    {
     "data": {
      "text/plain": [
       "array([2., 4.])"
      ]
     },
     "execution_count": 33,
     "metadata": {},
     "output_type": "execute_result"
    }
   ],
   "source": [
    "np.percentile(ordersByUsers['orders'], [95, 99])"
   ]
  },
  {
   "cell_type": "markdown",
   "metadata": {},
   "source": [
    "Не больше 5% пользователей совершали больше 2 заказов, не больше 1% - больше 4. За аномальных пользователей примем пользователей, которые совершали заказ больше двух раз."
   ]
  },
  {
   "cell_type": "markdown",
   "metadata": {},
   "source": [
    "## 8. Построим точечный график стоимостей заказов."
   ]
  },
  {
   "cell_type": "code",
   "execution_count": 34,
   "metadata": {},
   "outputs": [
    {
     "data": {
      "image/png": "[encoded data removed]",
      "text/plain": [
       "<Figure size 432x288 with 1 Axes>"
      ]
     },
     "metadata": {
      "needs_background": "light"
     },
     "output_type": "display_data"
    }
   ],
   "source": [
    "x_values = pd.Series(range(0, len(orders['revenue'])))\n",
    "plt.scatter(x_values, orders['revenue'])\n",
    "plt.title('График стоимостей заказов')\n",
    "plt.xlabel('Номера наблюдений')\n",
    "plt.ylabel('Стоимость заказов, руб')\n",
    "plt.show()"
   ]
  },
  {
   "cell_type": "markdown",
   "metadata": {},
   "source": [
    "Заказов стоимостью больше 100000 рублей не так много. Есть выбросы в районе 100000 - 200000 рублей и в районе 1300000 рублей. Заказ в 1,3 млн выглядит очень аномально."
   ]
  },
  {
   "cell_type": "markdown",
   "metadata": {},
   "source": [
    "## 9. Посчитаем 95-й и 99-й перцентили стоимости заказов. "
   ]
  },
  {
   "cell_type": "code",
   "execution_count": 35,
   "metadata": {},
   "outputs": [
    {
     "data": {
      "text/plain": [
       "array([28000. , 58233.2])"
      ]
     },
     "execution_count": 35,
     "metadata": {},
     "output_type": "execute_result"
    }
   ],
   "source": [
    "np.percentile(orders['revenue'], [ 95, 99])"
   ]
  },
  {
   "cell_type": "markdown",
   "metadata": {},
   "source": [
    "Не больше, чем у 5% заказов чек дороже 28000 рублей. И не больше, чем у 1% заказов чек дороже 58233 рублей. За аномальные заказы примем заказы, чек которых выше 30000 рублей."
   ]
  },
  {
   "cell_type": "markdown",
   "metadata": {},
   "source": [
    "## 10. Посчитаем статистическую значимость различий в конверсии между группами по «сырым» данными. "
   ]
  },
  {
   "cell_type": "markdown",
   "metadata": {},
   "source": [
    "Найдем пользователей, которые участвовали в двух или более группах одновременно"
   ]
  },
  {
   "cell_type": "code",
   "execution_count": 36,
   "metadata": {},
   "outputs": [
    {
     "data": {
      "text/html": [
       "<div>\n",
       "<style scoped>\n",
       "    .dataframe tbody tr th:only-of-type {\n",
       "        vertical-align: middle;\n",
       "    }\n",
       "\n",
       "    .dataframe tbody tr th {\n",
       "        vertical-align: top;\n",
       "    }\n",
       "\n",
       "    .dataframe thead th {\n",
       "        text-align: right;\n",
       "    }\n",
       "</style>\n",
       "<table border=\"1\" class=\"dataframe\">\n",
       "  <thead>\n",
       "    <tr style=\"text-align: right;\">\n",
       "      <th></th>\n",
       "      <th>transactionId</th>\n",
       "      <th>visitorId</th>\n",
       "      <th>date</th>\n",
       "      <th>revenue</th>\n",
       "      <th>group</th>\n",
       "    </tr>\n",
       "  </thead>\n",
       "  <tbody>\n",
       "    <tr>\n",
       "      <th>41</th>\n",
       "      <td>2594268419</td>\n",
       "      <td>237748145</td>\n",
       "      <td>2019-08-15</td>\n",
       "      <td>1090</td>\n",
       "      <td>A</td>\n",
       "    </tr>\n",
       "    <tr>\n",
       "      <th>91</th>\n",
       "      <td>3176574859</td>\n",
       "      <td>2742574263</td>\n",
       "      <td>2019-08-22</td>\n",
       "      <td>17868</td>\n",
       "      <td>B</td>\n",
       "    </tr>\n",
       "    <tr>\n",
       "      <th>95</th>\n",
       "      <td>372616894</td>\n",
       "      <td>457167155</td>\n",
       "      <td>2019-08-22</td>\n",
       "      <td>987</td>\n",
       "      <td>B</td>\n",
       "    </tr>\n",
       "    <tr>\n",
       "      <th>98</th>\n",
       "      <td>1962247337</td>\n",
       "      <td>2706377257</td>\n",
       "      <td>2019-08-01</td>\n",
       "      <td>7129</td>\n",
       "      <td>A</td>\n",
       "    </tr>\n",
       "    <tr>\n",
       "      <th>112</th>\n",
       "      <td>1638982251</td>\n",
       "      <td>3062433592</td>\n",
       "      <td>2019-08-01</td>\n",
       "      <td>8470</td>\n",
       "      <td>B</td>\n",
       "    </tr>\n",
       "    <tr>\n",
       "      <th>...</th>\n",
       "      <td>...</td>\n",
       "      <td>...</td>\n",
       "      <td>...</td>\n",
       "      <td>...</td>\n",
       "      <td>...</td>\n",
       "    </tr>\n",
       "    <tr>\n",
       "      <th>1182</th>\n",
       "      <td>2682156369</td>\n",
       "      <td>1668030113</td>\n",
       "      <td>2019-08-14</td>\n",
       "      <td>1290</td>\n",
       "      <td>B</td>\n",
       "    </tr>\n",
       "    <tr>\n",
       "      <th>1183</th>\n",
       "      <td>1458356232</td>\n",
       "      <td>963407295</td>\n",
       "      <td>2019-08-14</td>\n",
       "      <td>4940</td>\n",
       "      <td>A</td>\n",
       "    </tr>\n",
       "    <tr>\n",
       "      <th>1184</th>\n",
       "      <td>1329499668</td>\n",
       "      <td>2949041841</td>\n",
       "      <td>2019-08-14</td>\n",
       "      <td>10380</td>\n",
       "      <td>B</td>\n",
       "    </tr>\n",
       "    <tr>\n",
       "      <th>1189</th>\n",
       "      <td>4082620617</td>\n",
       "      <td>393266494</td>\n",
       "      <td>2019-08-14</td>\n",
       "      <td>31550</td>\n",
       "      <td>B</td>\n",
       "    </tr>\n",
       "    <tr>\n",
       "      <th>1195</th>\n",
       "      <td>1947021204</td>\n",
       "      <td>1614305549</td>\n",
       "      <td>2019-08-14</td>\n",
       "      <td>100</td>\n",
       "      <td>A</td>\n",
       "    </tr>\n",
       "  </tbody>\n",
       "</table>\n",
       "<p>166 rows × 5 columns</p>\n",
       "</div>"
      ],
      "text/plain": [
       "      transactionId   visitorId       date  revenue group\n",
       "41       2594268419   237748145 2019-08-15     1090     A\n",
       "91       3176574859  2742574263 2019-08-22    17868     B\n",
       "95        372616894   457167155 2019-08-22      987     B\n",
       "98       1962247337  2706377257 2019-08-01     7129     A\n",
       "112      1638982251  3062433592 2019-08-01     8470     B\n",
       "...             ...         ...        ...      ...   ...\n",
       "1182     2682156369  1668030113 2019-08-14     1290     B\n",
       "1183     1458356232   963407295 2019-08-14     4940     A\n",
       "1184     1329499668  2949041841 2019-08-14    10380     B\n",
       "1189     4082620617   393266494 2019-08-14    31550     B\n",
       "1195     1947021204  1614305549 2019-08-14      100     A\n",
       "\n",
       "[166 rows x 5 columns]"
      ]
     },
     "execution_count": 36,
     "metadata": {},
     "output_type": "execute_result"
    }
   ],
   "source": [
    "orders[orders['visitorId'].duplicated() == True]"
   ]
  },
  {
   "cell_type": "markdown",
   "metadata": {},
   "source": [
    "Удалим таких пользователей"
   ]
  },
  {
   "cell_type": "code",
   "execution_count": 37,
   "metadata": {},
   "outputs": [],
   "source": [
    "orders = orders[orders['visitorId'].duplicated() == False]"
   ]
  },
  {
   "cell_type": "code",
   "execution_count": 38,
   "metadata": {},
   "outputs": [
    {
     "data": {
      "text/html": [
       "<div>\n",
       "<style scoped>\n",
       "    .dataframe tbody tr th:only-of-type {\n",
       "        vertical-align: middle;\n",
       "    }\n",
       "\n",
       "    .dataframe tbody tr th {\n",
       "        vertical-align: top;\n",
       "    }\n",
       "\n",
       "    .dataframe thead th {\n",
       "        text-align: right;\n",
       "    }\n",
       "</style>\n",
       "<table border=\"1\" class=\"dataframe\">\n",
       "  <thead>\n",
       "    <tr style=\"text-align: right;\">\n",
       "      <th></th>\n",
       "      <th>transactionId</th>\n",
       "      <th>visitorId</th>\n",
       "      <th>date</th>\n",
       "      <th>revenue</th>\n",
       "      <th>group</th>\n",
       "    </tr>\n",
       "  </thead>\n",
       "  <tbody>\n",
       "  </tbody>\n",
       "</table>\n",
       "</div>"
      ],
      "text/plain": [
       "Empty DataFrame\n",
       "Columns: [transactionId, visitorId, date, revenue, group]\n",
       "Index: []"
      ]
     },
     "execution_count": 38,
     "metadata": {},
     "output_type": "execute_result"
    }
   ],
   "source": [
    "orders[orders['visitorId'].duplicated() == True]"
   ]
  },
  {
   "cell_type": "markdown",
   "metadata": {},
   "source": [
    "Подготовим сырые данные для анализа"
   ]
  },
  {
   "cell_type": "code",
   "execution_count": 39,
   "metadata": {},
   "outputs": [],
   "source": [
    "visitorsADaily = visitors[visitors['group'] == 'A'][['date', 'visitors']]\n",
    "visitorsADaily.columns = ['date', 'visitorsPerDateA']\n",
    "\n",
    "visitorsACummulative = visitorsADaily.apply(\n",
    "    lambda x: visitorsADaily[visitorsADaily['date'] <= x['date']].agg(\n",
    "        {'date': 'max', 'visitorsPerDateA': 'sum'}\n",
    "    ),\n",
    "    axis=1,\n",
    ")\n",
    "visitorsACummulative.columns = ['date', 'visitorsCummulativeA']\n",
    "\n",
    "visitorsBDaily = visitors[visitors['group'] == 'B'][['date', 'visitors']]\n",
    "visitorsBDaily.columns = ['date', 'visitorsPerDateB']\n",
    "\n",
    "visitorsBCummulative = visitorsBDaily.apply(\n",
    "    lambda x: visitorsBDaily[visitorsBDaily['date'] <= x['date']].agg(\n",
    "        {'date': 'max', 'visitorsPerDateB': 'sum'}\n",
    "    ),\n",
    "    axis=1,\n",
    ")\n",
    "visitorsBCummulative.columns = ['date', 'visitorsCummulativeB']\n",
    "\n",
    "ordersADaily = (\n",
    "    orders[orders['group'] == 'A'][['date', 'transactionId', 'visitorId', 'revenue']]\n",
    "    .groupby('date', as_index=False)\n",
    "    .agg({'transactionId': pd.Series.nunique, 'revenue': 'sum'})\n",
    ")\n",
    "ordersADaily.columns = ['date', 'ordersPerDateA', 'revenuePerDateA']\n",
    "\n",
    "ordersACummulative = ordersADaily.apply(\n",
    "    lambda x: ordersADaily[ordersADaily['date'] <= x['date']].agg(\n",
    "        {'date': 'max', 'ordersPerDateA': 'sum', 'revenuePerDateA': 'sum'}\n",
    "    ),\n",
    "    axis=1,\n",
    ").sort_values(by=['date'])\n",
    "ordersACummulative.columns = [\n",
    "    'date',\n",
    "    'ordersCummulativeA',\n",
    "    'revenueCummulativeA',\n",
    "]\n",
    "\n",
    "ordersBDaily = (\n",
    "    orders[orders['group'] == 'B'][['date', 'transactionId', 'visitorId', 'revenue']]\n",
    "    .groupby('date', as_index=False)\n",
    "    .agg({'transactionId': pd.Series.nunique, 'revenue': 'sum'})\n",
    ")\n",
    "ordersBDaily.columns = ['date', 'ordersPerDateB', 'revenuePerDateB']\n",
    "\n",
    "ordersBCummulative = ordersBDaily.apply(\n",
    "    lambda x: ordersBDaily[ordersBDaily['date'] <= x['date']].agg(\n",
    "        {'date': 'max', 'ordersPerDateB': 'sum', 'revenuePerDateB': 'sum'}\n",
    "    ),\n",
    "    axis=1,\n",
    ").sort_values(by=['date'])\n",
    "ordersBCummulative.columns = [\n",
    "    'date',\n",
    "    'ordersCummulativeB',\n",
    "    'revenueCummulativeB',\n",
    "]\n",
    "\n",
    "data = (\n",
    "    ordersADaily.merge(\n",
    "        ordersBDaily, left_on='date', right_on='date', how='left'\n",
    "    )\n",
    "    .merge(ordersACummulative, left_on='date', right_on='date', how='left')\n",
    "    .merge(ordersBCummulative, left_on='date', right_on='date', how='left')\n",
    "    .merge(visitorsADaily, left_on='date', right_on='date', how='left')\n",
    "    .merge(visitorsBDaily, left_on='date', right_on='date', how='left')\n",
    "    .merge(visitorsACummulative, left_on='date', right_on='date', how='left')\n",
    "    .merge(visitorsBCummulative, left_on='date', right_on='date', how='left')\n",
    ")"
   ]
  },
  {
   "cell_type": "code",
   "execution_count": 40,
   "metadata": {},
   "outputs": [
    {
     "data": {
      "text/html": [
       "<div>\n",
       "<style scoped>\n",
       "    .dataframe tbody tr th:only-of-type {\n",
       "        vertical-align: middle;\n",
       "    }\n",
       "\n",
       "    .dataframe tbody tr th {\n",
       "        vertical-align: top;\n",
       "    }\n",
       "\n",
       "    .dataframe thead th {\n",
       "        text-align: right;\n",
       "    }\n",
       "</style>\n",
       "<table border=\"1\" class=\"dataframe\">\n",
       "  <thead>\n",
       "    <tr style=\"text-align: right;\">\n",
       "      <th></th>\n",
       "      <th>date</th>\n",
       "      <th>group</th>\n",
       "      <th>visitors</th>\n",
       "    </tr>\n",
       "  </thead>\n",
       "  <tbody>\n",
       "    <tr>\n",
       "      <th>0</th>\n",
       "      <td>2019-08-01</td>\n",
       "      <td>A</td>\n",
       "      <td>719</td>\n",
       "    </tr>\n",
       "    <tr>\n",
       "      <th>1</th>\n",
       "      <td>2019-08-02</td>\n",
       "      <td>A</td>\n",
       "      <td>619</td>\n",
       "    </tr>\n",
       "    <tr>\n",
       "      <th>2</th>\n",
       "      <td>2019-08-03</td>\n",
       "      <td>A</td>\n",
       "      <td>507</td>\n",
       "    </tr>\n",
       "    <tr>\n",
       "      <th>3</th>\n",
       "      <td>2019-08-04</td>\n",
       "      <td>A</td>\n",
       "      <td>717</td>\n",
       "    </tr>\n",
       "    <tr>\n",
       "      <th>4</th>\n",
       "      <td>2019-08-05</td>\n",
       "      <td>A</td>\n",
       "      <td>756</td>\n",
       "    </tr>\n",
       "    <tr>\n",
       "      <th>...</th>\n",
       "      <td>...</td>\n",
       "      <td>...</td>\n",
       "      <td>...</td>\n",
       "    </tr>\n",
       "    <tr>\n",
       "      <th>57</th>\n",
       "      <td>2019-08-27</td>\n",
       "      <td>B</td>\n",
       "      <td>720</td>\n",
       "    </tr>\n",
       "    <tr>\n",
       "      <th>58</th>\n",
       "      <td>2019-08-28</td>\n",
       "      <td>B</td>\n",
       "      <td>654</td>\n",
       "    </tr>\n",
       "    <tr>\n",
       "      <th>59</th>\n",
       "      <td>2019-08-29</td>\n",
       "      <td>B</td>\n",
       "      <td>531</td>\n",
       "    </tr>\n",
       "    <tr>\n",
       "      <th>60</th>\n",
       "      <td>2019-08-30</td>\n",
       "      <td>B</td>\n",
       "      <td>490</td>\n",
       "    </tr>\n",
       "    <tr>\n",
       "      <th>61</th>\n",
       "      <td>2019-08-31</td>\n",
       "      <td>B</td>\n",
       "      <td>718</td>\n",
       "    </tr>\n",
       "  </tbody>\n",
       "</table>\n",
       "<p>62 rows × 3 columns</p>\n",
       "</div>"
      ],
      "text/plain": [
       "         date group  visitors\n",
       "0  2019-08-01     A       719\n",
       "1  2019-08-02     A       619\n",
       "2  2019-08-03     A       507\n",
       "3  2019-08-04     A       717\n",
       "4  2019-08-05     A       756\n",
       "..        ...   ...       ...\n",
       "57 2019-08-27     B       720\n",
       "58 2019-08-28     B       654\n",
       "59 2019-08-29     B       531\n",
       "60 2019-08-30     B       490\n",
       "61 2019-08-31     B       718\n",
       "\n",
       "[62 rows x 3 columns]"
      ]
     },
     "execution_count": 40,
     "metadata": {},
     "output_type": "execute_result"
    }
   ],
   "source": [
    "visitors"
   ]
  },
  {
   "cell_type": "markdown",
   "metadata": {},
   "source": [
    "Сформулируем гипотезы. \n",
    "- Нулевая: различий в конверсии между группами нет. \n",
    "- Альтернативная: различия в конверсии между группами есть."
   ]
  },
  {
   "cell_type": "markdown",
   "metadata": {},
   "source": [
    "Создадим переменные ordersByUsersA и ordersByUsersB со столбцами ['userId', 'orders'], где для пользователей, совершивших хотя бы 1 заказ, будет указано число заказов."
   ]
  },
  {
   "cell_type": "code",
   "execution_count": 41,
   "metadata": {},
   "outputs": [],
   "source": [
    "ordersByUsersA = (\n",
    "    orders[orders['group'] == 'A']\n",
    "    .groupby('visitorId', as_index=False)\n",
    "    .agg({'transactionId': pd.Series.nunique})\n",
    ")\n",
    "ordersByUsersA.columns = ['userId', 'orders']"
   ]
  },
  {
   "cell_type": "code",
   "execution_count": 42,
   "metadata": {},
   "outputs": [
    {
     "name": "stdout",
     "output_type": "stream",
     "text": [
      "<class 'pandas.core.frame.DataFrame'>\n",
      "Int64Index: 475 entries, 0 to 474\n",
      "Data columns (total 2 columns):\n",
      " #   Column  Non-Null Count  Dtype\n",
      "---  ------  --------------  -----\n",
      " 0   userId  475 non-null    int64\n",
      " 1   orders  475 non-null    int64\n",
      "dtypes: int64(2)\n",
      "memory usage: 11.1 KB\n"
     ]
    }
   ],
   "source": [
    "ordersByUsersA.info()"
   ]
  },
  {
   "cell_type": "code",
   "execution_count": 43,
   "metadata": {},
   "outputs": [],
   "source": [
    "ordersByUsersB = (\n",
    "    orders[orders['group'] == 'B']\n",
    "    .groupby('visitorId', as_index=False)\n",
    "    .agg({'transactionId': pd.Series.nunique})\n",
    ")\n",
    "ordersByUsersB.columns = ['userId', 'orders']"
   ]
  },
  {
   "cell_type": "markdown",
   "metadata": {},
   "source": [
    "Объявим переменные sampleA и sampleB, в которых пользователям с заказами будет соответствовать число заказов пользователя. А пользователям без заказов — нули. "
   ]
  },
  {
   "cell_type": "code",
   "execution_count": 44,
   "metadata": {},
   "outputs": [],
   "source": [
    "sampleA = pd.concat(\n",
    "    [\n",
    "        ordersByUsersA['orders'],\n",
    "        pd.Series(\n",
    "            0,\n",
    "            index=np.arange(\n",
    "                data['visitorsPerDateA'].sum() - len(ordersByUsersA['orders'])\n",
    "            ),\n",
    "            name='orders',\n",
    "        ),\n",
    "    ],\n",
    "    axis=0,\n",
    ")"
   ]
  },
  {
   "cell_type": "code",
   "execution_count": 45,
   "metadata": {},
   "outputs": [],
   "source": [
    "sampleB = pd.concat(\n",
    "    [\n",
    "        ordersByUsersB['orders'],\n",
    "        pd.Series(\n",
    "            0,\n",
    "            index=np.arange(\n",
    "                data['visitorsPerDateB'].sum() - len(ordersByUsersB['orders'])\n",
    "            ),\n",
    "            name='orders',\n",
    "        ),\n",
    "    ],\n",
    "    axis=0,\n",
    ")"
   ]
  },
  {
   "cell_type": "code",
   "execution_count": 46,
   "metadata": {},
   "outputs": [
    {
     "name": "stdout",
     "output_type": "stream",
     "text": [
      "0.016\n"
     ]
    }
   ],
   "source": [
    "print(\"{0:.3f}\".format(stats.mannwhitneyu(sampleA, sampleB)[1]))"
   ]
  },
  {
   "cell_type": "markdown",
   "metadata": {},
   "source": [
    "p-value = 0.016 меньше 0.05. Значит, нулевую гипотезу о том, что статистически значимых различий в конверсии между группами нет, можно отвергнуть в пользу альтернативной, которая говорит о том что различия в конверсии между группами есть."
   ]
  },
  {
   "cell_type": "code",
   "execution_count": 47,
   "metadata": {},
   "outputs": [
    {
     "name": "stdout",
     "output_type": "stream",
     "text": [
      "0.159\n"
     ]
    }
   ],
   "source": [
    "print(\"{0:.3f}\".format(sampleB.mean() / sampleA.mean() - 1))"
   ]
  },
  {
   "cell_type": "markdown",
   "metadata": {},
   "source": [
    "Относительный проигрыш группы А равен 15.9%. "
   ]
  },
  {
   "cell_type": "markdown",
   "metadata": {},
   "source": [
    "По «сырым» данным различия в конверсии групп A и B есть."
   ]
  },
  {
   "cell_type": "markdown",
   "metadata": {},
   "source": [
    "## 11. Посчитаем статистическую значимость различий в среднем чеке заказа между группами по «сырым» данным. "
   ]
  },
  {
   "cell_type": "markdown",
   "metadata": {},
   "source": [
    "Сформулируем гипотезы. \n",
    "- Нулевая: различий в среднем чеке заказа между группами нет. \n",
    "- Альтернативная: различия в среднем чеке заказа между группами есть."
   ]
  },
  {
   "cell_type": "code",
   "execution_count": 48,
   "metadata": {},
   "outputs": [
    {
     "name": "stdout",
     "output_type": "stream",
     "text": [
      "0.896\n"
     ]
    }
   ],
   "source": [
    "print('{0:.3f}'.format(stats.mannwhitneyu(orders[orders['group']=='A']['revenue'], orders[orders['group']=='B']['revenue'])[1]))"
   ]
  },
  {
   "cell_type": "markdown",
   "metadata": {},
   "source": [
    "P-value значительно больше 0.05. Значит, причин отвергать нулевую гипотезу и считать, что в среднем чеке есть различия, нет."
   ]
  },
  {
   "cell_type": "code",
   "execution_count": 49,
   "metadata": {},
   "outputs": [
    {
     "name": "stdout",
     "output_type": "stream",
     "text": [
      "0.259\n"
     ]
    }
   ],
   "source": [
    "print('{0:.3f}'.format(orders[orders['group']=='B']['revenue'].mean()/orders[orders['group']=='A']['revenue'].mean()-1)) "
   ]
  },
  {
   "cell_type": "markdown",
   "metadata": {},
   "source": [
    "Средний чек группы А значительно ниже среднего чека группы В."
   ]
  },
  {
   "cell_type": "markdown",
   "metadata": {},
   "source": [
    "## 12. Посчитаем статистическую значимость различий в конверсии между группами по «очищенным» данным."
   ]
  },
  {
   "cell_type": "markdown",
   "metadata": {},
   "source": [
    "Примем за аномальных пользователей тех, кто совершил от 3 заказов или совершил заказ дороже 30 000 рублей. Так мы уберём 5% пользователей с наибольшим числом заказов и от 1% до 5% пользователей с дорогими заказами. "
   ]
  },
  {
   "cell_type": "code",
   "execution_count": 50,
   "metadata": {},
   "outputs": [],
   "source": [
    "usersWithManyOrders = pd.concat(\n",
    "    [\n",
    "        ordersByUsersA[ordersByUsersA['orders'] > 2]['userId'],\n",
    "        ordersByUsersB[ordersByUsersB['orders'] > 2]['userId'],\n",
    "    ],\n",
    "    axis=0\n",
    ")"
   ]
  },
  {
   "cell_type": "code",
   "execution_count": 51,
   "metadata": {},
   "outputs": [],
   "source": [
    "usersWithExpensiveOrders = orders[orders['revenue'] > 30000]['visitorId']\n",
    "abnormalUsers = (\n",
    "    pd.concat([usersWithManyOrders, usersWithExpensiveOrders], axis=0)\n",
    "    .drop_duplicates()\n",
    "    .sort_values()\n",
    ")"
   ]
  },
  {
   "cell_type": "markdown",
   "metadata": {},
   "source": [
    "Создадим переменные sampleAFiltered и sampleBFiltered, в которых сохраним очищенные данные о заказах."
   ]
  },
  {
   "cell_type": "code",
   "execution_count": 52,
   "metadata": {},
   "outputs": [],
   "source": [
    "sampleAFiltered = pd.concat(\n",
    "    [\n",
    "        ordersByUsersA[\n",
    "            np.logical_not(ordersByUsersA['userId'].isin(abnormalUsers))\n",
    "        ]['orders'],\n",
    "        pd.Series(\n",
    "            0,\n",
    "            index=np.arange(\n",
    "                data['visitorsPerDateA'].sum() - len(ordersByUsersA['orders'])\n",
    "            ),\n",
    "            name='orders',\n",
    "        ),\n",
    "    ],\n",
    "    axis=0,\n",
    ")"
   ]
  },
  {
   "cell_type": "code",
   "execution_count": 53,
   "metadata": {},
   "outputs": [
    {
     "data": {
      "text/html": [
       "<div>\n",
       "<style scoped>\n",
       "    .dataframe tbody tr th:only-of-type {\n",
       "        vertical-align: middle;\n",
       "    }\n",
       "\n",
       "    .dataframe tbody tr th {\n",
       "        vertical-align: top;\n",
       "    }\n",
       "\n",
       "    .dataframe thead th {\n",
       "        text-align: right;\n",
       "    }\n",
       "</style>\n",
       "<table border=\"1\" class=\"dataframe\">\n",
       "  <thead>\n",
       "    <tr style=\"text-align: right;\">\n",
       "      <th></th>\n",
       "      <th>date</th>\n",
       "      <th>ordersPerDateA</th>\n",
       "      <th>revenuePerDateA</th>\n",
       "      <th>ordersPerDateB</th>\n",
       "      <th>revenuePerDateB</th>\n",
       "      <th>ordersCummulativeA</th>\n",
       "      <th>revenueCummulativeA</th>\n",
       "      <th>ordersCummulativeB</th>\n",
       "      <th>revenueCummulativeB</th>\n",
       "      <th>visitorsPerDateA</th>\n",
       "      <th>visitorsPerDateB</th>\n",
       "      <th>visitorsCummulativeA</th>\n",
       "      <th>visitorsCummulativeB</th>\n",
       "    </tr>\n",
       "  </thead>\n",
       "  <tbody>\n",
       "    <tr>\n",
       "      <th>0</th>\n",
       "      <td>2019-08-01</td>\n",
       "      <td>19</td>\n",
       "      <td>123110</td>\n",
       "      <td>20</td>\n",
       "      <td>92747</td>\n",
       "      <td>19</td>\n",
       "      <td>123110</td>\n",
       "      <td>20</td>\n",
       "      <td>92747</td>\n",
       "      <td>719</td>\n",
       "      <td>713</td>\n",
       "      <td>719</td>\n",
       "      <td>713</td>\n",
       "    </tr>\n",
       "    <tr>\n",
       "      <th>1</th>\n",
       "      <td>2019-08-02</td>\n",
       "      <td>17</td>\n",
       "      <td>74495</td>\n",
       "      <td>22</td>\n",
       "      <td>159293</td>\n",
       "      <td>36</td>\n",
       "      <td>197605</td>\n",
       "      <td>42</td>\n",
       "      <td>252040</td>\n",
       "      <td>619</td>\n",
       "      <td>581</td>\n",
       "      <td>1338</td>\n",
       "      <td>1294</td>\n",
       "    </tr>\n",
       "    <tr>\n",
       "      <th>2</th>\n",
       "      <td>2019-08-03</td>\n",
       "      <td>24</td>\n",
       "      <td>112473</td>\n",
       "      <td>16</td>\n",
       "      <td>114248</td>\n",
       "      <td>60</td>\n",
       "      <td>310078</td>\n",
       "      <td>58</td>\n",
       "      <td>366288</td>\n",
       "      <td>507</td>\n",
       "      <td>509</td>\n",
       "      <td>1845</td>\n",
       "      <td>1803</td>\n",
       "    </tr>\n",
       "    <tr>\n",
       "      <th>3</th>\n",
       "      <td>2019-08-04</td>\n",
       "      <td>11</td>\n",
       "      <td>41176</td>\n",
       "      <td>14</td>\n",
       "      <td>92741</td>\n",
       "      <td>71</td>\n",
       "      <td>351254</td>\n",
       "      <td>72</td>\n",
       "      <td>459029</td>\n",
       "      <td>717</td>\n",
       "      <td>770</td>\n",
       "      <td>2562</td>\n",
       "      <td>2573</td>\n",
       "    </tr>\n",
       "    <tr>\n",
       "      <th>4</th>\n",
       "      <td>2019-08-05</td>\n",
       "      <td>21</td>\n",
       "      <td>102543</td>\n",
       "      <td>22</td>\n",
       "      <td>90008</td>\n",
       "      <td>92</td>\n",
       "      <td>453797</td>\n",
       "      <td>94</td>\n",
       "      <td>549037</td>\n",
       "      <td>756</td>\n",
       "      <td>707</td>\n",
       "      <td>3318</td>\n",
       "      <td>3280</td>\n",
       "    </tr>\n",
       "  </tbody>\n",
       "</table>\n",
       "</div>"
      ],
      "text/plain": [
       "        date  ordersPerDateA  revenuePerDateA  ordersPerDateB  \\\n",
       "0 2019-08-01              19           123110              20   \n",
       "1 2019-08-02              17            74495              22   \n",
       "2 2019-08-03              24           112473              16   \n",
       "3 2019-08-04              11            41176              14   \n",
       "4 2019-08-05              21           102543              22   \n",
       "\n",
       "   revenuePerDateB  ordersCummulativeA  revenueCummulativeA  \\\n",
       "0            92747                  19               123110   \n",
       "1           159293                  36               197605   \n",
       "2           114248                  60               310078   \n",
       "3            92741                  71               351254   \n",
       "4            90008                  92               453797   \n",
       "\n",
       "   ordersCummulativeB  revenueCummulativeB  visitorsPerDateA  \\\n",
       "0                  20                92747               719   \n",
       "1                  42               252040               619   \n",
       "2                  58               366288               507   \n",
       "3                  72               459029               717   \n",
       "4                  94               549037               756   \n",
       "\n",
       "   visitorsPerDateB  visitorsCummulativeA  visitorsCummulativeB  \n",
       "0               713                   719                   713  \n",
       "1               581                  1338                  1294  \n",
       "2               509                  1845                  1803  \n",
       "3               770                  2562                  2573  \n",
       "4               707                  3318                  3280  "
      ]
     },
     "execution_count": 53,
     "metadata": {},
     "output_type": "execute_result"
    }
   ],
   "source": [
    "data.head()"
   ]
  },
  {
   "cell_type": "code",
   "execution_count": 54,
   "metadata": {},
   "outputs": [],
   "source": [
    "sampleBFiltered = pd.concat(\n",
    "    [\n",
    "        ordersByUsersB[\n",
    "            np.logical_not(ordersByUsersB['userId'].isin(abnormalUsers))\n",
    "        ]['orders'],\n",
    "        pd.Series(\n",
    "            0,\n",
    "            index=np.arange(\n",
    "                data['visitorsPerDateB'].sum() - len(ordersByUsersB['orders'])\n",
    "            ),\n",
    "            name='orders',\n",
    "        ),\n",
    "    ],\n",
    "    axis=0,\n",
    ") "
   ]
  },
  {
   "cell_type": "markdown",
   "metadata": {},
   "source": [
    "Посчитаем статистическую значимость различий в конверсии."
   ]
  },
  {
   "cell_type": "markdown",
   "metadata": {},
   "source": [
    "Сформулируем гипотезы. \n",
    "- Нулевая: различий в конверсии между группами нет. \n",
    "- Альтернативная: различия в конверсии между группами есть."
   ]
  },
  {
   "cell_type": "code",
   "execution_count": 55,
   "metadata": {},
   "outputs": [
    {
     "name": "stdout",
     "output_type": "stream",
     "text": [
      "0.019\n"
     ]
    }
   ],
   "source": [
    "print('{0:.3f}'.format(stats.mannwhitneyu(sampleAFiltered, sampleBFiltered)[1]))"
   ]
  },
  {
   "cell_type": "code",
   "execution_count": 56,
   "metadata": {},
   "outputs": [
    {
     "name": "stdout",
     "output_type": "stream",
     "text": [
      "0.159\n"
     ]
    }
   ],
   "source": [
    "print('{0:.3f}'.format(sampleBFiltered.mean()/sampleAFiltered.mean()-1)) "
   ]
  },
  {
   "cell_type": "markdown",
   "metadata": {},
   "source": [
    "Результаты по конверсии практически не изменились, и разница между сегментами не изменилась."
   ]
  },
  {
   "cell_type": "markdown",
   "metadata": {},
   "source": [
    "## 13. Посчитаем статистическую значимость различий в среднем чеке заказа между группами по «очищенным» данным."
   ]
  },
  {
   "cell_type": "markdown",
   "metadata": {},
   "source": [
    "Сформулируем гипотезы. \n",
    "- Нулевая: различий в среднем чеке заказа между группами нет. \n",
    "- Альтернативная: различия в среднем чеке заказа между группами есть."
   ]
  },
  {
   "cell_type": "code",
   "execution_count": 57,
   "metadata": {},
   "outputs": [
    {
     "name": "stdout",
     "output_type": "stream",
     "text": [
      "0.886\n"
     ]
    }
   ],
   "source": [
    "print(\n",
    "    '{0:.3f}'.format(\n",
    "        stats.mannwhitneyu(\n",
    "            orders[\n",
    "                np.logical_and(\n",
    "                    orders['group'] == 'A',\n",
    "                    np.logical_not(orders['visitorId'].isin(abnormalUsers)),\n",
    "                )\n",
    "            ]['revenue'],\n",
    "            orders[\n",
    "                np.logical_and(\n",
    "                    orders['group'] == 'B',\n",
    "                    np.logical_not(orders['visitorId'].isin(abnormalUsers)),\n",
    "                )\n",
    "            ]['revenue'],\n",
    "        )[1]\n",
    "    )\n",
    ")"
   ]
  },
  {
   "cell_type": "code",
   "execution_count": 58,
   "metadata": {},
   "outputs": [
    {
     "name": "stdout",
     "output_type": "stream",
     "text": [
      "-0.020\n"
     ]
    }
   ],
   "source": [
    "print(\n",
    "    \"{0:.3f}\".format(\n",
    "        orders[\n",
    "            np.logical_and(\n",
    "                orders['group'] == 'B',\n",
    "                np.logical_not(orders['visitorId'].isin(abnormalUsers)),\n",
    "            )\n",
    "        ]['revenue'].mean()\n",
    "        / orders[\n",
    "            np.logical_and(\n",
    "                orders['group'] == 'A',\n",
    "                np.logical_not(orders['visitorId'].isin(abnormalUsers)),\n",
    "            )\n",
    "        ]['revenue'].mean()\n",
    "        - 1\n",
    "    )\n",
    ") "
   ]
  },
  {
   "cell_type": "markdown",
   "metadata": {},
   "source": [
    "P-value незначительно уменьшился, но и разница между сегментами изменилась с относительного проигрыша группы А в 25.9% на относительный проигрыш группы В в 2.0%."
   ]
  },
  {
   "cell_type": "markdown",
   "metadata": {},
   "source": [
    "## 14. Принятие решений по результатам теста."
   ]
  },
  {
   "cell_type": "markdown",
   "metadata": {},
   "source": [
    "Результаты исследования сборе:\n",
    "- Есть статистически значимое различие по конверсии между группами как по сырым данным, так и после фильтрации аномалий.\n",
    "- По сырым данным нет статистически значимого различия по среднему чеку между группами как по сырым данным, так и после фильтрации аномалий.\n",
    "- График различия конверсии между группами сообщает, что результаты группы B лучше группы A, но имеют тенденцию к падению.\n",
    "- График различия среднего чека колеблется: это связано с аномалиями. Сделать из этого графика определённые выводы нельзя."
   ]
  },
  {
   "cell_type": "markdown",
   "metadata": {},
   "source": [
    "По результатам теста следует принять решение: Продолжить тест."
   ]
  }
 ],
 "metadata": {
  "ExecuteTimeLog": [
   {
    "duration": 2,
    "start_time": "2022-06-02T11:05:52.002Z"
   },
   {
    "duration": 62,
    "start_time": "2022-06-02T11:06:28.659Z"
   },
   {
    "duration": 14,
    "start_time": "2022-06-02T11:06:47.483Z"
   },
   {
    "duration": 4,
    "start_time": "2022-06-02T11:10:43.935Z"
   },
   {
    "duration": 3,
    "start_time": "2022-06-02T11:12:39.373Z"
   },
   {
    "duration": 4,
    "start_time": "2022-06-02T11:16:27.970Z"
   },
   {
    "duration": 6,
    "start_time": "2022-06-02T11:17:13.867Z"
   },
   {
    "duration": 6,
    "start_time": "2022-06-02T11:17:24.839Z"
   },
   {
    "duration": 3,
    "start_time": "2022-06-02T11:20:26.471Z"
   },
   {
    "duration": 4,
    "start_time": "2022-06-02T11:21:29.508Z"
   },
   {
    "duration": 4,
    "start_time": "2022-06-02T11:21:58.048Z"
   },
   {
    "duration": 6,
    "start_time": "2022-06-02T11:22:09.298Z"
   },
   {
    "duration": 6,
    "start_time": "2022-06-02T11:23:14.530Z"
   },
   {
    "duration": 90,
    "start_time": "2022-06-02T11:33:40.168Z"
   },
   {
    "duration": 63,
    "start_time": "2022-06-02T11:33:57.480Z"
   },
   {
    "duration": 811,
    "start_time": "2022-06-02T11:37:11.415Z"
   },
   {
    "duration": 663,
    "start_time": "2022-06-02T11:37:16.624Z"
   },
   {
    "duration": 27,
    "start_time": "2022-06-02T11:37:17.289Z"
   },
   {
    "duration": 7,
    "start_time": "2022-06-02T11:37:17.317Z"
   },
   {
    "duration": 7,
    "start_time": "2022-06-02T11:37:17.326Z"
   },
   {
    "duration": 9,
    "start_time": "2022-06-02T11:37:17.335Z"
   },
   {
    "duration": 5,
    "start_time": "2022-06-02T11:37:17.346Z"
   },
   {
    "duration": 9,
    "start_time": "2022-06-02T11:37:17.353Z"
   },
   {
    "duration": 10,
    "start_time": "2022-06-02T11:37:17.364Z"
   },
   {
    "duration": 8,
    "start_time": "2022-06-02T11:37:17.376Z"
   },
   {
    "duration": 10,
    "start_time": "2022-06-02T11:37:17.387Z"
   },
   {
    "duration": 56,
    "start_time": "2022-06-02T11:37:17.399Z"
   },
   {
    "duration": 15,
    "start_time": "2022-06-02T11:37:17.456Z"
   },
   {
    "duration": 9,
    "start_time": "2022-06-02T11:38:18.567Z"
   },
   {
    "duration": 47,
    "start_time": "2022-06-02T11:39:03.865Z"
   },
   {
    "duration": 36,
    "start_time": "2022-06-02T11:39:20.869Z"
   },
   {
    "duration": 257,
    "start_time": "2022-06-02T11:39:26.608Z"
   },
   {
    "duration": 29,
    "start_time": "2022-06-02T11:39:52.773Z"
   },
   {
    "duration": 17,
    "start_time": "2022-06-02T11:40:17.671Z"
   },
   {
    "duration": 193,
    "start_time": "2022-06-02T11:40:32.490Z"
   },
   {
    "duration": 12,
    "start_time": "2022-06-02T11:40:45.794Z"
   },
   {
    "duration": 7,
    "start_time": "2022-06-02T11:41:21.480Z"
   },
   {
    "duration": 46,
    "start_time": "2022-06-02T11:41:35.988Z"
   },
   {
    "duration": 5,
    "start_time": "2022-06-02T11:41:38.972Z"
   },
   {
    "duration": 31,
    "start_time": "2022-06-02T11:42:21.188Z"
   },
   {
    "duration": 6,
    "start_time": "2022-06-02T11:43:15.674Z"
   },
   {
    "duration": 21,
    "start_time": "2022-06-02T11:43:27.617Z"
   },
   {
    "duration": 21,
    "start_time": "2022-06-02T11:44:18.778Z"
   },
   {
    "duration": 160,
    "start_time": "2022-06-02T11:45:57.176Z"
   },
   {
    "duration": 8,
    "start_time": "2022-06-02T11:47:04.277Z"
   },
   {
    "duration": 9,
    "start_time": "2022-06-02T11:48:05.939Z"
   },
   {
    "duration": 125,
    "start_time": "2022-06-02T11:48:59.917Z"
   },
   {
    "duration": 8,
    "start_time": "2022-06-02T11:49:17.943Z"
   },
   {
    "duration": 17,
    "start_time": "2022-06-02T11:49:31.366Z"
   },
   {
    "duration": 6,
    "start_time": "2022-06-02T11:49:47.413Z"
   },
   {
    "duration": 680,
    "start_time": "2022-06-02T11:50:23.527Z"
   },
   {
    "duration": 202,
    "start_time": "2022-06-02T11:56:21.176Z"
   },
   {
    "duration": 877,
    "start_time": "2022-06-03T10:42:33.578Z"
   },
   {
    "duration": 8,
    "start_time": "2022-06-03T10:42:34.458Z"
   },
   {
    "duration": 99,
    "start_time": "2022-06-03T10:42:34.468Z"
   },
   {
    "duration": 7,
    "start_time": "2022-06-03T10:42:34.569Z"
   },
   {
    "duration": 26,
    "start_time": "2022-06-03T10:42:34.578Z"
   },
   {
    "duration": 18,
    "start_time": "2022-06-03T10:42:34.608Z"
   },
   {
    "duration": 20,
    "start_time": "2022-06-03T10:42:34.627Z"
   },
   {
    "duration": 23,
    "start_time": "2022-06-03T10:42:34.649Z"
   },
   {
    "duration": 26,
    "start_time": "2022-06-03T10:42:34.674Z"
   },
   {
    "duration": 18,
    "start_time": "2022-06-03T10:42:34.702Z"
   },
   {
    "duration": 17,
    "start_time": "2022-06-03T10:42:34.722Z"
   },
   {
    "duration": 95,
    "start_time": "2022-06-03T10:42:34.741Z"
   },
   {
    "duration": 13,
    "start_time": "2022-06-03T10:42:34.838Z"
   },
   {
    "duration": 32,
    "start_time": "2022-06-03T10:42:34.855Z"
   },
   {
    "duration": 69,
    "start_time": "2022-06-03T10:42:34.890Z"
   },
   {
    "duration": 15,
    "start_time": "2022-06-03T10:42:34.961Z"
   },
   {
    "duration": 10,
    "start_time": "2022-06-03T10:42:34.978Z"
   },
   {
    "duration": 18,
    "start_time": "2022-06-03T10:42:34.992Z"
   },
   {
    "duration": 196,
    "start_time": "2022-06-03T10:42:35.012Z"
   },
   {
    "duration": 141,
    "start_time": "2022-06-03T10:42:35.210Z"
   },
   {
    "duration": 8,
    "start_time": "2022-06-03T10:42:35.353Z"
   },
   {
    "duration": 23,
    "start_time": "2022-06-03T10:42:35.362Z"
   },
   {
    "duration": 362,
    "start_time": "2022-06-03T10:42:35.387Z"
   },
   {
    "duration": 237,
    "start_time": "2022-06-03T10:42:35.750Z"
   },
   {
    "duration": 7,
    "start_time": "2022-06-03T10:45:57.729Z"
   },
   {
    "duration": 196,
    "start_time": "2022-06-03T10:45:59.434Z"
   },
   {
    "duration": 202,
    "start_time": "2022-06-03T10:46:29.402Z"
   },
   {
    "duration": 6,
    "start_time": "2022-06-03T10:47:07.764Z"
   },
   {
    "duration": 224,
    "start_time": "2022-06-03T10:47:08.920Z"
   },
   {
    "duration": 194,
    "start_time": "2022-06-03T10:47:29.007Z"
   },
   {
    "duration": 314,
    "start_time": "2022-06-03T10:47:48.856Z"
   },
   {
    "duration": 266,
    "start_time": "2022-06-03T10:52:46.759Z"
   },
   {
    "duration": 275,
    "start_time": "2022-06-03T10:59:17.060Z"
   },
   {
    "duration": 86,
    "start_time": "2022-06-03T11:08:18.314Z"
   },
   {
    "duration": 11,
    "start_time": "2022-06-03T11:09:30.394Z"
   },
   {
    "duration": 15,
    "start_time": "2022-06-03T11:09:53.580Z"
   },
   {
    "duration": 8,
    "start_time": "2022-06-03T11:11:02.031Z"
   },
   {
    "duration": 7,
    "start_time": "2022-06-03T11:11:57.902Z"
   },
   {
    "duration": 6,
    "start_time": "2022-06-03T11:12:05.321Z"
   },
   {
    "duration": 3,
    "start_time": "2022-06-03T11:12:06.164Z"
   },
   {
    "duration": 118,
    "start_time": "2022-06-03T11:12:24.036Z"
   },
   {
    "duration": 119,
    "start_time": "2022-06-03T11:13:00.517Z"
   },
   {
    "duration": 124,
    "start_time": "2022-06-03T11:13:26.054Z"
   },
   {
    "duration": 162,
    "start_time": "2022-06-03T11:13:41.800Z"
   },
   {
    "duration": 49,
    "start_time": "2022-06-03T11:15:12.861Z"
   },
   {
    "duration": 128,
    "start_time": "2022-06-03T11:17:07.716Z"
   },
   {
    "duration": 5,
    "start_time": "2022-06-03T11:20:35.888Z"
   },
   {
    "duration": 764,
    "start_time": "2022-06-03T11:25:10.121Z"
   },
   {
    "duration": 152,
    "start_time": "2022-06-03T11:25:37.217Z"
   },
   {
    "duration": 160,
    "start_time": "2022-06-03T11:26:31.327Z"
   },
   {
    "duration": 515,
    "start_time": "2022-06-03T11:32:07.856Z"
   },
   {
    "duration": 5,
    "start_time": "2022-06-03T11:32:22.863Z"
   },
   {
    "duration": 5,
    "start_time": "2022-06-04T09:33:03.022Z"
   },
   {
    "duration": 4,
    "start_time": "2022-06-04T09:33:10.290Z"
   },
   {
    "duration": 52,
    "start_time": "2022-06-04T09:33:18.019Z"
   },
   {
    "duration": 3,
    "start_time": "2022-06-04T09:33:25.219Z"
   },
   {
    "duration": 7,
    "start_time": "2022-06-04T09:33:34.499Z"
   },
   {
    "duration": 3,
    "start_time": "2022-06-04T09:33:40.998Z"
   },
   {
    "duration": 67,
    "start_time": "2022-06-04T09:33:48.214Z"
   },
   {
    "duration": 3,
    "start_time": "2022-06-04T09:33:57.899Z"
   },
   {
    "duration": 126,
    "start_time": "2022-06-04T09:34:18.216Z"
   },
   {
    "duration": 17,
    "start_time": "2022-06-04T09:35:19.626Z"
   },
   {
    "duration": 3,
    "start_time": "2022-06-04T09:35:31.599Z"
   },
   {
    "duration": 57,
    "start_time": "2022-06-04T09:35:48.883Z"
   },
   {
    "duration": 23,
    "start_time": "2022-06-04T09:36:34.991Z"
   },
   {
    "duration": 3,
    "start_time": "2022-06-04T09:36:52.287Z"
   },
   {
    "duration": 57,
    "start_time": "2022-06-04T09:37:07.297Z"
   },
   {
    "duration": 9,
    "start_time": "2022-06-04T09:39:24.535Z"
   },
   {
    "duration": 485,
    "start_time": "2022-06-04T09:40:16.490Z"
   },
   {
    "duration": 9,
    "start_time": "2022-06-04T09:40:23.907Z"
   },
   {
    "duration": 11,
    "start_time": "2022-06-04T09:52:21.794Z"
   },
   {
    "duration": 41,
    "start_time": "2022-06-04T09:53:25.102Z"
   },
   {
    "duration": 116,
    "start_time": "2022-06-04T09:54:36.299Z"
   },
   {
    "duration": 106,
    "start_time": "2022-06-04T09:55:12.445Z"
   },
   {
    "duration": 118,
    "start_time": "2022-06-04T09:56:05.214Z"
   },
   {
    "duration": 244,
    "start_time": "2022-06-04T10:03:41.486Z"
   },
   {
    "duration": 244,
    "start_time": "2022-06-04T10:04:47.198Z"
   },
   {
    "duration": 84,
    "start_time": "2022-06-04T10:04:50.722Z"
   },
   {
    "duration": 103,
    "start_time": "2022-06-04T10:04:51.151Z"
   },
   {
    "duration": 6,
    "start_time": "2022-06-04T10:04:52.202Z"
   },
   {
    "duration": 6,
    "start_time": "2022-06-04T10:09:22.778Z"
   },
   {
    "duration": 1344,
    "start_time": "2022-06-05T12:10:39.486Z"
   },
   {
    "duration": 9,
    "start_time": "2022-06-05T12:10:40.832Z"
   },
   {
    "duration": 72,
    "start_time": "2022-06-05T12:10:40.843Z"
   },
   {
    "duration": 7,
    "start_time": "2022-06-05T12:10:40.918Z"
   },
   {
    "duration": 6,
    "start_time": "2022-06-05T12:10:40.927Z"
   },
   {
    "duration": 8,
    "start_time": "2022-06-05T12:10:40.935Z"
   },
   {
    "duration": 6,
    "start_time": "2022-06-05T12:10:40.945Z"
   },
   {
    "duration": 9,
    "start_time": "2022-06-05T12:10:40.953Z"
   },
   {
    "duration": 31,
    "start_time": "2022-06-05T12:10:40.964Z"
   },
   {
    "duration": 7,
    "start_time": "2022-06-05T12:10:40.998Z"
   },
   {
    "duration": 9,
    "start_time": "2022-06-05T12:10:41.007Z"
   },
   {
    "duration": 90,
    "start_time": "2022-06-05T12:10:41.018Z"
   },
   {
    "duration": 10,
    "start_time": "2022-06-05T12:10:41.110Z"
   },
   {
    "duration": 15,
    "start_time": "2022-06-05T12:10:41.122Z"
   },
   {
    "duration": 74,
    "start_time": "2022-06-05T12:10:41.138Z"
   },
   {
    "duration": 8,
    "start_time": "2022-06-05T12:10:41.214Z"
   },
   {
    "duration": 8,
    "start_time": "2022-06-05T12:10:41.224Z"
   },
   {
    "duration": 9,
    "start_time": "2022-06-05T12:10:41.234Z"
   },
   {
    "duration": 183,
    "start_time": "2022-06-05T12:10:41.245Z"
   },
   {
    "duration": 142,
    "start_time": "2022-06-05T12:10:41.429Z"
   },
   {
    "duration": 7,
    "start_time": "2022-06-05T12:10:41.573Z"
   },
   {
    "duration": 13,
    "start_time": "2022-06-05T12:10:41.583Z"
   },
   {
    "duration": 330,
    "start_time": "2022-06-05T12:10:41.597Z"
   },
   {
    "duration": 5,
    "start_time": "2022-06-05T12:10:41.929Z"
   },
   {
    "duration": 285,
    "start_time": "2022-06-05T12:10:41.936Z"
   },
   {
    "duration": 367,
    "start_time": "2022-06-05T12:10:42.223Z"
   },
   {
    "duration": 225,
    "start_time": "2022-06-05T12:10:42.592Z"
   },
   {
    "duration": 371,
    "start_time": "2022-06-05T12:10:42.820Z"
   },
   {
    "duration": 8,
    "start_time": "2022-06-05T12:10:43.192Z"
   },
   {
    "duration": 6,
    "start_time": "2022-06-05T12:10:43.201Z"
   },
   {
    "duration": 143,
    "start_time": "2022-06-05T12:10:43.209Z"
   },
   {
    "duration": 6,
    "start_time": "2022-06-05T12:10:43.354Z"
   },
   {
    "duration": 175,
    "start_time": "2022-06-05T12:10:43.362Z"
   },
   {
    "duration": 6,
    "start_time": "2022-06-05T12:10:43.540Z"
   },
   {
    "duration": 245,
    "start_time": "2022-06-05T12:10:43.547Z"
   },
   {
    "duration": 92,
    "start_time": "2022-06-05T12:10:43.794Z"
   },
   {
    "duration": 85,
    "start_time": "2022-06-05T12:10:43.888Z"
   },
   {
    "duration": 6,
    "start_time": "2022-06-05T12:10:43.980Z"
   },
   {
    "duration": 10,
    "start_time": "2022-06-05T12:10:43.988Z"
   },
   {
    "duration": 42,
    "start_time": "2022-06-05T12:12:52.384Z"
   },
   {
    "duration": 40,
    "start_time": "2022-06-05T12:13:21.143Z"
   },
   {
    "duration": 4,
    "start_time": "2022-06-05T12:17:26.314Z"
   },
   {
    "duration": 4,
    "start_time": "2022-06-05T12:18:40.055Z"
   },
   {
    "duration": 55,
    "start_time": "2022-06-05T12:20:16.750Z"
   },
   {
    "duration": 8,
    "start_time": "2022-06-05T12:23:07.633Z"
   },
   {
    "duration": 7,
    "start_time": "2022-06-05T12:25:18.036Z"
   },
   {
    "duration": 21,
    "start_time": "2022-06-05T12:26:44.036Z"
   },
   {
    "duration": 7,
    "start_time": "2022-06-05T12:32:49.917Z"
   },
   {
    "duration": 758,
    "start_time": "2022-06-05T12:33:06.401Z"
   },
   {
    "duration": 452,
    "start_time": "2022-06-05T12:33:46.049Z"
   },
   {
    "duration": 5,
    "start_time": "2022-06-05T12:33:56.777Z"
   },
   {
    "duration": 7,
    "start_time": "2022-06-05T12:34:20.137Z"
   },
   {
    "duration": 6,
    "start_time": "2022-06-05T12:36:39.174Z"
   },
   {
    "duration": 6,
    "start_time": "2022-06-05T12:37:43.307Z"
   },
   {
    "duration": 26,
    "start_time": "2022-06-05T12:39:28.176Z"
   },
   {
    "duration": 46,
    "start_time": "2022-06-05T12:42:58.258Z"
   },
   {
    "duration": 5,
    "start_time": "2022-06-05T12:43:01.138Z"
   },
   {
    "duration": 381,
    "start_time": "2022-06-05T12:46:42.653Z"
   },
   {
    "duration": 14,
    "start_time": "2022-06-05T12:47:10.654Z"
   },
   {
    "duration": 8,
    "start_time": "2022-06-05T12:47:34.173Z"
   },
   {
    "duration": 220,
    "start_time": "2022-06-05T13:33:46.947Z"
   },
   {
    "duration": 197,
    "start_time": "2022-06-05T13:37:05.873Z"
   },
   {
    "duration": 318,
    "start_time": "2022-06-05T13:39:34.016Z"
   },
   {
    "duration": 268,
    "start_time": "2022-06-05T13:39:51.815Z"
   },
   {
    "duration": 342,
    "start_time": "2022-06-05T13:40:55.449Z"
   },
   {
    "duration": 176,
    "start_time": "2022-06-05T13:41:29.477Z"
   },
   {
    "duration": 309,
    "start_time": "2022-06-05T13:41:37.174Z"
   },
   {
    "duration": 330,
    "start_time": "2022-06-05T13:42:30.545Z"
   },
   {
    "duration": 191,
    "start_time": "2022-06-05T13:43:12.102Z"
   },
   {
    "duration": 315,
    "start_time": "2022-06-05T13:44:19.917Z"
   },
   {
    "duration": 134,
    "start_time": "2022-06-05T13:45:26.397Z"
   },
   {
    "duration": 152,
    "start_time": "2022-06-05T13:46:30.176Z"
   },
   {
    "duration": 146,
    "start_time": "2022-06-05T13:47:41.026Z"
   },
   {
    "duration": 151,
    "start_time": "2022-06-05T13:47:48.953Z"
   },
   {
    "duration": 1173,
    "start_time": "2022-06-06T07:17:18.356Z"
   },
   {
    "duration": 25,
    "start_time": "2022-06-06T07:17:19.538Z"
   },
   {
    "duration": 30,
    "start_time": "2022-06-06T07:17:19.569Z"
   },
   {
    "duration": 7,
    "start_time": "2022-06-06T07:17:19.601Z"
   },
   {
    "duration": 54,
    "start_time": "2022-06-06T07:17:19.610Z"
   },
   {
    "duration": 10,
    "start_time": "2022-06-06T07:17:19.667Z"
   },
   {
    "duration": 7,
    "start_time": "2022-06-06T07:17:19.679Z"
   },
   {
    "duration": 10,
    "start_time": "2022-06-06T07:17:19.687Z"
   },
   {
    "duration": 14,
    "start_time": "2022-06-06T07:17:19.699Z"
   },
   {
    "duration": 14,
    "start_time": "2022-06-06T07:17:19.715Z"
   },
   {
    "duration": 17,
    "start_time": "2022-06-06T07:17:19.730Z"
   },
   {
    "duration": 49,
    "start_time": "2022-06-06T07:17:19.753Z"
   },
   {
    "duration": 14,
    "start_time": "2022-06-06T07:17:19.804Z"
   },
   {
    "duration": 33,
    "start_time": "2022-06-06T07:17:19.821Z"
   },
   {
    "duration": 31,
    "start_time": "2022-06-06T07:17:19.861Z"
   },
   {
    "duration": 9,
    "start_time": "2022-06-06T07:17:19.894Z"
   },
   {
    "duration": 6,
    "start_time": "2022-06-06T07:17:19.905Z"
   },
   {
    "duration": 19,
    "start_time": "2022-06-06T07:17:19.913Z"
   },
   {
    "duration": 202,
    "start_time": "2022-06-06T07:17:19.947Z"
   },
   {
    "duration": 131,
    "start_time": "2022-06-06T07:17:20.150Z"
   },
   {
    "duration": 5,
    "start_time": "2022-06-06T07:17:20.283Z"
   },
   {
    "duration": 7,
    "start_time": "2022-06-06T07:17:20.290Z"
   },
   {
    "duration": 341,
    "start_time": "2022-06-06T07:17:20.299Z"
   },
   {
    "duration": 14,
    "start_time": "2022-06-06T07:17:20.644Z"
   },
   {
    "duration": 247,
    "start_time": "2022-06-06T07:17:20.663Z"
   },
   {
    "duration": 339,
    "start_time": "2022-06-06T07:17:20.912Z"
   },
   {
    "duration": 204,
    "start_time": "2022-06-06T07:17:21.256Z"
   },
   {
    "duration": 357,
    "start_time": "2022-06-06T07:17:21.462Z"
   },
   {
    "duration": 15,
    "start_time": "2022-06-06T07:17:21.823Z"
   },
   {
    "duration": 27,
    "start_time": "2022-06-06T07:17:21.839Z"
   },
   {
    "duration": 148,
    "start_time": "2022-06-06T07:17:21.867Z"
   },
   {
    "duration": 5,
    "start_time": "2022-06-06T07:17:22.022Z"
   },
   {
    "duration": 171,
    "start_time": "2022-06-06T07:17:22.028Z"
   },
   {
    "duration": 7,
    "start_time": "2022-06-06T07:17:22.201Z"
   },
   {
    "duration": 234,
    "start_time": "2022-06-06T07:17:22.209Z"
   },
   {
    "duration": 78,
    "start_time": "2022-06-06T07:17:22.444Z"
   },
   {
    "duration": 92,
    "start_time": "2022-06-06T07:17:22.528Z"
   },
   {
    "duration": 6,
    "start_time": "2022-06-06T07:17:22.629Z"
   },
   {
    "duration": 48,
    "start_time": "2022-06-06T07:17:22.637Z"
   },
   {
    "duration": 102,
    "start_time": "2022-06-06T07:17:22.687Z"
   },
   {
    "duration": 4,
    "start_time": "2022-06-06T07:17:22.794Z"
   },
   {
    "duration": 27,
    "start_time": "2022-06-06T07:17:22.800Z"
   },
   {
    "duration": 79,
    "start_time": "2022-06-06T07:17:22.829Z"
   },
   {
    "duration": 22,
    "start_time": "2022-06-06T07:17:22.910Z"
   },
   {
    "duration": 62,
    "start_time": "2022-06-06T07:17:22.937Z"
   },
   {
    "duration": 74,
    "start_time": "2022-06-06T07:17:23.001Z"
   },
   {
    "duration": 12,
    "start_time": "2022-06-06T07:17:23.077Z"
   },
   {
    "duration": 29,
    "start_time": "2022-06-06T07:17:23.091Z"
   },
   {
    "duration": 12,
    "start_time": "2022-06-06T07:17:23.122Z"
   },
   {
    "duration": 35,
    "start_time": "2022-06-06T07:17:23.136Z"
   },
   {
    "duration": 9,
    "start_time": "2022-06-06T07:17:23.173Z"
   },
   {
    "duration": 1313,
    "start_time": "2022-06-06T07:22:42.805Z"
   },
   {
    "duration": 12,
    "start_time": "2022-06-06T07:22:44.121Z"
   },
   {
    "duration": 71,
    "start_time": "2022-06-06T07:22:44.135Z"
   },
   {
    "duration": 9,
    "start_time": "2022-06-06T07:22:44.208Z"
   },
   {
    "duration": 32,
    "start_time": "2022-06-06T07:22:44.220Z"
   },
   {
    "duration": 27,
    "start_time": "2022-06-06T07:22:44.256Z"
   },
   {
    "duration": 5,
    "start_time": "2022-06-06T07:22:44.291Z"
   },
   {
    "duration": 9,
    "start_time": "2022-06-06T07:22:44.298Z"
   },
   {
    "duration": 10,
    "start_time": "2022-06-06T07:22:44.308Z"
   },
   {
    "duration": 47,
    "start_time": "2022-06-06T07:22:44.319Z"
   },
   {
    "duration": 21,
    "start_time": "2022-06-06T07:22:44.367Z"
   },
   {
    "duration": 72,
    "start_time": "2022-06-06T07:22:44.390Z"
   },
   {
    "duration": 16,
    "start_time": "2022-06-06T07:22:44.467Z"
   },
   {
    "duration": 16,
    "start_time": "2022-06-06T07:22:44.486Z"
   },
   {
    "duration": 32,
    "start_time": "2022-06-06T07:22:44.504Z"
   },
   {
    "duration": 13,
    "start_time": "2022-06-06T07:22:44.537Z"
   },
   {
    "duration": 24,
    "start_time": "2022-06-06T07:22:44.555Z"
   },
   {
    "duration": 14,
    "start_time": "2022-06-06T07:22:44.584Z"
   },
   {
    "duration": 203,
    "start_time": "2022-06-06T07:22:44.600Z"
   },
   {
    "duration": 146,
    "start_time": "2022-06-06T07:22:44.805Z"
   },
   {
    "duration": 6,
    "start_time": "2022-06-06T07:22:44.953Z"
   },
   {
    "duration": 28,
    "start_time": "2022-06-06T07:22:44.961Z"
   },
   {
    "duration": 358,
    "start_time": "2022-06-06T07:22:44.991Z"
   },
   {
    "duration": 7,
    "start_time": "2022-06-06T07:22:45.353Z"
   },
   {
    "duration": 584,
    "start_time": "2022-06-06T07:22:45.362Z"
   },
   {
    "duration": 431,
    "start_time": "2022-06-06T07:22:45.947Z"
   },
   {
    "duration": 502,
    "start_time": "2022-06-06T07:22:46.379Z"
   },
   {
    "duration": 879,
    "start_time": "2022-06-06T07:22:46.883Z"
   },
   {
    "duration": 19,
    "start_time": "2022-06-06T07:22:47.764Z"
   },
   {
    "duration": 18,
    "start_time": "2022-06-06T07:22:47.785Z"
   },
   {
    "duration": 410,
    "start_time": "2022-06-06T07:22:47.823Z"
   },
   {
    "duration": 10,
    "start_time": "2022-06-06T07:22:48.237Z"
   },
   {
    "duration": 401,
    "start_time": "2022-06-06T07:22:48.248Z"
   },
   {
    "duration": 16,
    "start_time": "2022-06-06T07:22:48.651Z"
   },
   {
    "duration": 578,
    "start_time": "2022-06-06T07:22:48.670Z"
   },
   {
    "duration": 207,
    "start_time": "2022-06-06T07:22:49.250Z"
   },
   {
    "duration": 172,
    "start_time": "2022-06-06T07:22:49.459Z"
   },
   {
    "duration": 70,
    "start_time": "2022-06-06T07:22:49.633Z"
   },
   {
    "duration": 27,
    "start_time": "2022-06-06T07:22:49.705Z"
   },
   {
    "duration": 140,
    "start_time": "2022-06-06T07:22:49.733Z"
   },
   {
    "duration": 8,
    "start_time": "2022-06-06T07:22:49.878Z"
   },
   {
    "duration": 53,
    "start_time": "2022-06-06T07:22:49.931Z"
   },
   {
    "duration": 52,
    "start_time": "2022-06-06T07:22:49.986Z"
   },
   {
    "duration": 51,
    "start_time": "2022-06-06T07:22:50.042Z"
   },
   {
    "duration": 10,
    "start_time": "2022-06-06T07:22:50.096Z"
   },
   {
    "duration": 21,
    "start_time": "2022-06-06T07:22:50.108Z"
   },
   {
    "duration": 19,
    "start_time": "2022-06-06T07:22:50.130Z"
   },
   {
    "duration": 58,
    "start_time": "2022-06-06T07:22:50.153Z"
   },
   {
    "duration": 4,
    "start_time": "2022-06-06T07:22:50.213Z"
   },
   {
    "duration": 47,
    "start_time": "2022-06-06T07:22:50.218Z"
   },
   {
    "duration": 61,
    "start_time": "2022-06-06T07:22:50.268Z"
   },
   {
    "duration": 370,
    "start_time": "2022-06-06T17:55:10.159Z"
   },
   {
    "duration": 410,
    "start_time": "2022-06-06T17:55:20.252Z"
   },
   {
    "duration": 495,
    "start_time": "2022-06-06T17:55:40.428Z"
   },
   {
    "duration": 378,
    "start_time": "2022-06-06T17:56:09.212Z"
   },
   {
    "duration": 355,
    "start_time": "2022-06-06T17:56:22.664Z"
   },
   {
    "duration": 404,
    "start_time": "2022-06-06T18:01:01.818Z"
   },
   {
    "duration": 237,
    "start_time": "2022-06-06T18:01:11.723Z"
   },
   {
    "duration": 220,
    "start_time": "2022-06-06T18:01:21.194Z"
   },
   {
    "duration": 200,
    "start_time": "2022-06-06T18:01:29.414Z"
   },
   {
    "duration": 24,
    "start_time": "2022-06-06T18:02:07.174Z"
   },
   {
    "duration": 227,
    "start_time": "2022-06-06T18:02:16.554Z"
   },
   {
    "duration": 247,
    "start_time": "2022-06-06T18:02:24.494Z"
   },
   {
    "duration": 236,
    "start_time": "2022-06-06T18:02:34.394Z"
   },
   {
    "duration": 282,
    "start_time": "2022-06-06T18:03:02.529Z"
   },
   {
    "duration": 364,
    "start_time": "2022-06-06T18:03:11.854Z"
   },
   {
    "duration": 369,
    "start_time": "2022-06-06T18:03:21.592Z"
   },
   {
    "duration": 443,
    "start_time": "2022-06-06T18:03:28.993Z"
   },
   {
    "duration": 62,
    "start_time": "2022-06-06T18:04:23.079Z"
   },
   {
    "duration": 38,
    "start_time": "2022-06-06T18:04:52.420Z"
   },
   {
    "duration": 56,
    "start_time": "2022-06-06T18:05:53.497Z"
   },
   {
    "duration": 13,
    "start_time": "2022-06-06T18:08:35.022Z"
   },
   {
    "duration": 46,
    "start_time": "2022-06-07T17:58:36.723Z"
   },
   {
    "duration": 1086,
    "start_time": "2022-06-07T17:58:47.965Z"
   },
   {
    "duration": 8,
    "start_time": "2022-06-07T17:58:49.052Z"
   },
   {
    "duration": 66,
    "start_time": "2022-06-07T17:58:49.061Z"
   },
   {
    "duration": 6,
    "start_time": "2022-06-07T17:58:49.128Z"
   },
   {
    "duration": 3,
    "start_time": "2022-06-07T17:58:49.135Z"
   },
   {
    "duration": 8,
    "start_time": "2022-06-07T17:58:49.139Z"
   },
   {
    "duration": 4,
    "start_time": "2022-06-07T17:58:49.148Z"
   },
   {
    "duration": 7,
    "start_time": "2022-06-07T17:58:49.153Z"
   },
   {
    "duration": 6,
    "start_time": "2022-06-07T17:58:49.161Z"
   },
   {
    "duration": 6,
    "start_time": "2022-06-07T17:58:49.169Z"
   },
   {
    "duration": 7,
    "start_time": "2022-06-07T17:58:49.176Z"
   },
   {
    "duration": 68,
    "start_time": "2022-06-07T17:58:49.185Z"
   },
   {
    "duration": 9,
    "start_time": "2022-06-07T17:58:49.255Z"
   },
   {
    "duration": 13,
    "start_time": "2022-06-07T17:58:49.265Z"
   },
   {
    "duration": 56,
    "start_time": "2022-06-07T17:58:49.279Z"
   },
   {
    "duration": 6,
    "start_time": "2022-06-07T17:58:49.337Z"
   },
   {
    "duration": 4,
    "start_time": "2022-06-07T17:58:49.344Z"
   },
   {
    "duration": 5,
    "start_time": "2022-06-07T17:58:49.350Z"
   },
   {
    "duration": 137,
    "start_time": "2022-06-07T17:58:49.356Z"
   },
   {
    "duration": 114,
    "start_time": "2022-06-07T17:58:49.495Z"
   },
   {
    "duration": 5,
    "start_time": "2022-06-07T17:58:49.610Z"
   },
   {
    "duration": 4,
    "start_time": "2022-06-07T17:58:49.616Z"
   },
   {
    "duration": 297,
    "start_time": "2022-06-07T17:58:49.621Z"
   },
   {
    "duration": 5,
    "start_time": "2022-06-07T17:58:49.919Z"
   },
   {
    "duration": 162,
    "start_time": "2022-06-07T17:58:49.925Z"
   },
   {
    "duration": 325,
    "start_time": "2022-06-07T17:58:50.090Z"
   },
   {
    "duration": 177,
    "start_time": "2022-06-07T17:58:50.416Z"
   },
   {
    "duration": 341,
    "start_time": "2022-06-07T17:58:50.597Z"
   },
   {
    "duration": 5,
    "start_time": "2022-06-07T17:58:50.940Z"
   },
   {
    "duration": 6,
    "start_time": "2022-06-07T17:58:50.947Z"
   },
   {
    "duration": 140,
    "start_time": "2022-06-07T17:58:50.955Z"
   },
   {
    "duration": 4,
    "start_time": "2022-06-07T17:58:51.097Z"
   },
   {
    "duration": 151,
    "start_time": "2022-06-07T17:58:51.103Z"
   },
   {
    "duration": 4,
    "start_time": "2022-06-07T17:58:51.256Z"
   },
   {
    "duration": 117,
    "start_time": "2022-06-07T17:58:51.262Z"
   },
   {
    "duration": 0,
    "start_time": "2022-06-07T17:58:51.381Z"
   },
   {
    "duration": 0,
    "start_time": "2022-06-07T17:58:51.382Z"
   },
   {
    "duration": 0,
    "start_time": "2022-06-07T17:58:51.383Z"
   },
   {
    "duration": 0,
    "start_time": "2022-06-07T17:58:51.391Z"
   },
   {
    "duration": 0,
    "start_time": "2022-06-07T17:58:51.392Z"
   },
   {
    "duration": 0,
    "start_time": "2022-06-07T17:58:51.393Z"
   },
   {
    "duration": 0,
    "start_time": "2022-06-07T17:58:51.394Z"
   },
   {
    "duration": 0,
    "start_time": "2022-06-07T17:58:51.395Z"
   },
   {
    "duration": 0,
    "start_time": "2022-06-07T17:58:51.396Z"
   },
   {
    "duration": 0,
    "start_time": "2022-06-07T17:58:51.397Z"
   },
   {
    "duration": 0,
    "start_time": "2022-06-07T17:58:51.398Z"
   },
   {
    "duration": 0,
    "start_time": "2022-06-07T17:58:51.398Z"
   },
   {
    "duration": 0,
    "start_time": "2022-06-07T17:58:51.399Z"
   },
   {
    "duration": 0,
    "start_time": "2022-06-07T17:58:51.400Z"
   },
   {
    "duration": 0,
    "start_time": "2022-06-07T17:58:51.402Z"
   },
   {
    "duration": 0,
    "start_time": "2022-06-07T17:58:51.403Z"
   },
   {
    "duration": 0,
    "start_time": "2022-06-07T17:58:51.404Z"
   },
   {
    "duration": 5,
    "start_time": "2022-06-07T17:59:07.180Z"
   },
   {
    "duration": 6,
    "start_time": "2022-06-07T18:00:06.548Z"
   },
   {
    "duration": 11,
    "start_time": "2022-06-07T18:00:46.929Z"
   },
   {
    "duration": 9,
    "start_time": "2022-06-07T18:08:33.687Z"
   },
   {
    "duration": 26,
    "start_time": "2022-06-07T18:08:47.119Z"
   },
   {
    "duration": 3,
    "start_time": "2022-06-07T18:12:35.279Z"
   },
   {
    "duration": 7,
    "start_time": "2022-06-07T18:12:47.298Z"
   },
   {
    "duration": 1030,
    "start_time": "2022-06-07T18:13:06.657Z"
   },
   {
    "duration": 8,
    "start_time": "2022-06-07T18:13:07.688Z"
   },
   {
    "duration": 29,
    "start_time": "2022-06-07T18:13:07.698Z"
   },
   {
    "duration": 5,
    "start_time": "2022-06-07T18:13:07.728Z"
   },
   {
    "duration": 3,
    "start_time": "2022-06-07T18:13:07.734Z"
   },
   {
    "duration": 5,
    "start_time": "2022-06-07T18:13:07.738Z"
   },
   {
    "duration": 4,
    "start_time": "2022-06-07T18:13:07.744Z"
   },
   {
    "duration": 8,
    "start_time": "2022-06-07T18:13:07.749Z"
   },
   {
    "duration": 7,
    "start_time": "2022-06-07T18:13:07.758Z"
   },
   {
    "duration": 6,
    "start_time": "2022-06-07T18:13:07.767Z"
   },
   {
    "duration": 7,
    "start_time": "2022-06-07T18:13:07.774Z"
   },
   {
    "duration": 37,
    "start_time": "2022-06-07T18:13:07.783Z"
   },
   {
    "duration": 9,
    "start_time": "2022-06-07T18:13:07.821Z"
   },
   {
    "duration": 10,
    "start_time": "2022-06-07T18:13:07.831Z"
   },
   {
    "duration": 16,
    "start_time": "2022-06-07T18:13:07.843Z"
   },
   {
    "duration": 5,
    "start_time": "2022-06-07T18:13:07.860Z"
   },
   {
    "duration": 4,
    "start_time": "2022-06-07T18:13:07.867Z"
   },
   {
    "duration": 7,
    "start_time": "2022-06-07T18:13:07.872Z"
   },
   {
    "duration": 135,
    "start_time": "2022-06-07T18:13:07.880Z"
   },
   {
    "duration": 108,
    "start_time": "2022-06-07T18:13:08.016Z"
   },
   {
    "duration": 5,
    "start_time": "2022-06-07T18:13:08.125Z"
   },
   {
    "duration": 4,
    "start_time": "2022-06-07T18:13:08.132Z"
   },
   {
    "duration": 266,
    "start_time": "2022-06-07T18:13:08.137Z"
   },
   {
    "duration": 6,
    "start_time": "2022-06-07T18:13:08.405Z"
   },
   {
    "duration": 208,
    "start_time": "2022-06-07T18:13:08.412Z"
   },
   {
    "duration": 273,
    "start_time": "2022-06-07T18:13:08.621Z"
   },
   {
    "duration": 169,
    "start_time": "2022-06-07T18:13:08.895Z"
   },
   {
    "duration": 315,
    "start_time": "2022-06-07T18:13:09.066Z"
   },
   {
    "duration": 10,
    "start_time": "2022-06-07T18:13:09.383Z"
   },
   {
    "duration": 3,
    "start_time": "2022-06-07T18:13:09.394Z"
   },
   {
    "duration": 118,
    "start_time": "2022-06-07T18:13:09.398Z"
   },
   {
    "duration": 4,
    "start_time": "2022-06-07T18:13:09.517Z"
   },
   {
    "duration": 126,
    "start_time": "2022-06-07T18:13:09.522Z"
   },
   {
    "duration": 4,
    "start_time": "2022-06-07T18:13:09.649Z"
   },
   {
    "duration": 12,
    "start_time": "2022-06-07T18:13:09.654Z"
   },
   {
    "duration": 3,
    "start_time": "2022-06-07T18:13:09.667Z"
   },
   {
    "duration": 23,
    "start_time": "2022-06-07T18:13:09.671Z"
   },
   {
    "duration": 184,
    "start_time": "2022-06-07T18:13:09.696Z"
   },
   {
    "duration": 57,
    "start_time": "2022-06-07T18:13:09.882Z"
   },
   {
    "duration": 105,
    "start_time": "2022-06-07T18:13:09.941Z"
   },
   {
    "duration": 5,
    "start_time": "2022-06-07T18:13:10.048Z"
   },
   {
    "duration": 6,
    "start_time": "2022-06-07T18:13:10.054Z"
   },
   {
    "duration": 53,
    "start_time": "2022-06-07T18:13:10.062Z"
   },
   {
    "duration": 4,
    "start_time": "2022-06-07T18:13:10.116Z"
   },
   {
    "duration": 8,
    "start_time": "2022-06-07T18:13:10.121Z"
   },
   {
    "duration": 4,
    "start_time": "2022-06-07T18:13:10.131Z"
   },
   {
    "duration": 12,
    "start_time": "2022-06-07T18:13:10.137Z"
   },
   {
    "duration": 8,
    "start_time": "2022-06-07T18:13:10.150Z"
   },
   {
    "duration": 8,
    "start_time": "2022-06-07T18:13:10.160Z"
   },
   {
    "duration": 21,
    "start_time": "2022-06-07T18:13:10.170Z"
   },
   {
    "duration": 25,
    "start_time": "2022-06-07T18:13:10.192Z"
   },
   {
    "duration": 4,
    "start_time": "2022-06-07T18:13:10.219Z"
   },
   {
    "duration": 11,
    "start_time": "2022-06-07T18:13:10.224Z"
   },
   {
    "duration": 7,
    "start_time": "2022-06-07T18:13:10.237Z"
   },
   {
    "duration": 1168,
    "start_time": "2022-06-07T20:29:56.568Z"
   },
   {
    "duration": 8,
    "start_time": "2022-06-07T20:29:57.738Z"
   },
   {
    "duration": 66,
    "start_time": "2022-06-07T20:29:57.748Z"
   },
   {
    "duration": 7,
    "start_time": "2022-06-07T20:29:57.816Z"
   },
   {
    "duration": 7,
    "start_time": "2022-06-07T20:29:57.824Z"
   },
   {
    "duration": 11,
    "start_time": "2022-06-07T20:29:57.832Z"
   },
   {
    "duration": 6,
    "start_time": "2022-06-07T20:29:57.845Z"
   },
   {
    "duration": 10,
    "start_time": "2022-06-07T20:29:57.852Z"
   },
   {
    "duration": 8,
    "start_time": "2022-06-07T20:29:57.863Z"
   },
   {
    "duration": 8,
    "start_time": "2022-06-07T20:29:57.873Z"
   },
   {
    "duration": 16,
    "start_time": "2022-06-07T20:29:57.882Z"
   },
   {
    "duration": 79,
    "start_time": "2022-06-07T20:29:57.899Z"
   },
   {
    "duration": 10,
    "start_time": "2022-06-07T20:29:57.979Z"
   },
   {
    "duration": 13,
    "start_time": "2022-06-07T20:29:57.990Z"
   },
   {
    "duration": 60,
    "start_time": "2022-06-07T20:29:58.005Z"
   },
   {
    "duration": 10,
    "start_time": "2022-06-07T20:29:58.067Z"
   },
   {
    "duration": 11,
    "start_time": "2022-06-07T20:29:58.079Z"
   },
   {
    "duration": 16,
    "start_time": "2022-06-07T20:29:58.092Z"
   },
   {
    "duration": 172,
    "start_time": "2022-06-07T20:29:58.110Z"
   },
   {
    "duration": 123,
    "start_time": "2022-06-07T20:29:58.283Z"
   },
   {
    "duration": 5,
    "start_time": "2022-06-07T20:29:58.408Z"
   },
   {
    "duration": 10,
    "start_time": "2022-06-07T20:29:58.414Z"
   },
   {
    "duration": 296,
    "start_time": "2022-06-07T20:29:58.425Z"
   },
   {
    "duration": 6,
    "start_time": "2022-06-07T20:29:58.722Z"
   },
   {
    "duration": 233,
    "start_time": "2022-06-07T20:29:58.729Z"
   },
   {
    "duration": 374,
    "start_time": "2022-06-07T20:29:58.963Z"
   },
   {
    "duration": 184,
    "start_time": "2022-06-07T20:29:59.338Z"
   },
   {
    "duration": 338,
    "start_time": "2022-06-07T20:29:59.526Z"
   },
   {
    "duration": 6,
    "start_time": "2022-06-07T20:29:59.865Z"
   },
   {
    "duration": 14,
    "start_time": "2022-06-07T20:29:59.872Z"
   },
   {
    "duration": 122,
    "start_time": "2022-06-07T20:29:59.887Z"
   },
   {
    "duration": 5,
    "start_time": "2022-06-07T20:30:00.011Z"
   },
   {
    "duration": 152,
    "start_time": "2022-06-07T20:30:00.017Z"
   },
   {
    "duration": 5,
    "start_time": "2022-06-07T20:30:00.171Z"
   },
   {
    "duration": 27,
    "start_time": "2022-06-07T20:30:00.177Z"
   },
   {
    "duration": 22,
    "start_time": "2022-06-07T20:30:00.205Z"
   },
   {
    "duration": 37,
    "start_time": "2022-06-07T20:30:00.228Z"
   },
   {
    "duration": 244,
    "start_time": "2022-06-07T20:30:00.266Z"
   },
   {
    "duration": 66,
    "start_time": "2022-06-07T20:30:00.512Z"
   },
   {
    "duration": 97,
    "start_time": "2022-06-07T20:30:00.580Z"
   },
   {
    "duration": 17,
    "start_time": "2022-06-07T20:30:00.678Z"
   },
   {
    "duration": 20,
    "start_time": "2022-06-07T20:30:00.696Z"
   },
   {
    "duration": 46,
    "start_time": "2022-06-07T20:30:00.717Z"
   },
   {
    "duration": 4,
    "start_time": "2022-06-07T20:30:00.764Z"
   },
   {
    "duration": 25,
    "start_time": "2022-06-07T20:30:00.769Z"
   },
   {
    "duration": 14,
    "start_time": "2022-06-07T20:30:00.795Z"
   },
   {
    "duration": 35,
    "start_time": "2022-06-07T20:30:00.811Z"
   },
   {
    "duration": 23,
    "start_time": "2022-06-07T20:30:00.847Z"
   },
   {
    "duration": 24,
    "start_time": "2022-06-07T20:30:00.872Z"
   },
   {
    "duration": 20,
    "start_time": "2022-06-07T20:30:00.897Z"
   },
   {
    "duration": 43,
    "start_time": "2022-06-07T20:30:00.918Z"
   },
   {
    "duration": 3,
    "start_time": "2022-06-07T20:30:00.963Z"
   },
   {
    "duration": 26,
    "start_time": "2022-06-07T20:30:00.968Z"
   },
   {
    "duration": 37,
    "start_time": "2022-06-07T20:30:00.996Z"
   },
   {
    "duration": 1062,
    "start_time": "2022-06-07T20:30:58.645Z"
   },
   {
    "duration": 9,
    "start_time": "2022-06-07T20:30:59.708Z"
   },
   {
    "duration": 28,
    "start_time": "2022-06-07T20:30:59.718Z"
   },
   {
    "duration": 5,
    "start_time": "2022-06-07T20:30:59.748Z"
   },
   {
    "duration": 5,
    "start_time": "2022-06-07T20:30:59.755Z"
   },
   {
    "duration": 8,
    "start_time": "2022-06-07T20:30:59.761Z"
   },
   {
    "duration": 9,
    "start_time": "2022-06-07T20:30:59.770Z"
   },
   {
    "duration": 10,
    "start_time": "2022-06-07T20:30:59.780Z"
   },
   {
    "duration": 6,
    "start_time": "2022-06-07T20:30:59.791Z"
   },
   {
    "duration": 7,
    "start_time": "2022-06-07T20:30:59.799Z"
   },
   {
    "duration": 7,
    "start_time": "2022-06-07T20:30:59.807Z"
   },
   {
    "duration": 39,
    "start_time": "2022-06-07T20:30:59.816Z"
   },
   {
    "duration": 9,
    "start_time": "2022-06-07T20:30:59.857Z"
   },
   {
    "duration": 15,
    "start_time": "2022-06-07T20:30:59.869Z"
   },
   {
    "duration": 22,
    "start_time": "2022-06-07T20:30:59.886Z"
   },
   {
    "duration": 7,
    "start_time": "2022-06-07T20:30:59.910Z"
   },
   {
    "duration": 13,
    "start_time": "2022-06-07T20:30:59.918Z"
   },
   {
    "duration": 11,
    "start_time": "2022-06-07T20:30:59.933Z"
   },
   {
    "duration": 170,
    "start_time": "2022-06-07T20:30:59.945Z"
   },
   {
    "duration": 119,
    "start_time": "2022-06-07T20:31:00.117Z"
   },
   {
    "duration": 16,
    "start_time": "2022-06-07T20:31:00.238Z"
   },
   {
    "duration": 8,
    "start_time": "2022-06-07T20:31:00.255Z"
   },
   {
    "duration": 272,
    "start_time": "2022-06-07T20:31:00.265Z"
   },
   {
    "duration": 6,
    "start_time": "2022-06-07T20:31:00.538Z"
   },
   {
    "duration": 250,
    "start_time": "2022-06-07T20:31:00.552Z"
   },
   {
    "duration": 293,
    "start_time": "2022-06-07T20:31:00.804Z"
   },
   {
    "duration": 199,
    "start_time": "2022-06-07T20:31:01.098Z"
   },
   {
    "duration": 305,
    "start_time": "2022-06-07T20:31:01.299Z"
   },
   {
    "duration": 6,
    "start_time": "2022-06-07T20:31:01.605Z"
   },
   {
    "duration": 43,
    "start_time": "2022-06-07T20:31:01.612Z"
   },
   {
    "duration": 127,
    "start_time": "2022-06-07T20:31:01.656Z"
   },
   {
    "duration": 5,
    "start_time": "2022-06-07T20:31:01.785Z"
   },
   {
    "duration": 154,
    "start_time": "2022-06-07T20:31:01.792Z"
   },
   {
    "duration": 6,
    "start_time": "2022-06-07T20:31:01.948Z"
   },
   {
    "duration": 37,
    "start_time": "2022-06-07T20:31:01.956Z"
   },
   {
    "duration": 13,
    "start_time": "2022-06-07T20:31:01.995Z"
   },
   {
    "duration": 14,
    "start_time": "2022-06-07T20:31:02.010Z"
   },
   {
    "duration": 208,
    "start_time": "2022-06-07T20:31:02.026Z"
   },
   {
    "duration": 64,
    "start_time": "2022-06-07T20:31:02.236Z"
   },
   {
    "duration": 77,
    "start_time": "2022-06-07T20:31:02.301Z"
   },
   {
    "duration": 4,
    "start_time": "2022-06-07T20:31:02.381Z"
   },
   {
    "duration": 19,
    "start_time": "2022-06-07T20:31:02.386Z"
   },
   {
    "duration": 29,
    "start_time": "2022-06-07T20:31:02.407Z"
   },
   {
    "duration": 4,
    "start_time": "2022-06-07T20:31:02.437Z"
   },
   {
    "duration": 12,
    "start_time": "2022-06-07T20:31:02.442Z"
   },
   {
    "duration": 14,
    "start_time": "2022-06-07T20:31:02.455Z"
   },
   {
    "duration": 11,
    "start_time": "2022-06-07T20:31:02.470Z"
   },
   {
    "duration": 27,
    "start_time": "2022-06-07T20:31:02.482Z"
   },
   {
    "duration": 21,
    "start_time": "2022-06-07T20:31:02.511Z"
   },
   {
    "duration": 15,
    "start_time": "2022-06-07T20:31:02.534Z"
   },
   {
    "duration": 46,
    "start_time": "2022-06-07T20:31:02.550Z"
   },
   {
    "duration": 4,
    "start_time": "2022-06-07T20:31:02.598Z"
   },
   {
    "duration": 19,
    "start_time": "2022-06-07T20:31:02.604Z"
   },
   {
    "duration": 19,
    "start_time": "2022-06-07T20:31:02.625Z"
   },
   {
    "duration": 46,
    "start_time": "2022-08-21T10:02:02.068Z"
   },
   {
    "duration": 1019,
    "start_time": "2022-08-21T10:02:11.515Z"
   },
   {
    "duration": 7,
    "start_time": "2022-08-21T10:02:12.536Z"
   },
   {
    "duration": 69,
    "start_time": "2022-08-21T10:02:12.545Z"
   },
   {
    "duration": 6,
    "start_time": "2022-08-21T10:02:12.616Z"
   },
   {
    "duration": 16,
    "start_time": "2022-08-21T10:02:12.623Z"
   },
   {
    "duration": 24,
    "start_time": "2022-08-21T10:02:12.640Z"
   },
   {
    "duration": 28,
    "start_time": "2022-08-21T10:02:12.665Z"
   },
   {
    "duration": 12,
    "start_time": "2022-08-21T10:02:12.694Z"
   },
   {
    "duration": 22,
    "start_time": "2022-08-21T10:02:12.707Z"
   },
   {
    "duration": 29,
    "start_time": "2022-08-21T10:02:12.731Z"
   },
   {
    "duration": 39,
    "start_time": "2022-08-21T10:02:12.762Z"
   },
   {
    "duration": 143,
    "start_time": "2022-08-21T10:02:12.802Z"
   },
   {
    "duration": 11,
    "start_time": "2022-08-21T10:02:12.946Z"
   },
   {
    "duration": 28,
    "start_time": "2022-08-21T10:02:12.958Z"
   },
   {
    "duration": 66,
    "start_time": "2022-08-21T10:02:12.987Z"
   },
   {
    "duration": 7,
    "start_time": "2022-08-21T10:02:13.054Z"
   },
   {
    "duration": 27,
    "start_time": "2022-08-21T10:02:13.062Z"
   },
   {
    "duration": 14,
    "start_time": "2022-08-21T10:02:13.090Z"
   },
   {
    "duration": 180,
    "start_time": "2022-08-21T10:02:13.105Z"
   },
   {
    "duration": 123,
    "start_time": "2022-08-21T10:02:13.287Z"
   },
   {
    "duration": 5,
    "start_time": "2022-08-21T10:02:13.412Z"
   },
   {
    "duration": 21,
    "start_time": "2022-08-21T10:02:13.419Z"
   },
   {
    "duration": 257,
    "start_time": "2022-08-21T10:02:13.441Z"
   },
   {
    "duration": 6,
    "start_time": "2022-08-21T10:02:13.699Z"
   },
   {
    "duration": 198,
    "start_time": "2022-08-21T10:02:13.707Z"
   },
   {
    "duration": 295,
    "start_time": "2022-08-21T10:02:13.906Z"
   },
   {
    "duration": 200,
    "start_time": "2022-08-21T10:02:14.203Z"
   },
   {
    "duration": 314,
    "start_time": "2022-08-21T10:02:14.407Z"
   },
   {
    "duration": 10,
    "start_time": "2022-08-21T10:02:14.723Z"
   },
   {
    "duration": 13,
    "start_time": "2022-08-21T10:02:14.734Z"
   },
   {
    "duration": 3,
    "start_time": "2022-08-21T10:02:14.748Z"
   },
   {
    "duration": 142,
    "start_time": "2022-08-21T10:02:14.753Z"
   },
   {
    "duration": 4,
    "start_time": "2022-08-21T10:02:14.897Z"
   },
   {
    "duration": 153,
    "start_time": "2022-08-21T10:02:14.903Z"
   },
   {
    "duration": 5,
    "start_time": "2022-08-21T10:02:15.057Z"
   },
   {
    "duration": 24,
    "start_time": "2022-08-21T10:02:15.064Z"
   },
   {
    "duration": 5,
    "start_time": "2022-08-21T10:02:15.090Z"
   },
   {
    "duration": 12,
    "start_time": "2022-08-21T10:02:15.097Z"
   },
   {
    "duration": 226,
    "start_time": "2022-08-21T10:02:15.111Z"
   },
   {
    "duration": 9,
    "start_time": "2022-08-21T10:02:15.338Z"
   },
   {
    "duration": 65,
    "start_time": "2022-08-21T10:02:15.349Z"
   },
   {
    "duration": 9,
    "start_time": "2022-08-21T10:02:15.416Z"
   },
   {
    "duration": 76,
    "start_time": "2022-08-21T10:02:15.426Z"
   },
   {
    "duration": 4,
    "start_time": "2022-08-21T10:02:15.504Z"
   },
   {
    "duration": 8,
    "start_time": "2022-08-21T10:02:15.509Z"
   },
   {
    "duration": 23,
    "start_time": "2022-08-21T10:02:15.518Z"
   },
   {
    "duration": 3,
    "start_time": "2022-08-21T10:02:15.543Z"
   },
   {
    "duration": 9,
    "start_time": "2022-08-21T10:02:15.548Z"
   },
   {
    "duration": 29,
    "start_time": "2022-08-21T10:02:15.558Z"
   },
   {
    "duration": 7,
    "start_time": "2022-08-21T10:02:15.589Z"
   },
   {
    "duration": 11,
    "start_time": "2022-08-21T10:02:15.597Z"
   },
   {
    "duration": 7,
    "start_time": "2022-08-21T10:02:15.610Z"
   },
   {
    "duration": 13,
    "start_time": "2022-08-21T10:02:15.618Z"
   },
   {
    "duration": 7,
    "start_time": "2022-08-21T10:02:15.632Z"
   },
   {
    "duration": 23,
    "start_time": "2022-08-21T10:02:15.640Z"
   },
   {
    "duration": 4,
    "start_time": "2022-08-21T10:02:15.664Z"
   },
   {
    "duration": 25,
    "start_time": "2022-08-21T10:02:15.669Z"
   },
   {
    "duration": 7,
    "start_time": "2022-08-21T10:02:15.695Z"
   },
   {
    "duration": 13,
    "start_time": "2022-08-21T10:04:26.838Z"
   }
  ],
  "kernelspec": {
   "display_name": "Python 3 (ipykernel)",
   "language": "python",
   "name": "python3"
  },
  "language_info": {
   "codemirror_mode": {
    "name": "ipython",
    "version": 3
   },
   "file_extension": ".py",
   "mimetype": "text/x-python",
   "name": "python",
   "nbconvert_exporter": "python",
   "pygments_lexer": "ipython3",
   "version": "3.9.7"
  },
  "toc": {
   "base_numbering": 1,
   "nav_menu": {},
   "number_sections": true,
   "sideBar": true,
   "skip_h1_title": true,
   "title_cell": "Table of Contents",
   "title_sidebar": "Contents",
   "toc_cell": false,
   "toc_position": {},
   "toc_section_display": true,
   "toc_window_display": false
  }
 },
 "nbformat": 4,
 "nbformat_minor": 2
}
